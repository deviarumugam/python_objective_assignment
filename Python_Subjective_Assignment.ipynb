{
 "cells": [
  {
   "cell_type": "code",
   "execution_count": null,
   "metadata": {},
   "outputs": [],
   "source": [
    "# Q1. Write a Python program to get the string from the given string \n",
    "# where all the occurrence of its first char has been changed to '$,' \n",
    "# except first char itself?   \n",
    "# Sample String: 'prospect'\n",
    "# Expected Result : 'pros$ect'  "
   ]
  },
  {
   "cell_type": "code",
   "execution_count": 10,
   "metadata": {},
   "outputs": [
    {
     "name": "stdout",
     "output_type": "stream",
     "text": [
      "pros$ect\n"
     ]
    }
   ],
   "source": [
    "def change_char(str1):\n",
    "  char = str1[0]\n",
    "  str1 = str1.replace(char, '$')\n",
    "  str1 = char + str1[1:]\n",
    "  return str1\n",
    "print(change_char('prospect'))"
   ]
  },
  {
   "cell_type": "code",
   "execution_count": null,
   "metadata": {},
   "outputs": [],
   "source": [
    "# Q2. Write a Python program to get the single string from the two given strings, \n",
    "# and separated by the space and swap the first two characters of each string?          \n",
    "# Sample String : 'abc', 'xyz'. \n",
    "# Expected Result: 'xyc abz'  "
   ]
  },
  {
   "cell_type": "code",
   "execution_count": 11,
   "metadata": {},
   "outputs": [
    {
     "name": "stdout",
     "output_type": "stream",
     "text": [
      "xyc abz\n"
     ]
    }
   ],
   "source": [
    "def mix_up(a, b):\n",
    "  a1 = b[:2] + a[2:]\n",
    "  b1 = a[:2] + b[2:]\n",
    "  return a1 + ' ' + b1\n",
    "print(mix_up('abc', 'xyz'))"
   ]
  },
  {
   "cell_type": "code",
   "execution_count": null,
   "metadata": {},
   "outputs": [],
   "source": [
    "# Q3. Write the Python program to add 'ing' at the end of the given string (length of the string should be at least 3). \n",
    "# If given string already ends with 'ing,' then add 'ly' instead. \n",
    "# If string length of the given string is less than 3, leave it unchanged?  \n",
    "# Sample string:    ' abc ' \n",
    "# Expected result:   ' abcing ' \n",
    "# Sample string:   ' string ' \n",
    "# Expected result:   ' stringly '  "
   ]
  },
  {
   "cell_type": "code",
   "execution_count": 15,
   "metadata": {},
   "outputs": [
    {
     "name": "stdout",
     "output_type": "stream",
     "text": [
      "abcing\n",
      "stringly\n"
     ]
    }
   ],
   "source": [
    "def addstring(str1):\n",
    "  length = len(str1)\n",
    "  if length > 2:\n",
    "    if str1[-3:] == 'ing':\n",
    "      str1 += 'ly'\n",
    "    else:\n",
    "      str1 += 'ing'\n",
    "  return str1\n",
    "print(addstring('abc'))\n",
    "print(addstring('string'))"
   ]
  },
  {
   "cell_type": "code",
   "execution_count": null,
   "metadata": {},
   "outputs": [],
   "source": [
    "# Q4.  Write the Python program to find the first appearance of the substring 'not' and 'poor' from the given string, \n",
    "# if 'not' follows the 'poor', replace the whole 'not'...' poor' substring with 'good'.Return the resulting string.   \n",
    "# Sample string: 'The lyrics are not that poor!' 'The lyrics are poor!' \n",
    "# Expected Result: 'The lyrics are good!' 'The lyrics are poor!'   "
   ]
  },
  {
   "cell_type": "code",
   "execution_count": 20,
   "metadata": {},
   "outputs": [
    {
     "name": "stdout",
     "output_type": "stream",
     "text": [
      "The lyrics are good!\n",
      "The lyrics are poor!\n"
     ]
    }
   ],
   "source": [
    "def not_poor(str1):\n",
    "  snot = str1.find('not')\n",
    "  spoor = str1.find('poor')\n",
    "  if spoor > snot and snot>0 and spoor>0:\n",
    "    str1 = str1.replace(str1[snot:(spoor+4)], 'good')\n",
    "    return str1\n",
    "  else:\n",
    "    return str1\n",
    "print(not_poor('The lyrics are not that poor!'))\n",
    "print(not_poor('The lyrics are poor!'))\n"
   ]
  },
  {
   "cell_type": "code",
   "execution_count": null,
   "metadata": {},
   "outputs": [],
   "source": [
    "# Q5. Write the Python program to remove the characters which have odd index values of a given string. "
   ]
  },
  {
   "cell_type": "code",
   "execution_count": 39,
   "metadata": {},
   "outputs": [
    {
     "name": "stdout",
     "output_type": "stream",
     "text": [
      "ace\n",
      "pto\n"
     ]
    }
   ],
   "source": [
    "def odd_values_string(str):\n",
    "  result=\"\"\n",
    "  for i in range(len(str)):\n",
    "    if i % 2 == 0:\n",
    "      result = result + str[i]\n",
    "  return result\n",
    "\n",
    "print(odd_values_string('abcdef'))\n",
    "print(odd_values_string('python'))"
   ]
  },
  {
   "cell_type": "code",
   "execution_count": null,
   "metadata": {},
   "outputs": [],
   "source": [
    "# Q6. Write the Python function to get a string made of 4 copies of the last two characters \n",
    "# of the specified string (length must be at least 2).          \n",
    "# Sample function  and  result : \n",
    "# insert-end ('Python')  -> abababab insert-end('Exercises')  -> jkjkjkjk "
   ]
  },
  {
   "cell_type": "code",
   "execution_count": 29,
   "metadata": {},
   "outputs": [
    {
     "name": "stdout",
     "output_type": "stream",
     "text": [
      "abababab\n",
      "jkjkjkjk\n"
     ]
    }
   ],
   "source": [
    "def insert_end(str1):\n",
    "      str2=str1[:] * 4\n",
    "      return   str2\n",
    "print(insert_end('ab'))\n",
    "print(insert_end('jk'))"
   ]
  },
  {
   "cell_type": "code",
   "execution_count": null,
   "metadata": {},
   "outputs": [],
   "source": [
    "# Q7. Write the python function to get a string made of its first three characters of a specified string. \n",
    "# If the length of the string is less than 3 then return the original string.  \n",
    "# Sample function and result : first-three('ipy') -> ipy first-three('python') -> pyt  "
   ]
  },
  {
   "cell_type": "code",
   "execution_count": 32,
   "metadata": {},
   "outputs": [
    {
     "name": "stdout",
     "output_type": "stream",
     "text": [
      "ipy\n",
      "pyt\n"
     ]
    }
   ],
   "source": [
    "def first_three(str1):\n",
    "      str2=str1[:3]\n",
    "      return str2\n",
    "  \n",
    "print(first_three('ipy'))\n",
    "print(first_three('python'))"
   ]
  },
  {
   "cell_type": "code",
   "execution_count": null,
   "metadata": {},
   "outputs": [],
   "source": [
    "# Q8. Write the python program to print the following floating numbers up   to 2 decimal places? "
   ]
  },
  {
   "cell_type": "code",
   "execution_count": 34,
   "metadata": {},
   "outputs": [
    {
     "data": {
      "text/plain": [
       "2.35"
      ]
     },
     "execution_count": 34,
     "metadata": {},
     "output_type": "execute_result"
    }
   ],
   "source": [
    "def round_two_decimal(str1):\n",
    "      str2=round(str1, 2)\n",
    "      return str2\n",
    "round_two_decimal(1.2345)\n",
    "round_two_decimal(2.345678)"
   ]
  },
  {
   "cell_type": "code",
   "execution_count": null,
   "metadata": {},
   "outputs": [],
   "source": [
    "# Q9. Write the Python program to format a number with a percentage? "
   ]
  },
  {
   "cell_type": "code",
   "execution_count": 42,
   "metadata": {},
   "outputs": [
    {
     "name": "stdout",
     "output_type": "stream",
     "text": [
      "\n",
      "Original Number:  0.5\n",
      "Formatted Number with percentage: 50.00%\n",
      "Original Number:  -0.451\n",
      "Formatted Number with percentage: -45.10%\n"
     ]
    }
   ],
   "source": [
    "x = 0.50\n",
    "y = -0.451\n",
    "print(\"\\nOriginal Number: \", x)\n",
    "print(\"Formatted Number with percentage: \"+\"{:.2%}\".format(x));\n",
    "print(\"Original Number: \", y)\n",
    "print(\"Formatted Number with percentage: \"+\"{:.2%}\".format(y));"
   ]
  },
  {
   "cell_type": "code",
   "execution_count": null,
   "metadata": {},
   "outputs": [],
   "source": [
    "# Q10. Write the Python program to count occurrences of a substring in a   String? "
   ]
  },
  {
   "cell_type": "code",
   "execution_count": 45,
   "metadata": {},
   "outputs": [
    {
     "name": "stdout",
     "output_type": "stream",
     "text": [
      "2\n"
     ]
    }
   ],
   "source": [
    "str1 = 'The milk man delivers the milk daily.'\n",
    "print(str1.count(\"milk\"))"
   ]
  },
  {
   "cell_type": "code",
   "execution_count": null,
   "metadata": {},
   "outputs": [],
   "source": [
    "# Q11. Write the Python program to count repeated characters in a string.  \n",
    "# Sample string: ' thequickbrownjumpsoverthelazydog ' Expected output: o 3 e 3 u 2 h 2 "
   ]
  },
  {
   "cell_type": "code",
   "execution_count": 46,
   "metadata": {},
   "outputs": [
    {
     "name": "stdout",
     "output_type": "stream",
     "text": [
      "o 4\n",
      "e 3\n",
      "t 2\n",
      "h 2\n",
      "u 2\n",
      "r 2\n"
     ]
    }
   ],
   "source": [
    "import collections\n",
    "str1 = 'thequickbrownfoxjumpsoverthelazydog'\n",
    "d = collections.defaultdict(int)\n",
    "for c in str1:\n",
    "    d[c] += 1\n",
    "\n",
    "for c in sorted(d, key=d.get, reverse=True):\n",
    "  if d[c] > 1:\n",
    "      print('%s %d' % (c, d[c]))"
   ]
  },
  {
   "cell_type": "code",
   "execution_count": null,
   "metadata": {},
   "outputs": [],
   "source": [
    "# Q12. Write the Python program to print the square and cube symbol in   the area of a rectangle and volume of a cylinder?\n",
    "# Sample output- The area of the rectangle is 1256.66cm2 The volume of the cylinder is 1254.725cm3 "
   ]
  },
  {
   "cell_type": "code",
   "execution_count": 47,
   "metadata": {},
   "outputs": [
    {
     "name": "stdout",
     "output_type": "stream",
     "text": [
      "The area of the rectangle is 1256.66cm²\n",
      "The volume of the cylinder is 1254.725cm³\n"
     ]
    }
   ],
   "source": [
    "area = 1256.66\n",
    "volume = 1254.725\n",
    "decimals = 2\n",
    "print(\"The area of the rectangle is {0:.{1}f}cm\\u00b2\".format(area, decimals))\n",
    "decimals = 3\n",
    "print(\"The volume of the cylinder is {0:.{1}f}cm\\u00b3\".format(volume, decimals))"
   ]
  },
  {
   "cell_type": "code",
   "execution_count": null,
   "metadata": {},
   "outputs": [],
   "source": [
    "# Q13. Write the Python program to check if a string contains all letters of   the alphabet?"
   ]
  },
  {
   "cell_type": "code",
   "execution_count": 91,
   "metadata": {},
   "outputs": [],
   "source": [
    "def alpha_str(str1):\n",
    " if str1.isalpha()==True:\n",
    "  print(\"The given string contains all the letters of the alphabet\")\n",
    " else:\n",
    "  print(\"The given string contains some other symbols other than the alphabet\")      "
   ]
  },
  {
   "cell_type": "code",
   "execution_count": 96,
   "metadata": {},
   "outputs": [
    {
     "name": "stdout",
     "output_type": "stream",
     "text": [
      "The given string contains all the letters of the alphabet\n"
     ]
    }
   ],
   "source": [
    "alpha_str(\"Fourfoxes\")"
   ]
  },
  {
   "cell_type": "code",
   "execution_count": 98,
   "metadata": {},
   "outputs": [
    {
     "name": "stdout",
     "output_type": "stream",
     "text": [
      "The given string contains some other symbols other than the alphabet\n"
     ]
    }
   ],
   "source": [
    "alpha_str(\"4fox\")"
   ]
  },
  {
   "cell_type": "code",
   "execution_count": null,
   "metadata": {},
   "outputs": [],
   "source": [
    "# Q14.  Write the Python program to find the second most repeated word   in a given string? "
   ]
  },
  {
   "cell_type": "code",
   "execution_count": 106,
   "metadata": {},
   "outputs": [
    {
     "name": "stdout",
     "output_type": "stream",
     "text": [
      "1\n"
     ]
    }
   ],
   "source": [
    "def word_count(str):\n",
    "    counts = dict()\n",
    "    words = str.split()\n",
    "\n",
    "    for word in words:\n",
    "        if word in counts:\n",
    "            counts[word] += 1\n",
    "        else:\n",
    "            counts[word] = 1\n",
    "    return counts[word]\n",
    "    #counts_x = sorted(counts.items(), key=lambda kv: kv[1])\n",
    "    #print(counts_x)\n",
    "    #return counts_x[-2]\n",
    " \n",
    "print(word_count(\"Iam learning python and python is the powerful language for the machine learning and the deep learning.\"))"
   ]
  },
  {
   "cell_type": "code",
   "execution_count": null,
   "metadata": {},
   "outputs": [],
   "source": [
    "# Q15. Write the Python program to find the minimum window in the given  string, \n",
    "# which will contains all the characters of another given   strings?             \n",
    "# Example 1 Input : string1 = \" PRWSOERIUSFK \" string2 = \" OSU \" Output: Minimum window is \"OERIUS\" "
   ]
  },
  {
   "cell_type": "code",
   "execution_count": 107,
   "metadata": {},
   "outputs": [
    {
     "name": "stdout",
     "output_type": "stream",
     "text": [
      "Original Strings:\n",
      " PRWSOERIUSFK \n",
      " OSU\n",
      "Minimum window:\n",
      "OERIUS\n"
     ]
    }
   ],
   "source": [
    "import collections\n",
    "def min_window(str1, str2):\n",
    "    result_char, missing_char = collections.Counter(str2), len(str2)\n",
    "    i = p = q = 0\n",
    "    for j, c in enumerate(str1, 1):\n",
    "        missing_char -= result_char[c] > 0\n",
    "        result_char[c] -= 1\n",
    "        if not missing_char:\n",
    "            while i < q and result_char[str1[i]] < 0:\n",
    "                result_char[str1[i]] += 1\n",
    "                i += 1\n",
    "            if not q or j - i <= q - p:\n",
    "                p, q = i, j\n",
    "    return str1[p:q]\n",
    "           \n",
    "str1 = \"PRWSOERIUSFK\"\n",
    "str2 = \"OSU\"\n",
    "print(\"Original Strings:\\n\",str1,\"\\n\",str2)\n",
    "print(\"Minimum window:\")\n",
    "print(min_window(str1,str2))"
   ]
  },
  {
   "cell_type": "code",
   "execution_count": null,
   "metadata": {},
   "outputs": [],
   "source": [
    "# Q16. Write the Python program to find smallest window that contains all   characters of the given string?  \n",
    "# Original Strings:  asdaewsqgtwwsa  \n",
    "# Smallest window that contains all characters of the said string: \n",
    "# Daewsqgt  "
   ]
  },
  {
   "cell_type": "code",
   "execution_count": 108,
   "metadata": {},
   "outputs": [
    {
     "name": "stdout",
     "output_type": "stream",
     "text": [
      "Original Strings:\n",
      " asdaewsqgtwwsa\n",
      "\n",
      "Smallest window that contains all characters of the said string:\n",
      "daewsqgt\n"
     ]
    }
   ],
   "source": [
    "from collections import defaultdict   \n",
    "\n",
    "def find_sub_string(str): \n",
    "    str_len = len(str) \n",
    "      \n",
    "    # Count all distinct characters. \n",
    "    dist_count_char = len(set([x for x in str])) \n",
    "  \n",
    "    ctr, start_pos, start_pos_index, min_len = 0, 0, -1, 9999999999\n",
    "    curr_count = defaultdict(lambda: 0) \n",
    "    for i in range(str_len): \n",
    "        curr_count[str[i]] += 1\n",
    " \n",
    "        if curr_count[str[i]] == 1: \n",
    "            ctr += 1\n",
    "  \n",
    "        if ctr == dist_count_char: \n",
    "            while curr_count[str[start_pos]] > 1: \n",
    "                if curr_count[str[start_pos]] > 1: \n",
    "                    curr_count[str[start_pos]] -= 1\n",
    "                start_pos += 1\n",
    "  \n",
    "            len_window = i - start_pos + 1\n",
    "            if min_len > len_window: \n",
    "                min_len = len_window \n",
    "                start_pos_index = start_pos \n",
    "    return str[start_pos_index: start_pos_index + min_len] \n",
    "      \n",
    "str1 = \"asdaewsqgtwwsa\"\n",
    "print(\"Original Strings:\\n\",str1)\n",
    "print(\"\\nSmallest window that contains all characters of the said string:\")\n",
    "print(find_sub_string(str1)) "
   ]
  },
  {
   "cell_type": "code",
   "execution_count": null,
   "metadata": {},
   "outputs": [],
   "source": [
    "# Q17.  Write the Python program to count number of substrings from a   given string of\n",
    "# lowercase alphabets with exactly k distinct (given)   characters?             \n",
    "# Input a string (lowercase alphabets): wolf Input k:  4 Number of substrings with exactly 4 distinct characters: 1 "
   ]
  },
  {
   "cell_type": "code",
   "execution_count": 109,
   "metadata": {},
   "outputs": [
    {
     "name": "stdout",
     "output_type": "stream",
     "text": [
      "Input a string (lowercase alphabets):adevi\n",
      "Input k: 3\n",
      "Number of substrings with exactly 3 distinct characters : 3\n"
     ]
    }
   ],
   "source": [
    "def count_k_dist(str1, k): \n",
    "\tstr_len = len(str1) \n",
    "\t\n",
    "\tresult = 0\n",
    "\n",
    "\tctr = [0] * 27\n",
    "\n",
    "\tfor i in range(0, str_len): \n",
    "\t\tdist_ctr = 0\n",
    "\n",
    "\t\tctr = [0] * 27\n",
    "\n",
    "\t\tfor j in range(i, str_len): \n",
    "\t\t\t\n",
    "\t\t\tif(ctr[ord(str1[j]) - 97] == 0): \n",
    "\t\t\t\tdist_ctr += 1\n",
    "\n",
    "\t\t\tctr[ord(str1[j]) - 97] += 1\n",
    "\n",
    "\t\t\tif(dist_ctr == k): \n",
    "\t\t\t\tresult += 1\n",
    "\t\t\tif(dist_ctr > k): \n",
    "\t\t\t\tbreak\n",
    "\n",
    "\treturn result \n",
    "\n",
    "str1 = input(\"Input a string (lowercase alphabets):\")\n",
    "k = int(input(\"Input k: \"))\n",
    "print(\"Number of substrings with exactly\", k, \"distinct characters : \", end = \"\") \n",
    "print(count_k_dist(str1, k))"
   ]
  },
  {
   "cell_type": "code",
   "execution_count": null,
   "metadata": {},
   "outputs": [],
   "source": [
    "# Q18. Write the Python program to count number of non-empty   substrings of the given string?   \n",
    "# Input a string:  w3resource Number of substrings: 55  "
   ]
  },
  {
   "cell_type": "code",
   "execution_count": 110,
   "metadata": {},
   "outputs": [
    {
     "name": "stdout",
     "output_type": "stream",
     "text": [
      "Input a string: sert\n",
      "Number of substrings:\n",
      "10\n"
     ]
    }
   ],
   "source": [
    "def number_of_substrings(str): \n",
    "\tstr_len = len(str); \n",
    "\treturn int(str_len * (str_len + 1) / 2); \n",
    "\n",
    "str1 = input(\"Input a string: \")\n",
    "print(\"Number of substrings:\") \n",
    "print(number_of_substrings(str1))"
   ]
  },
  {
   "cell_type": "code",
   "execution_count": null,
   "metadata": {},
   "outputs": [],
   "source": [
    "# Q19. Write the Python program to count number of substrings with same   first and last characters of the given string?   \n",
    "# Input a string:  abcd 4  "
   ]
  },
  {
   "cell_type": "code",
   "execution_count": 111,
   "metadata": {},
   "outputs": [
    {
     "name": "stdout",
     "output_type": "stream",
     "text": [
      "Input a string: aswr\n",
      "4\n"
     ]
    }
   ],
   "source": [
    "def no_of_substring_with_equalEnds(str1): \n",
    "\tresult = 0; \n",
    "\tn = len(str1); \n",
    "\tfor i in range(n): \n",
    "\t\tfor j in range(i, n): \n",
    "\t\t\tif (str1[i] == str1[j]): \n",
    "\t\t\t\tresult = result + 1\n",
    "\treturn result \n",
    "str1 = input(\"Input a string: \")\n",
    "print(no_of_substring_with_equalEnds(str1))"
   ]
  },
  {
   "cell_type": "code",
   "execution_count": null,
   "metadata": {},
   "outputs": [],
   "source": [
    "# Q20. Write the Python program to count the number of strings where the   string length is 2 or more,\n",
    "# and  first and last character are same   from a given list of strings.            \n",
    "# Sample List : ['abc', 'xyz', 'wxw', '1331'] Expected Result: 2  "
   ]
  },
  {
   "cell_type": "code",
   "execution_count": 112,
   "metadata": {},
   "outputs": [
    {
     "name": "stdout",
     "output_type": "stream",
     "text": [
      "2\n"
     ]
    }
   ],
   "source": [
    "def match_words(words):\n",
    "  ctr = 0\n",
    "\n",
    "  for word in words:\n",
    "    if len(word) > 1 and word[0] == word[-1]:\n",
    "      ctr += 1\n",
    "  return ctr\n",
    "\n",
    "print(match_words(['abc', 'xyz', 'aba', '1221']))"
   ]
  },
  {
   "cell_type": "code",
   "execution_count": null,
   "metadata": {},
   "outputs": [],
   "source": [
    "# Q21. Write the Python program to get a list, sorted in increasing order by  \n",
    "# the last element in each tuple from the given list of non-empty   tuples?           \n",
    "# Sample List - [ (2, 5), (1, 2), (4, 4), (2, 3), (2, 1) ]\n",
    "# Expected Result - [ (2, 1),  (1, 2), (2, 3), (4, 4), (2, 5) ] "
   ]
  },
  {
   "cell_type": "code",
   "execution_count": 113,
   "metadata": {},
   "outputs": [
    {
     "name": "stdout",
     "output_type": "stream",
     "text": [
      "[(2, 1), (1, 2), (2, 3), (4, 4), (2, 5)]\n"
     ]
    }
   ],
   "source": [
    "def last(n): return n[-1]\n",
    "\n",
    "def sort_list_last(tuples):\n",
    "  return sorted(tuples, key=last)\n",
    "\n",
    "print(sort_list_last([(2, 5), (1, 2), (4, 4), (2, 3), (2, 1)]))"
   ]
  },
  {
   "cell_type": "code",
   "execution_count": null,
   "metadata": {},
   "outputs": [],
   "source": [
    "# Q22. Write the Python program to remove duplicates from a list? "
   ]
  },
  {
   "cell_type": "code",
   "execution_count": 114,
   "metadata": {},
   "outputs": [
    {
     "name": "stdout",
     "output_type": "stream",
     "text": [
      "{40, 10, 80, 50, 20, 60, 30}\n"
     ]
    }
   ],
   "source": [
    "a = [10,20,30,20,10,50,60,40,80,50,40]\n",
    "\n",
    "dup_items = set()\n",
    "uniq_items = []\n",
    "for x in a:\n",
    "    if x not in dup_items:\n",
    "        uniq_items.append(x)\n",
    "        dup_items.add(x)\n",
    "\n",
    "print(dup_items)"
   ]
  },
  {
   "cell_type": "code",
   "execution_count": null,
   "metadata": {},
   "outputs": [],
   "source": [
    "# Q23. Write the Python program to find the list of words that are longer   than n from a given list of words?  "
   ]
  },
  {
   "cell_type": "code",
   "execution_count": 115,
   "metadata": {},
   "outputs": [
    {
     "name": "stdout",
     "output_type": "stream",
     "text": [
      "['quick', 'brown', 'jumps', 'over', 'lazy']\n"
     ]
    }
   ],
   "source": [
    "def long_words(n, str):\n",
    "    word_len = []\n",
    "    txt = str.split(\" \")\n",
    "    for x in txt:\n",
    "        if len(x) > n:\n",
    "            word_len.append(x)\n",
    "    return word_len\t\n",
    "print(long_words(3, \"The quick brown fox jumps over the lazy dog\"))"
   ]
  },
  {
   "cell_type": "code",
   "execution_count": null,
   "metadata": {},
   "outputs": [],
   "source": [
    "# Q24. Write the Python program to print a specified list after removing the  0th, 4th, and 5th elements?    \n",
    "# Sample List - ['Red', 'Green', 'White', 'Black', 'Pink', 'Yellow'] Expected Output - ['Green', 'White', 'Black']  "
   ]
  },
  {
   "cell_type": "code",
   "execution_count": 116,
   "metadata": {},
   "outputs": [
    {
     "name": "stdout",
     "output_type": "stream",
     "text": [
      "['Green', 'White', 'Black']\n"
     ]
    }
   ],
   "source": [
    "color = ['Red', 'Green', 'White', 'Black', 'Pink', 'Yellow']\n",
    "color = [x for (i,x) in enumerate(color) if i not in (0,4,5)]\n",
    "print(color)"
   ]
  },
  {
   "cell_type": "code",
   "execution_count": null,
   "metadata": {},
   "outputs": [],
   "source": [
    "# Q25. Write the Python program to generate all permutations of a list in   Python?  "
   ]
  },
  {
   "cell_type": "code",
   "execution_count": 117,
   "metadata": {},
   "outputs": [
    {
     "name": "stdout",
     "output_type": "stream",
     "text": [
      "[(1, 2, 3), (1, 3, 2), (2, 1, 3), (2, 3, 1), (3, 1, 2), (3, 2, 1)]\n"
     ]
    }
   ],
   "source": [
    "import itertools\n",
    "print(list(itertools.permutations([1,2,3])))"
   ]
  },
  {
   "cell_type": "code",
   "execution_count": null,
   "metadata": {},
   "outputs": [],
   "source": [
    "# Q26. Write the Python program to convert a pair of values into a sorted   unique array?              \n",
    "# Original List-  [ (1, 2), (3, 4), (1, 2), (5, 6), (7, 8), (1, 2), (3, 4), (3, 4), (7, 8), (9, 10) ]              \n",
    "# Sorted Unique Data- [ 1, 2, 3, 4, 5, 6, 7, 8, 9, 10 ]   "
   ]
  },
  {
   "cell_type": "code",
   "execution_count": 118,
   "metadata": {},
   "outputs": [
    {
     "name": "stdout",
     "output_type": "stream",
     "text": [
      "Original List:  [(1, 2), (3, 4), (1, 2), (5, 6), (7, 8), (1, 2), (3, 4), (3, 4), (7, 8), (9, 10)]\n",
      "Sorted Unique Data: [1, 2, 3, 4, 5, 6, 7, 8, 9, 10]\n"
     ]
    }
   ],
   "source": [
    "L = [(1, 2), (3, 4), (1, 2), (5, 6), (7, 8), (1, 2), (3, 4), (3, 4),\n",
    " (7, 8), (9, 10)]\n",
    "print(\"Original List: \", L)\n",
    "print(\"Sorted Unique Data:\",sorted(set().union(*L)))"
   ]
  },
  {
   "cell_type": "code",
   "execution_count": null,
   "metadata": {},
   "outputs": [],
   "source": [
    "# Q27.  Write the Python class to convert an integer to a roman numeral? "
   ]
  },
  {
   "cell_type": "code",
   "execution_count": 119,
   "metadata": {},
   "outputs": [
    {
     "name": "stdout",
     "output_type": "stream",
     "text": [
      "I\n",
      "MMMM\n"
     ]
    }
   ],
   "source": [
    "class py_solution:\n",
    "    def int_to_Roman(self, num):\n",
    "        val = [\n",
    "            1000, 900, 500, 400,\n",
    "            100, 90, 50, 40,\n",
    "            10, 9, 5, 4,\n",
    "            1\n",
    "            ]\n",
    "        syb = [\n",
    "            \"M\", \"CM\", \"D\", \"CD\",\n",
    "            \"C\", \"XC\", \"L\", \"XL\",\n",
    "            \"X\", \"IX\", \"V\", \"IV\",\n",
    "            \"I\"\n",
    "            ]\n",
    "        roman_num = ''\n",
    "        i = 0\n",
    "        while  num > 0:\n",
    "            for _ in range(num // val[i]):\n",
    "                roman_num += syb[i]\n",
    "                num -= val[i]\n",
    "            i += 1\n",
    "        return roman_num\n",
    "\n",
    "\n",
    "print(py_solution().int_to_Roman(1))\n",
    "print(py_solution().int_to_Roman(4000))"
   ]
  },
  {
   "cell_type": "code",
   "execution_count": null,
   "metadata": {},
   "outputs": [],
   "source": [
    "# Q28 Write the Python class to convert a Roman numeral to an integer? "
   ]
  },
  {
   "cell_type": "code",
   "execution_count": 120,
   "metadata": {},
   "outputs": [
    {
     "name": "stdout",
     "output_type": "stream",
     "text": [
      "3986\n",
      "4000\n",
      "100\n"
     ]
    }
   ],
   "source": [
    "class py_solution:\n",
    "    def roman_to_int(self, s):\n",
    "        rom_val = {'I': 1, 'V': 5, 'X': 10, 'L': 50, 'C': 100, 'D': 500, 'M': 1000}\n",
    "        int_val = 0\n",
    "        for i in range(len(s)):\n",
    "            if i > 0 and rom_val[s[i]] > rom_val[s[i - 1]]:\n",
    "                int_val += rom_val[s[i]] - 2 * rom_val[s[i - 1]]\n",
    "            else:\n",
    "                int_val += rom_val[s[i]]\n",
    "        return int_val\n",
    "\n",
    "print(py_solution().roman_to_int('MMMCMLXXXVI'))\n",
    "print(py_solution().roman_to_int('MMMM'))\n",
    "print(py_solution().roman_to_int('C'))"
   ]
  },
  {
   "cell_type": "code",
   "execution_count": null,
   "metadata": {},
   "outputs": [],
   "source": [
    "# Q29. Write the Python class to find  the validity of the string of the parentheses, \n",
    "# '(', ')', '{', '}', '[' and '] and the brackets must be closed  in the correct order,\n",
    "# example - \"()\" and \"()[]{}\" are valid but \"[)\", \"({[)]\" and \"{{{\" are invalid.   "
   ]
  },
  {
   "cell_type": "code",
   "execution_count": 121,
   "metadata": {},
   "outputs": [
    {
     "name": "stdout",
     "output_type": "stream",
     "text": [
      "True\n",
      "False\n",
      "True\n"
     ]
    }
   ],
   "source": [
    "class py_solution:\n",
    "   def is_valid_parenthese(self, str1):\n",
    "        stack, pchar = [], {\"(\": \")\", \"{\": \"}\", \"[\": \"]\"}\n",
    "        for parenthese in str1:\n",
    "            if parenthese in pchar:\n",
    "                stack.append(parenthese)\n",
    "            elif len(stack) == 0 or pchar[stack.pop()] != parenthese:\n",
    "                return False\n",
    "        return len(stack) == 0\n",
    "\n",
    "print(py_solution().is_valid_parenthese(\"(){}[]\"))\n",
    "print(py_solution().is_valid_parenthese(\"()[{)}\"))\n",
    "print(py_solution().is_valid_parenthese(\"()\"))"
   ]
  },
  {
   "cell_type": "code",
   "execution_count": null,
   "metadata": {},
   "outputs": [],
   "source": [
    "# Q30. Write the Python class to get all possible unique subsets from a set   of distinct integers?  \n",
    "# Input - [4, 5, 6] Output - [[], [6], [5], [5, 6], [4], [4, 6], [4, 5], [4, 5, 6]] "
   ]
  },
  {
   "cell_type": "code",
   "execution_count": 122,
   "metadata": {},
   "outputs": [
    {
     "name": "stdout",
     "output_type": "stream",
     "text": [
      "[[], [6], [5], [5, 6], [4], [4, 6], [4, 5], [4, 5, 6]]\n"
     ]
    }
   ],
   "source": [
    "class py_solution:\n",
    "    def sub_sets(self, sset):\n",
    "        return self.subsetsRecur([], sorted(sset))\n",
    "    \n",
    "    def subsetsRecur(self, current, sset):\n",
    "        if sset:\n",
    "            return self.subsetsRecur(current, sset[1:]) + self.subsetsRecur(current + [sset[0]], sset[1:])\n",
    "        return [current]\n",
    "\n",
    "print(py_solution().sub_sets([4,5,6]))"
   ]
  },
  {
   "cell_type": "code",
   "execution_count": null,
   "metadata": {},
   "outputs": [],
   "source": [
    "# Q31. Write the Python class to find a pair of elements (indices of the two   numbers) \n",
    "# from a given array whose sum equals the specific target   number?      \n",
    "# Input: numbers- [10,20,10,40,50,60,70], target=50 Output- 3, 4 "
   ]
  },
  {
   "cell_type": "code",
   "execution_count": 123,
   "metadata": {},
   "outputs": [
    {
     "name": "stdout",
     "output_type": "stream",
     "text": [
      "index1=2, index2=3\n"
     ]
    }
   ],
   "source": [
    "class py_solution:\n",
    "   def twoSum(self, nums, target):\n",
    "        lookup = {}\n",
    "        for i, num in enumerate(nums):\n",
    "            if target - num in lookup:\n",
    "                return (lookup[target - num], i )\n",
    "            lookup[num] = i\n",
    "print(\"index1=%d, index2=%d\" % py_solution().twoSum((10,20,10,40,50,60,70),50))"
   ]
  },
  {
   "cell_type": "code",
   "execution_count": null,
   "metadata": {},
   "outputs": [],
   "source": [
    "# Q32. Write the Python class to find the three elements that sum to zero   from the set of n real numbers?  \n",
    "# Input array- [-25, -10, -7, -3, 2, 4, 8, 10] Output - [[-10, 2, 8], [-7, -3, 10]] "
   ]
  },
  {
   "cell_type": "code",
   "execution_count": 125,
   "metadata": {},
   "outputs": [
    {
     "name": "stdout",
     "output_type": "stream",
     "text": [
      "[[-10, 2, 8], [-7, -3, 10]]\n"
     ]
    }
   ],
   "source": [
    "class py_solution:\n",
    " def threeSum(self, nums):\n",
    "        nums, result, i = sorted(nums), [], 0\n",
    "        while i < len(nums) - 2:\n",
    "            j, k = i + 1, len(nums) - 1\n",
    "            while j < k:\n",
    "                if nums[i] + nums[j] + nums[k] < 0:\n",
    "                    j += 1\n",
    "                elif nums[i] + nums[j] + nums[k] > 0:\n",
    "                    k -= 1\n",
    "                else:\n",
    "                    result.append([nums[i], nums[j], nums[k]])\n",
    "                    j, k = j + 1, k - 1\n",
    "                    while j < k and nums[j] == nums[j - 1]:\n",
    "                        j += 1\n",
    "                    while j < k and nums[k] == nums[k + 1]:\n",
    "                        k -= 1\n",
    "            i += 1\n",
    "            while i < len(nums) - 2 and nums[i] == nums[i - 1]:\n",
    "                i += 1\n",
    "        return result\n",
    "print(py_solution().threeSum([-25, -10, -7, -3, 2, 4, 8, 10]))"
   ]
  },
  {
   "cell_type": "code",
   "execution_count": null,
   "metadata": {},
   "outputs": [],
   "source": [
    "# Q33. Write the Python class to implement pow(x, n)? "
   ]
  },
  {
   "cell_type": "code",
   "execution_count": 126,
   "metadata": {},
   "outputs": [
    {
     "name": "stdout",
     "output_type": "stream",
     "text": [
      "0.125\n",
      "243\n",
      "1\n"
     ]
    }
   ],
   "source": [
    "class py_solution:\n",
    "   def pow(self, x, n):\n",
    "        if x==0 or x==1 or n==1:\n",
    "            return x \n",
    "\n",
    "        if x==-1:\n",
    "            if n%2 ==0:\n",
    "                return 1\n",
    "            else:\n",
    "                return -1\n",
    "        if n==0:\n",
    "            return 1\n",
    "        if n<0:\n",
    "            return 1/self.pow(x,-n)\n",
    "        val = self.pow(x,n//2)\n",
    "        if n%2 ==0:\n",
    "            return val*val\n",
    "        return val*val*x\n",
    "\n",
    "print(py_solution().pow(2, -3));\n",
    "print(py_solution().pow(3, 5));\n",
    "print(py_solution().pow(100, 0))"
   ]
  },
  {
   "cell_type": "code",
   "execution_count": null,
   "metadata": {},
   "outputs": [],
   "source": [
    "# Q34. Write the Python class which has two methods get_String and   \n",
    "# print_String. get_String accept the string from the user and  \n",
    "# print_String print the string in upper case. "
   ]
  },
  {
   "cell_type": "code",
   "execution_count": 127,
   "metadata": {},
   "outputs": [
    {
     "name": "stdout",
     "output_type": "stream",
     "text": [
      "devi\n",
      "DEVI\n"
     ]
    }
   ],
   "source": [
    "class IOString():\n",
    "    def __init__(self):\n",
    "        self.str1 = \"\"\n",
    "\n",
    "    def get_String(self):\n",
    "        self.str1 = input()\n",
    "\n",
    "    def print_String(self):\n",
    "        print(self.str1.upper())\n",
    "\n",
    "str1 = IOString()\n",
    "str1.get_String()\n",
    "str1.print_String()"
   ]
  },
  {
   "cell_type": "code",
   "execution_count": null,
   "metadata": {},
   "outputs": [],
   "source": [
    "# Q35. Write the Python class named Rectangle constructed by a length   \n",
    "# and width and the method which will compute the area of the   rectangle?   "
   ]
  },
  {
   "cell_type": "code",
   "execution_count": 128,
   "metadata": {},
   "outputs": [
    {
     "name": "stdout",
     "output_type": "stream",
     "text": [
      "120\n"
     ]
    }
   ],
   "source": [
    "class Rectangle():\n",
    "    def __init__(self, l, w):\n",
    "        self.length = l\n",
    "        self.width  = w\n",
    "\n",
    "    def rectangle_area(self):\n",
    "        return self.length*self.width\n",
    "\n",
    "newRectangle = Rectangle(12, 10)\n",
    "print(newRectangle.rectangle_area())"
   ]
  },
  {
   "cell_type": "code",
   "execution_count": null,
   "metadata": {},
   "outputs": [],
   "source": [
    "#  Q36.  Write the Python class named Circle constructed by the radius  \n",
    "# and two methods which will compute the area and perimeter of   the circle? "
   ]
  },
  {
   "cell_type": "code",
   "execution_count": 129,
   "metadata": {},
   "outputs": [
    {
     "name": "stdout",
     "output_type": "stream",
     "text": [
      "200.96\n",
      "50.24\n"
     ]
    }
   ],
   "source": [
    "class Circle():\n",
    "    def __init__(self, r):\n",
    "        self.radius = r\n",
    "\n",
    "    def area(self):\n",
    "        return self.radius**2*3.14\n",
    "    \n",
    "    def perimeter(self):\n",
    "        return 2*self.radius*3.14\n",
    "\n",
    "NewCircle = Circle(8)\n",
    "print(NewCircle.area())\n",
    "print(NewCircle.perimeter())"
   ]
  },
  {
   "cell_type": "code",
   "execution_count": null,
   "metadata": {},
   "outputs": [],
   "source": [
    "# Q37. Write the Python program to get the class name of an instance in   Python?"
   ]
  },
  {
   "cell_type": "code",
   "execution_count": 130,
   "metadata": {},
   "outputs": [
    {
     "name": "stdout",
     "output_type": "stream",
     "text": [
      "cycle\n"
     ]
    }
   ],
   "source": [
    "import itertools\n",
    "x = itertools.cycle('ABCD')\n",
    "print(type(x).__name__)"
   ]
  },
  {
   "cell_type": "code",
   "execution_count": null,
   "metadata": {},
   "outputs": [],
   "source": [
    "# Q38. Write the Python program to count the number of students of   individual class?   \n",
    "# Sample data  classes = ( ('V', 1), ('VI', 1), ('V', 2), ('VI', 2), ('VI', 3), ('VII', 1), ) \n",
    "# Expected Output- Counter({'VI': 3, 'V': 2, 'VII': 1})   "
   ]
  },
  {
   "cell_type": "code",
   "execution_count": 131,
   "metadata": {},
   "outputs": [
    {
     "name": "stdout",
     "output_type": "stream",
     "text": [
      "Counter({'VI': 3, 'V': 2, 'VII': 1})\n"
     ]
    }
   ],
   "source": [
    "from collections import Counter\n",
    "classes = (\n",
    "    ('V', 1),\n",
    "    ('VI', 1),\n",
    "    ('V', 2),\n",
    "    ('VI', 2),\n",
    "    ('VI', 3),\n",
    "    ('VII', 1),\n",
    ")\n",
    "students = Counter(class_name for class_name, no_students in classes)\n",
    "print(students)"
   ]
  },
  {
   "cell_type": "code",
   "execution_count": null,
   "metadata": {},
   "outputs": [],
   "source": [
    "# Q39. Write the Python program to create an instance of an OrderedDict  \n",
    "# using the given dictionary and sort dictionary during the creation and \n",
    "# print members of the dictionary in reverse order?   \n",
    "# Expected Output- Angola 244. Andorra 376. Algeria 213. Afghanistan 93. Albania 355. \n",
    "# In reverse order- Albania  355. Afghanistan  93. Algeria  213. Andorra  376. Angola  244.  "
   ]
  },
  {
   "cell_type": "code",
   "execution_count": 132,
   "metadata": {},
   "outputs": [
    {
     "name": "stdout",
     "output_type": "stream",
     "text": [
      "Afghanistan 93\n",
      "Albania 355\n",
      "Algeria 213\n",
      "Andorra 376\n",
      "Angola 244\n",
      "\n",
      "In reverse order:\n",
      "Angola 244\n",
      "Andorra 376\n",
      "Algeria 213\n",
      "Albania 355\n",
      "Afghanistan 93\n"
     ]
    }
   ],
   "source": [
    "from collections import OrderedDict\n",
    "dict = {'Afghanistan': 93, 'Albania': 355, 'Algeria': 213, 'Andorra': 376, 'Angola': 244}\n",
    "new_dict = OrderedDict(dict.items())\n",
    "for key in new_dict:\n",
    "    print (key, new_dict[key])\n",
    "\n",
    "print(\"\\nIn reverse order:\")\n",
    "for key in reversed(new_dict):\n",
    "    print (key, new_dict[key])"
   ]
  },
  {
   "cell_type": "code",
   "execution_count": null,
   "metadata": {},
   "outputs": [],
   "source": [
    "# Q40. Write the Python program to compare two unordered lists (not sets)?  \n",
    "# Expected Output: False "
   ]
  },
  {
   "cell_type": "code",
   "execution_count": 133,
   "metadata": {},
   "outputs": [
    {
     "name": "stdout",
     "output_type": "stream",
     "text": [
      "False\n"
     ]
    }
   ],
   "source": [
    "from collections import Counter\n",
    "def compare_lists(x, y):\n",
    "    return Counter(x) == Counter(y)\n",
    "n1 = [20, 10, 30, 10, 20, 30]\n",
    "n2 = [30, 20, 10, 30, 20, 50]\n",
    "print(compare_lists(n1, n2))"
   ]
  },
  {
   "cell_type": "code",
   "execution_count": null,
   "metadata": {},
   "outputs": [],
   "source": [
    "# Q41. Write the Python program to get an array buffer information? \n",
    "# Expected Output- Array buffer start address in memory and number of elements. (25855056, 2)"
   ]
  },
  {
   "cell_type": "code",
   "execution_count": 134,
   "metadata": {},
   "outputs": [
    {
     "name": "stdout",
     "output_type": "stream",
     "text": [
      "Array buffer start address in memory and number of elements.\n",
      "(183684347680, 2)\n"
     ]
    }
   ],
   "source": [
    "from array import array\n",
    "a = array(\"I\", (12,25))\n",
    "print(\"Array buffer start address in memory and number of elements.\")\n",
    "print(a.buffer_info())"
   ]
  },
  {
   "cell_type": "code",
   "execution_count": null,
   "metadata": {},
   "outputs": [],
   "source": [
    "# Q42.  Write the Python program to convert an array to an array of   machine values and return the bytes representation? \n",
    "# Expected Output- Original array- A1: array('i', [1, 2, 3, 4, 5, 6]) \n",
    "# Array of bytes: b'010000000200000003000000040000000500000006000000'"
   ]
  },
  {
   "cell_type": "code",
   "execution_count": 135,
   "metadata": {},
   "outputs": [
    {
     "name": "stdout",
     "output_type": "stream",
     "text": [
      "Bytes to String: \n",
      "b'w3resource'\n"
     ]
    }
   ],
   "source": [
    "from array import *\n",
    "print(\"Bytes to String: \")\n",
    "x = array('b', [119, 51, 114, 101,  115, 111, 117, 114, 99, 101])\n",
    "s = x.tobytes()\n",
    "print(s)"
   ]
  },
  {
   "cell_type": "code",
   "execution_count": null,
   "metadata": {},
   "outputs": [],
   "source": [
    "# Q43. Write the Python program to read a string and interpreting the   string as an array of machine values?  \n",
    "# Expected Output- array1- array('i', [7, 8, 9, 10]) \n",
    "# Bytes- b'0700000008000000090000000a000000' array2- array('i', [7, 8, 9, 10])  "
   ]
  },
  {
   "cell_type": "code",
   "execution_count": 136,
   "metadata": {},
   "outputs": [
    {
     "name": "stdout",
     "output_type": "stream",
     "text": [
      "array1: array('i', [7, 8, 9, 10])\n",
      "Bytes: b'0700000008000000090000000a000000'\n",
      "array2: array('i', [7, 8, 9, 10])\n"
     ]
    }
   ],
   "source": [
    "from array import array\n",
    "import binascii\n",
    "array1 = array('i', [7, 8, 9, 10])\n",
    "print('array1:', array1)\n",
    "as_bytes = array1.tobytes()\n",
    "print('Bytes:', binascii.hexlify(as_bytes))\n",
    "array2 = array('i')\n",
    "array2.frombytes(as_bytes)\n",
    "print('array2:', array2)"
   ]
  },
  {
   "cell_type": "code",
   "execution_count": null,
   "metadata": {},
   "outputs": [],
   "source": [
    "# Q44. Write the Python program to push three items into the heap and   \n",
    "# return the smallest item from the heap. Also, return and pop the   smallest item from the heap?   \n",
    "# Expected Output- Items in the heap- ('VI', 1). ('VII', 3). ('VIII', 2). \n",
    "# The smallest item in the heap: ('VI', 1). \n",
    "# Pop the smallest item in the heap: ('VII', 2). ('VIII', 3).  "
   ]
  },
  {
   "cell_type": "code",
   "execution_count": 137,
   "metadata": {},
   "outputs": [
    {
     "name": "stdout",
     "output_type": "stream",
     "text": [
      "Items in the heap:\n",
      "('V', 1)\n",
      "('V', 3)\n",
      "('V', 2)\n",
      "----------------------\n",
      "The smallest item in the heap:\n",
      "('V', 1)\n",
      "----------------------\n",
      "Pop the smallest item in the heap:\n",
      "('V', 2)\n",
      "('V', 3)\n"
     ]
    }
   ],
   "source": [
    "import heapq\n",
    "heap = []\n",
    "heapq.heappush(heap, ('V', 3))\n",
    "heapq.heappush(heap, ('V', 2))\n",
    "heapq.heappush(heap, ('V', 1))\n",
    "print(\"Items in the heap:\")\n",
    "for a in heap:\n",
    "\tprint(a)\n",
    "print(\"----------------------\")\n",
    "print(\"The smallest item in the heap:\")\n",
    "print(heap[0])\n",
    "print(\"----------------------\")\n",
    "print(\"Pop the smallest item in the heap:\")\n",
    "heapq.heappop(heap)\n",
    "for a in heap:\n",
    "\tprint(a)"
   ]
  },
  {
   "cell_type": "code",
   "execution_count": null,
   "metadata": {},
   "outputs": [],
   "source": [
    "# Q45. Write the Python program to locate the left insertion point for a   specified value in sorted order?  \n",
    "# Expected Output: 4 2 "
   ]
  },
  {
   "cell_type": "code",
   "execution_count": 139,
   "metadata": {},
   "outputs": [
    {
     "name": "stdout",
     "output_type": "stream",
     "text": [
      "4\n",
      "2\n"
     ]
    }
   ],
   "source": [
    "import bisect\n",
    "def index(a, x):\n",
    "    i = bisect.bisect_left(a, x)\n",
    "    return i\n",
    "    \n",
    "a = [1,2,4,5]\n",
    "print(index(a, 6))\n",
    "print(index(a, 3))"
   ]
  },
  {
   "cell_type": "code",
   "execution_count": null,
   "metadata": {},
   "outputs": [],
   "source": [
    "# Q46. Write the Python program to create the FIFO queue?  Expected Output: 0 1 2 3  "
   ]
  },
  {
   "cell_type": "code",
   "execution_count": null,
   "metadata": {},
   "outputs": [],
   "source": [
    "import queue\n",
    "q = queue.Queue()\n",
    "#insert items at the end of the queue \n",
    "for x in range(4):\n",
    "    q.put(str(x))\n",
    "#remove items from the head of the queue \n",
    "while not q.empty():\n",
    "    print(q.get(), end=\" \")\n",
    "print(\"\\n\")"
   ]
  },
  {
   "cell_type": "code",
   "execution_count": null,
   "metadata": {},
   "outputs": [],
   "source": [
    "# Q47. Write the Python program to calculate the harmonic sum of n-1.          \n",
    "# Note: The harmonic sum is the sum of reciprocals of the positive   Integers?           \n",
    "# Example - 1 + 1/2 + 1/3 + 1/4..."
   ]
  },
  {
   "cell_type": "code",
   "execution_count": 140,
   "metadata": {},
   "outputs": [
    {
     "name": "stdout",
     "output_type": "stream",
     "text": [
      "2.5928571428571425\n",
      "2.083333333333333\n"
     ]
    }
   ],
   "source": [
    "def harmonic_sum(n):\n",
    "  if n < 2:\n",
    "    return 1\n",
    "  else:\n",
    "    return 1 / n + (harmonic_sum(n - 1))\n",
    "    \n",
    "print(harmonic_sum(7))\n",
    "print(harmonic_sum(4))"
   ]
  },
  {
   "cell_type": "code",
   "execution_count": null,
   "metadata": {},
   "outputs": [],
   "source": [
    "# Q48. Write the NumPy program to create a 2d array with 6 on the border   and 0 inside?  \n",
    "# Expected Output- Original array- [ [6 6 6 6 6]   [ 6 6 6 6 6]   [ 6 6 6 6 6 ]   [ 6 6 6 6 6 ]   [ 6  6 6 6 ] ].  \n",
    "# 6 on the border and 0 inside in the array- [[ 6 6 6 6 6] [ 6 0 0 0 6] [ 6 0 0 0 6] [ 6 0 0 0 6] [ 6 6 6 6 6]].   "
   ]
  },
  {
   "cell_type": "code",
   "execution_count": 141,
   "metadata": {},
   "outputs": [
    {
     "name": "stdout",
     "output_type": "stream",
     "text": [
      "Original array:\n",
      "[[1. 1. 1. 1. 1.]\n",
      " [1. 1. 1. 1. 1.]\n",
      " [1. 1. 1. 1. 1.]\n",
      " [1. 1. 1. 1. 1.]\n",
      " [1. 1. 1. 1. 1.]]\n",
      "1 on the border and 0 inside in the array\n",
      "[[1. 1. 1. 1. 1.]\n",
      " [1. 0. 0. 0. 1.]\n",
      " [1. 0. 0. 0. 1.]\n",
      " [1. 0. 0. 0. 1.]\n",
      " [1. 1. 1. 1. 1.]]\n"
     ]
    }
   ],
   "source": [
    "import numpy as np\n",
    "x = np.ones((5,5))\n",
    "print(\"Original array:\")\n",
    "print(x)\n",
    "print(\"1 on the border and 0 inside in the array\")\n",
    "x[1:-1,1:-1] = 0\n",
    "print(x)"
   ]
  },
  {
   "cell_type": "code",
   "execution_count": null,
   "metadata": {},
   "outputs": [],
   "source": [
    "# Q49.  Write the NumPy program to create a 8x8 matrix and fill it with the   checkerboard pattern?  \n",
    "# Checkerboard pattern- \n",
    "# [[3 9 3 9 3 9 3 9] [9 3 9 3 9 3 9 3] [3 9 3 9 3 9 3 9] [9 3 9 3 9 3 9 3] \n",
    "# [3 9 3 9 3 9 3 9] [9 3 9 3 9 3 9 3] [3 9 3 9 3 9 3 9] [9 3 9 3 9 3 9 3]].  "
   ]
  },
  {
   "cell_type": "code",
   "execution_count": 142,
   "metadata": {},
   "outputs": [
    {
     "name": "stdout",
     "output_type": "stream",
     "text": [
      "Checkerboard pattern:\n",
      "[[0 1 0 1 0 1 0 1]\n",
      " [1 0 1 0 1 0 1 0]\n",
      " [0 1 0 1 0 1 0 1]\n",
      " [1 0 1 0 1 0 1 0]\n",
      " [0 1 0 1 0 1 0 1]\n",
      " [1 0 1 0 1 0 1 0]\n",
      " [0 1 0 1 0 1 0 1]\n",
      " [1 0 1 0 1 0 1 0]]\n"
     ]
    }
   ],
   "source": [
    "import numpy as np\n",
    "x = np.ones((3,3))\n",
    "print(\"Checkerboard pattern:\")\n",
    "x = np.zeros((8,8),dtype=int)\n",
    "x[1::2,::2] = 1\n",
    "x[::2,1::2] = 1\n",
    "print(x)"
   ]
  },
  {
   "cell_type": "code",
   "execution_count": null,
   "metadata": {},
   "outputs": [],
   "source": [
    "# Q50. Write the NumPy program to create an empty and a full array.          \n",
    "# Expected Output-  \n",
    "# [[4.45057637e-308 1.78021527e-306 8.45549797e-307 1.37962049e-306] \n",
    "# [1.11260619e-306 1.78010255e-306 9.79054228e-307 4.45057637e-308] \n",
    "# [8.45596650e-307 9.34602321e-307 4.94065646e-322 0.00000000e+000]] [[6 6 6] [6 6 6] [6 6 6]] "
   ]
  },
  {
   "cell_type": "code",
   "execution_count": 143,
   "metadata": {},
   "outputs": [
    {
     "name": "stdout",
     "output_type": "stream",
     "text": [
      "[[0. 0. 0. 0.]\n",
      " [0. 0. 0. 0.]\n",
      " [0. 0. 0. 0.]]\n",
      "[[6 6 6]\n",
      " [6 6 6]\n",
      " [6 6 6]]\n"
     ]
    }
   ],
   "source": [
    "import numpy as np\n",
    "# Create an empty array\n",
    "x = np.empty((3,4))\n",
    "print(x)\n",
    "# Create a full array\n",
    "y = np.full((3,3),6)\n",
    "print(y)"
   ]
  },
  {
   "cell_type": "code",
   "execution_count": null,
   "metadata": {},
   "outputs": [],
   "source": [
    "# Q51. Write the NumPy program to convert the values of Centigrade degrees into the Fahrenheit degrees \n",
    "# and the centigrade values are  stored in the NumPy array.    \n",
    "# Sample Array -[0, 12, 45.21 ,34, 99.91] \n",
    "# Expected Output- Values in Fahrenheit degrees- [ 0. 12. 45.21 34. 99.91] \n",
    "# Values in Centigrade degrees- [-17.77777778 -11.11111111 7.33888889 1.11111111 37.72777778] "
   ]
  },
  {
   "cell_type": "code",
   "execution_count": 144,
   "metadata": {},
   "outputs": [
    {
     "name": "stdout",
     "output_type": "stream",
     "text": [
      "Values in Fahrenheit degrees:\n",
      "[ 0.   12.   45.21 34.   99.91]\n",
      "Values in  Centigrade degrees:\n",
      "[-17.77777778 -11.11111111   7.33888889   1.11111111  37.72777778]\n"
     ]
    }
   ],
   "source": [
    "import numpy as np\n",
    "fvalues = [0, 12, 45.21, 34, 99.91]\n",
    "F = np.array(fvalues)\n",
    "print(\"Values in Fahrenheit degrees:\")\n",
    "print(F)\n",
    "print(\"Values in  Centigrade degrees:\") \n",
    "print(5*F/9 - 5*32/9)"
   ]
  },
  {
   "cell_type": "code",
   "execution_count": null,
   "metadata": {},
   "outputs": [],
   "source": [
    "# Q52. Write the NumPy program to find the real and imaginary parts of an   array of complex numbers?  \n",
    "# Expected Output- Original array [ 1.00000000+0.j 0.70710678+0.70710678j] \n",
    "# Real part of the array- [ 1. 0.70710678] Imaginary part of the array- [ 0. 0.70710678] "
   ]
  },
  {
   "cell_type": "code",
   "execution_count": 145,
   "metadata": {},
   "outputs": [
    {
     "name": "stdout",
     "output_type": "stream",
     "text": [
      "Original array:x  [1.+0.j]\n",
      "Original array:y  [0.70710678+0.70710678j]\n",
      "Real part of the array:\n",
      "[1.]\n",
      "[0.70710678]\n",
      "Imaginary part of the array:\n",
      "[0.]\n",
      "[0.70710678]\n"
     ]
    }
   ],
   "source": [
    "import numpy as np\n",
    "x = np.sqrt([1+0j])\n",
    "y = np.sqrt([0+1j])\n",
    "print(\"Original array:x \",x)\n",
    "print(\"Original array:y \",y)\n",
    "print(\"Real part of the array:\")\n",
    "print(x.real)\n",
    "print(y.real)\n",
    "print(\"Imaginary part of the array:\")\n",
    "print(x.imag)\n",
    "print(y.imag)"
   ]
  },
  {
   "cell_type": "code",
   "execution_count": null,
   "metadata": {},
   "outputs": [],
   "source": [
    "# Q53. Write the NumPy program to test whether each element of a 1-D   array is also present in the second array? \n",
    "# Expected Output- Array1: [ 0 10 20 40 60] Array2: [0, 40] \n",
    "# Compare each element of array1 and array2 [ True False False True False]  "
   ]
  },
  {
   "cell_type": "code",
   "execution_count": 146,
   "metadata": {},
   "outputs": [
    {
     "name": "stdout",
     "output_type": "stream",
     "text": [
      "Array1:  [ 0 10 20 40 60]\n",
      "Array2:  [0, 40]\n",
      "Compare each element of array1 and array2\n",
      "[ True False False  True False]\n"
     ]
    }
   ],
   "source": [
    "import numpy as np\n",
    "array1 = np.array([0, 10, 20, 40, 60])\n",
    "print(\"Array1: \",array1)\n",
    "array2 = [0, 40]\n",
    "print(\"Array2: \",array2)\n",
    "print(\"Compare each element of array1 and array2\")\n",
    "print(np.in1d(array1, array2))"
   ]
  },
  {
   "cell_type": "code",
   "execution_count": null,
   "metadata": {},
   "outputs": [],
   "source": [
    "# Q54. Write the NumPy program to find common values between two   arrays?  \n",
    "# Expected Output- Array1: [ 0 10 20 40 60] Array2: [10, 30, 40] Common values between two arrays- [10 40]  "
   ]
  },
  {
   "cell_type": "code",
   "execution_count": 147,
   "metadata": {},
   "outputs": [
    {
     "name": "stdout",
     "output_type": "stream",
     "text": [
      "Array1:  [ 0 10 20 40 60]\n",
      "Array2:  [10, 30, 40]\n",
      "Common values between two arrays:\n",
      "[10 40]\n"
     ]
    }
   ],
   "source": [
    "import numpy as np\n",
    "array1 = np.array([0, 10, 20, 40, 60])\n",
    "print(\"Array1: \",array1)\n",
    "array2 = [10, 30, 40]\n",
    "print(\"Array2: \",array2)\n",
    "print(\"Common values between two arrays:\")\n",
    "print(np.intersect1d(array1, array2))"
   ]
  },
  {
   "cell_type": "code",
   "execution_count": null,
   "metadata": {},
   "outputs": [],
   "source": [
    "# Q55. Write the NumPy program to get the unique elements of an array?  \n",
    "# Expected Output- Original array- [10 10 20 20 30 30] \n",
    "# Unique elements of the above array- [10 20 30] \n",
    "# Original array- [[1 1] [2 3]] Unique elements of the above array- [1 2 3] "
   ]
  },
  {
   "cell_type": "code",
   "execution_count": 148,
   "metadata": {},
   "outputs": [
    {
     "name": "stdout",
     "output_type": "stream",
     "text": [
      "Original array:\n",
      "[10 10 20 20 30 30]\n",
      "Unique elements of the above array:\n",
      "[10 20 30]\n",
      "Original array:\n",
      "[[1 1]\n",
      " [2 3]]\n",
      "Unique elements of the above array:\n",
      "[1 2 3]\n"
     ]
    }
   ],
   "source": [
    "import numpy as np\n",
    "x = np.array([10, 10, 20, 20, 30, 30])\n",
    "print(\"Original array:\")\n",
    "print(x)\n",
    "print(\"Unique elements of the above array:\")\n",
    "print(np.unique(x))\n",
    "x = np.array([[1, 1], [2, 3]])\n",
    "print(\"Original array:\")\n",
    "print(x)\n",
    "print(\"Unique elements of the above array:\")\n",
    "print(np.unique(x))"
   ]
  },
  {
   "cell_type": "code",
   "execution_count": null,
   "metadata": {},
   "outputs": [],
   "source": [
    "# Q56. Write the NumPy program to find the set exclusive-or of two arrays.  \n",
    "# Set exclusive-or will return the sorted, unique values that are in   only one (not both) of the input arrays?  \n",
    "# Array1- [ 0 10 20 40 60 80] Array2- [10, 30, 40, 50, 70] \n",
    "# Unique values that are in only one (not both) of the input arrays- [ 0 20 30 50 60 70 80]  "
   ]
  },
  {
   "cell_type": "code",
   "execution_count": 149,
   "metadata": {},
   "outputs": [
    {
     "name": "stdout",
     "output_type": "stream",
     "text": [
      "Array1:  [ 0 10 20 40 60 80]\n",
      "Array2:  [10, 30, 40, 50, 70]\n",
      "Unique values that are in only one (not both) of the input arrays:\n",
      "[ 0 20 30 50 60 70 80]\n"
     ]
    }
   ],
   "source": [
    "import numpy as np\n",
    "array1 = np.array([0, 10, 20, 40, 60, 80])\n",
    "print(\"Array1: \",array1)\n",
    "array2 = [10, 30, 40, 50, 70]\n",
    "print(\"Array2: \",array2)\n",
    "print(\"Unique values that are in only one (not both) of the input arrays:\")\n",
    "print(np.setxor1d(array1, array2))"
   ]
  },
  {
   "cell_type": "code",
   "execution_count": null,
   "metadata": {},
   "outputs": [],
   "source": [
    "# Q57. Write the NumPy program to test if all elements in an array   evaluate to True ?                        \n",
    "# Note: 0 evaluates to False in NumPy. "
   ]
  },
  {
   "cell_type": "code",
   "execution_count": 150,
   "metadata": {},
   "outputs": [
    {
     "name": "stdout",
     "output_type": "stream",
     "text": [
      "False\n",
      "True\n",
      "False\n",
      "True\n"
     ]
    }
   ],
   "source": [
    "import numpy as np\n",
    "print(np.all([[True,False],[True,True]]))\n",
    "print(np.all([[True,True],[True,True]]))\n",
    "print(np.all([10, 20, 0, -50]))\n",
    "print(np.all([10, 20, -50]))"
   ]
  },
  {
   "cell_type": "code",
   "execution_count": null,
   "metadata": {},
   "outputs": [],
   "source": [
    "# Q58 Write the NumPy program to test whether any array element along   the given axis evaluates to True?                         \n",
    "# Note: 0 evaluates to False in NumPy. "
   ]
  },
  {
   "cell_type": "code",
   "execution_count": 151,
   "metadata": {},
   "outputs": [
    {
     "name": "stdout",
     "output_type": "stream",
     "text": [
      "False\n",
      "True\n",
      "True\n",
      "True\n"
     ]
    }
   ],
   "source": [
    "import numpy as np\n",
    "print(np.any([[False,False],[False,False]]))\n",
    "print(np.any([[True,True],[True,True]]))\n",
    "print(np.any([10, 20, 0, -50]))\n",
    "print(np.any([10, 20, -50]))"
   ]
  },
  {
   "cell_type": "code",
   "execution_count": null,
   "metadata": {},
   "outputs": [],
   "source": [
    "# Q59. Write the NumPy program to construct an array by repeating? \n",
    "# Sample array- [1, 2, 3, 4] Expected Output- Original array [1, 2, 3, 4] Repeating 2 times [1 2 3 4 1 2 3 4] \n",
    "# Repeating 3 times [1 2 3 4 1 2 3 4 1 2 3 4]  "
   ]
  },
  {
   "cell_type": "code",
   "execution_count": null,
   "metadata": {},
   "outputs": [],
   "source": [
    "import numpy as np\n",
    "a = [1, 2, 3, 4]\n",
    "print(\"Original array\")\n",
    "print(a)\n",
    "print(\"Repeating 2 times\")\n",
    "x = np.tile(a, 2)\n",
    "print(x)\n",
    "print(\"Repeating 3 times\")\n",
    "x = np.tile(a, 3)\n",
    "print(x)"
   ]
  },
  {
   "cell_type": "code",
   "execution_count": null,
   "metadata": {},
   "outputs": [],
   "source": [
    "# Q60. Write the NumPy program to find the indices of the maximum and   minimum values with the given axis of an array?          \n",
    "# Original array- [1 2 3 4 5 6] Maximum Values- 5 Minimum Values- 0  "
   ]
  },
  {
   "cell_type": "code",
   "execution_count": 152,
   "metadata": {},
   "outputs": [
    {
     "name": "stdout",
     "output_type": "stream",
     "text": [
      "Original array:  [1 2 3 4 5 6]\n",
      "Maximum Values:  5\n",
      "Minimum Values:  0\n"
     ]
    }
   ],
   "source": [
    "import numpy as np\n",
    "x = np.array([1, 2, 3, 4, 5, 6])\n",
    "print(\"Original array: \",x)\n",
    "print(\"Maximum Values: \",np.argmax(x))\n",
    "print(\"Minimum Values: \",np.argmin(x))"
   ]
  },
  {
   "cell_type": "code",
   "execution_count": null,
   "metadata": {},
   "outputs": [],
   "source": [
    "# Q61.  Write the NumPy program compare two arrays using numpy?  \n",
    "# Array a- [1 2] Array b- [4 5] a > b [False False] a >= b [False False] a < b [ True True] a <= b [ True True]  "
   ]
  },
  {
   "cell_type": "code",
   "execution_count": 153,
   "metadata": {},
   "outputs": [
    {
     "name": "stdout",
     "output_type": "stream",
     "text": [
      "Array a:  [1 2]\n",
      "Array b:  [4 5]\n",
      "a > b\n",
      "[False False]\n",
      "a >= b\n",
      "[False False]\n",
      "a < b\n",
      "[ True  True]\n",
      "a <= b\n",
      "[ True  True]\n"
     ]
    }
   ],
   "source": [
    "import numpy as np\n",
    "a = np.array([1, 2])\n",
    "b = np.array([4, 5])\n",
    "print(\"Array a: \",a)\n",
    "print(\"Array b: \",b)\n",
    "print(\"a > b\")\n",
    "print(np.greater(a, b))\n",
    "print(\"a >= b\")\n",
    "print(np.greater_equal(a, b))\n",
    "print(\"a < b\")\n",
    "print(np.less(a, b))\n",
    "print(\"a <= b\")\n",
    "print(np.less_equal(a, b))"
   ]
  },
  {
   "cell_type": "code",
   "execution_count": null,
   "metadata": {},
   "outputs": [],
   "source": [
    "# Q62. Write the NumPy program to sort an along the first, last axis of an   array? \n",
    "# Sample array- [[2,5],[4,4]] Expected Output- Original array: [[4 6] [2 1]] Sort along the first axis: [[2 1] [4 6]] \n",
    "# Sort along the last axis- [[1 2] [4 6]] "
   ]
  },
  {
   "cell_type": "code",
   "execution_count": 154,
   "metadata": {},
   "outputs": [
    {
     "name": "stdout",
     "output_type": "stream",
     "text": [
      "Original array: \n",
      "[[4 6]\n",
      " [2 1]]\n",
      "Sort along the first axis: \n",
      "[[2 1]\n",
      " [4 6]]\n",
      "Sort along the last axis: \n",
      "[[1 2]\n",
      " [4 6]]\n"
     ]
    }
   ],
   "source": [
    "import numpy as np\n",
    "a = np.array([[4, 6],[2, 1]])\n",
    "print(\"Original array: \")\n",
    "print(a)\n",
    "print(\"Sort along the first axis: \")\n",
    "x = np.sort(a, axis=0)\n",
    "print(x)\n",
    "print(\"Sort along the last axis: \")\n",
    "y = np.sort(x, axis=1)\n",
    "print(y)\n"
   ]
  },
  {
   "cell_type": "code",
   "execution_count": null,
   "metadata": {},
   "outputs": [],
   "source": [
    "# Q63. Write the NumPy program to sort pairs of first name and last name  \n",
    "# return their indices (first by last name, then by first name).    \n",
    "# first_names - ( Betsey, Shelley, Lanell, Genesis, Margery )\n",
    "# last_names - ( Battle, Brien, Plotner, Stahl, Woolum ) Expected Output- [1 3 2 4 0]  "
   ]
  },
  {
   "cell_type": "code",
   "execution_count": 155,
   "metadata": {},
   "outputs": [
    {
     "name": "stdout",
     "output_type": "stream",
     "text": [
      "[1 3 2 4 0]\n"
     ]
    }
   ],
   "source": [
    "import numpy as np\n",
    "first_names =    ('Margery', 'Betsey', 'Shelley', 'Lanell', 'Genesis')\n",
    "last_names = ('Woolum', 'Battle', 'Plotner', 'Brien', 'Stahl')\n",
    "x = np.lexsort((first_names, last_names))\n",
    "print(x)"
   ]
  },
  {
   "cell_type": "code",
   "execution_count": null,
   "metadata": {},
   "outputs": [],
   "source": [
    "# Q64. Write the NumPy program to get the values and indices of the   elements that are bigger than 10 in the given array? \n",
    "# Original array- [[ 0 10 20] [20 30 40]] Values bigger than 10 = [20 20 30 40] \n",
    "# Their indices are (array([0, 1, 1, 1]), array([2, 0, 1, 2])) "
   ]
  },
  {
   "cell_type": "code",
   "execution_count": 156,
   "metadata": {},
   "outputs": [
    {
     "name": "stdout",
     "output_type": "stream",
     "text": [
      "Original array: \n",
      "[[ 0 10 20]\n",
      " [20 30 40]]\n",
      "Values bigger than 10 = [20 20 30 40]\n",
      "Their indices are  (array([0, 1, 1, 1], dtype=int64), array([2, 0, 1, 2], dtype=int64))\n"
     ]
    }
   ],
   "source": [
    "import numpy as np\n",
    "x = np.array([[0, 10, 20], [20, 30, 40]])\n",
    "print(\"Original array: \")\n",
    "print(x)\n",
    "print(\"Values bigger than 10 =\", x[x>10])\n",
    "print(\"Their indices are \", np.nonzero(x > 10))"
   ]
  },
  {
   "cell_type": "code",
   "execution_count": null,
   "metadata": {},
   "outputs": [],
   "source": [
    "# Q65. Write the NumPy program to find the memory size of a NumPy   array?  \n",
    "# Expected Output- 128 bytes  "
   ]
  },
  {
   "cell_type": "code",
   "execution_count": 157,
   "metadata": {},
   "outputs": [
    {
     "name": "stdout",
     "output_type": "stream",
     "text": [
      "128 bytes\n"
     ]
    }
   ],
   "source": [
    "import numpy as np\n",
    "n = np.zeros((4,4))\n",
    "print(\"%d bytes\" % (n.size * n.itemsize))"
   ]
  },
  {
   "cell_type": "code",
   "execution_count": null,
   "metadata": {},
   "outputs": [],
   "source": [
    "# Q66. Write the NumPy program to create an array of ones and an array   of zeros?    \n",
    "# Expected Output- Create an array of zeros Default type is float [[ 0. 0.]] \n",
    "# Type changes to int [[0 0]] Create an array of ones Default type is float [[ 1. 1.]] Type changes to int [[1 1]] "
   ]
  },
  {
   "cell_type": "code",
   "execution_count": 158,
   "metadata": {},
   "outputs": [
    {
     "name": "stdout",
     "output_type": "stream",
     "text": [
      "Create an array of zeros\n",
      "Default type is float\n",
      "[[0. 0.]]\n",
      "Type changes to int\n",
      "[[0 0]]\n",
      "Create an array of ones\n",
      "Default type is float\n",
      "[[1. 1.]]\n",
      "Type changes to int\n",
      "[[1 1]]\n"
     ]
    }
   ],
   "source": [
    "import numpy as np\n",
    "print(\"Create an array of zeros\")\n",
    "x = np.zeros((1,2))\n",
    "print(\"Default type is float\")\n",
    "print(x)\n",
    "print(\"Type changes to int\")\n",
    "x = np.zeros((1,2), dtype = np.int)\n",
    "print(x)\n",
    "print(\"Create an array of ones\")\n",
    "y= np.ones((1,2)) \n",
    "print(\"Default type is float\")\n",
    "print(y)\n",
    "print(\"Type changes to int\")\n",
    "y = np.ones((1,2), dtype = np.int)\n",
    "print(y)"
   ]
  },
  {
   "cell_type": "code",
   "execution_count": null,
   "metadata": {},
   "outputs": [],
   "source": [
    "# Q67. Write the NumPy program to change the dimension of an array? \n",
    "# Expected Output- 6 rows and 0 columns (6,) (3, 3) -> 3 rows and 3 columns [[1 2 3] [4 5 6] [7 8 9]] \n",
    "# Change array shape to (3, 3) -> 3 rows and 3 columns [[1 2 3] [4 5 6] [7 8 9]] "
   ]
  },
  {
   "cell_type": "code",
   "execution_count": 159,
   "metadata": {},
   "outputs": [
    {
     "name": "stdout",
     "output_type": "stream",
     "text": [
      "6 rows and 0 columns\n",
      "(6,)\n",
      "(3, 3) -> 3 rows and 3 columns \n",
      "[[1 2 3]\n",
      " [4 5 6]\n",
      " [7 8 9]]\n",
      "Change array shape to (3, 3) -> 3 rows and 3 columns \n",
      "[[1 2 3]\n",
      " [4 5 6]\n",
      " [7 8 9]]\n"
     ]
    }
   ],
   "source": [
    "import numpy as np\n",
    "x = np.array([1, 2, 3, 4, 5, 6])\n",
    "print(\"6 rows and 0 columns\")\n",
    "print(x.shape)\n",
    "\n",
    "y = np.array([[1, 2, 3],[4, 5, 6],[7,8,9]])\n",
    "print(\"(3, 3) -> 3 rows and 3 columns \")\n",
    "print(y)\n",
    "\n",
    "x = np.array([1,2,3,4,5,6,7,8,9])\n",
    "print(\"Change array shape to (3, 3) -> 3 rows and 3 columns \")\n",
    "x.shape = (3, 3)\n",
    "print(x)"
   ]
  },
  {
   "cell_type": "code",
   "execution_count": null,
   "metadata": {},
   "outputs": [],
   "source": [
    "# Q68. Write the NumPy program to create a new shape to an array   without changing its data ?   \n",
    "# Reshape 3x2- [[1 2] [3 4] [5 6]] Reshape 2x3- [[1 2 3] [4 5 6]]   "
   ]
  },
  {
   "cell_type": "code",
   "execution_count": 160,
   "metadata": {},
   "outputs": [
    {
     "name": "stdout",
     "output_type": "stream",
     "text": [
      "Reshape 3x2:\n",
      "[[1 2]\n",
      " [3 4]\n",
      " [5 6]]\n",
      "Reshape 2x3:\n",
      "[[1 2 3]\n",
      " [4 5 6]]\n"
     ]
    }
   ],
   "source": [
    "import numpy as np\n",
    "x = np.array([1, 2, 3, 4, 5, 6])\n",
    "y = np.reshape(x,(3,2))\n",
    "print(\"Reshape 3x2:\")\n",
    "print(y)\n",
    "z = np.reshape(x,(2,3))\n",
    "print(\"Reshape 2x3:\")\n",
    "print(z)"
   ]
  },
  {
   "cell_type": "code",
   "execution_count": null,
   "metadata": {},
   "outputs": [],
   "source": [
    "# Q69. Write the NumPy program to create a new array of 3*5, filled with 2?    \n",
    "# Expected Output- [[2 2 2 2 2] [2 2 2 2 2] [2 2 2 2 2]] [[2 2 2 2 2] [2 2 2 2 2] [2 2 2 2 2]]"
   ]
  },
  {
   "cell_type": "code",
   "execution_count": 161,
   "metadata": {},
   "outputs": [
    {
     "name": "stdout",
     "output_type": "stream",
     "text": [
      "[[2 2 2 2 2]\n",
      " [2 2 2 2 2]\n",
      " [2 2 2 2 2]]\n",
      "[[2 2 2 2 2]\n",
      " [2 2 2 2 2]\n",
      " [2 2 2 2 2]]\n"
     ]
    }
   ],
   "source": [
    "import numpy as np\n",
    "#using no.full\n",
    "x = np.full((3, 5), 2, dtype=np.uint)\n",
    "print(x)\n",
    "#using no.ones\n",
    "y = np.ones([3, 5], dtype=np.uint) *2\n",
    "print(y)"
   ]
  },
  {
   "cell_type": "code",
   "execution_count": null,
   "metadata": {},
   "outputs": [],
   "source": [
    "# Q70. Write the NumPy program to create a 3-D array with ones on a   diagonal and zeros elsewhere? \n",
    "# Expected Output- [[ 1. 0. 0.] [ 0. 1. 0.] [ 0. 0. 1.]] "
   ]
  },
  {
   "cell_type": "code",
   "execution_count": 162,
   "metadata": {},
   "outputs": [
    {
     "name": "stdout",
     "output_type": "stream",
     "text": [
      "[[1. 0. 0.]\n",
      " [0. 1. 0.]\n",
      " [0. 0. 1.]]\n"
     ]
    }
   ],
   "source": [
    "import numpy as np\n",
    "x = np.eye(3)\n",
    "print(x)"
   ]
  },
  {
   "cell_type": "code",
   "execution_count": null,
   "metadata": {},
   "outputs": [],
   "source": [
    "# Q71. Write the NumPy program to split an array of 14 elements into the  \n",
    "# 3 arrays and each of which has 2, 4, and 8 elements in original   order?             \n",
    "# Expected Output- Original array- [ 1 2 3 4 5 6 7 8 9 10 11 12 13 14] \n",
    "# After splitting- [array([1, 2]), array([3, 4, 5, 6]), array([ 7, 8, 9, 10, 11, 12, 13, 14])] "
   ]
  },
  {
   "cell_type": "code",
   "execution_count": 163,
   "metadata": {},
   "outputs": [
    {
     "name": "stdout",
     "output_type": "stream",
     "text": [
      "Original array: [ 1  2  3  4  5  6  7  8  9 10 11 12 13 14]\n",
      "After splitting:\n",
      "[array([1, 2]), array([3, 4, 5, 6]), array([ 7,  8,  9, 10, 11, 12, 13, 14])]\n"
     ]
    }
   ],
   "source": [
    "import numpy as np\n",
    "x = np.arange(1, 15)\n",
    "print(\"Original array:\",x)\n",
    "print(\"After splitting:\")\n",
    "print(np.split(x, [2, 6]))"
   ]
  },
  {
   "cell_type": "code",
   "execution_count": null,
   "metadata": {},
   "outputs": [],
   "source": [
    "# Q72. Write the NumPy program to split of an array of shape 4x4 it into   two arrays along the second axis ?    \n",
    "# Sample array - [[ 0 1 2 3] [ 4 5 6 7] [ 8 9 10 11] [12 13 14 15]] \n",
    "# Expected Output- \n",
    "# [array([[ 0, 1], [ 4, 5], [ 8, 9], [12, 13]]), \n",
    "#  array([[ 2, 3], [ 6, 7], [10, 11], [14, 15]]),\n",
    "#  array([], shape=(4, 0), dtype=int64)] "
   ]
  },
  {
   "cell_type": "code",
   "execution_count": 164,
   "metadata": {},
   "outputs": [
    {
     "name": "stdout",
     "output_type": "stream",
     "text": [
      "Original array: [[ 0  1  2  3]\n",
      " [ 4  5  6  7]\n",
      " [ 8  9 10 11]\n",
      " [12 13 14 15]]\n",
      "After splitting horizontally:\n",
      "[array([[ 0,  1],\n",
      "       [ 4,  5],\n",
      "       [ 8,  9],\n",
      "       [12, 13]]), array([[ 2,  3],\n",
      "       [ 6,  7],\n",
      "       [10, 11],\n",
      "       [14, 15]]), array([], shape=(4, 0), dtype=int32)]\n"
     ]
    }
   ],
   "source": [
    "import numpy as np\n",
    "x = np.arange(16).reshape((4, 4))\n",
    "print(\"Original array:\",x)\n",
    "print(\"After splitting horizontally:\")\n",
    "print(np.hsplit(x, [2, 6]))"
   ]
  },
  {
   "cell_type": "code",
   "execution_count": null,
   "metadata": {},
   "outputs": [],
   "source": [
    "# Q73. Write the NumPy program to create a 5x5 matrix with row values   ranging from 0 to 4?  \n",
    "# Original array- [[ 0. 0. 0. 0. 0.] [ 0. 0. 0. 0. 0.] [ 0. 0. 0. 0. 0.] [ 0. 0. 0. 0. 0.] [ 0. 0. 0. 0. 0.]] \n",
    "# Row values ranging from 0 to 4. \n",
    "# [[ 0. 1. 2. 3. 4.] [ 0. 1. 2. 3. 4.] [ 0. 1. 2. 3. 4.] [ 0. 1. 2. 3. 4.] [ 0. 1. 2. 3. 4.]]  "
   ]
  },
  {
   "cell_type": "code",
   "execution_count": 165,
   "metadata": {},
   "outputs": [
    {
     "name": "stdout",
     "output_type": "stream",
     "text": [
      "Original array:\n",
      "[[0. 0. 0. 0. 0.]\n",
      " [0. 0. 0. 0. 0.]\n",
      " [0. 0. 0. 0. 0.]\n",
      " [0. 0. 0. 0. 0.]\n",
      " [0. 0. 0. 0. 0.]]\n",
      "Row values ranging from 0 to 4.\n",
      "[[0. 1. 2. 3. 4.]\n",
      " [0. 1. 2. 3. 4.]\n",
      " [0. 1. 2. 3. 4.]\n",
      " [0. 1. 2. 3. 4.]\n",
      " [0. 1. 2. 3. 4.]]\n"
     ]
    }
   ],
   "source": [
    "import numpy as np\n",
    "x = np.zeros((5,5))\n",
    "print(\"Original array:\")\n",
    "print(x)\n",
    "print(\"Row values ranging from 0 to 4.\")\n",
    "x += np.arange(5)\n",
    "print(x)"
   ]
  },
  {
   "cell_type": "code",
   "execution_count": null,
   "metadata": {},
   "outputs": [],
   "source": [
    "# Q74. Write the NumPy program to create an array of zeros and three   column types (integer, float, character)?         \n",
    "# Expected Output- [(1, 2., b'Albert Einstein') (2, 2., b'Edmond Halley') (3, 3., b'Gertrude B. Elion')]   "
   ]
  },
  {
   "cell_type": "code",
   "execution_count": 166,
   "metadata": {},
   "outputs": [
    {
     "name": "stdout",
     "output_type": "stream",
     "text": [
      "[(1, 2., b'Albert Einstein') (2, 2., b'Edmond Halley')\n",
      " (3, 3., b'Gertrude B. Elion')]\n"
     ]
    }
   ],
   "source": [
    "import numpy as np\n",
    "x = np.zeros((3,), dtype=('i4,f4,a40'))\n",
    "new_data = [(1, 2., \"Albert Einstein\"), (2, 2., \"Edmond Halley\"), (3, 3., \"Gertrude B. Elion\")]\n",
    "x[:] = new_data\n",
    "print(x)"
   ]
  },
  {
   "cell_type": "code",
   "execution_count": null,
   "metadata": {},
   "outputs": [],
   "source": [
    "# Q75. Write the NumPy program to remove the negative values in the   numpy array with 0?   \n",
    "# Expected Output- Original array: [-1 -4 0 2 3 4 5 -6] \n",
    "# Replace the negative values of the said array with 0- [0 0 0 2 3 4 5 0]  "
   ]
  },
  {
   "cell_type": "code",
   "execution_count": 167,
   "metadata": {},
   "outputs": [
    {
     "name": "stdout",
     "output_type": "stream",
     "text": [
      "Original array:\n",
      "[-1 -4  0  2  3  4  5 -6]\n",
      "Replace the negative values of the said array with 0:\n",
      "[0 0 0 2 3 4 5 0]\n"
     ]
    }
   ],
   "source": [
    "import numpy as np\n",
    "x = np.array([-1, -4, 0, 2, 3, 4, 5, -6])\n",
    "print(\"Original array:\")\n",
    "print(x)\n",
    "print(\"Replace the negative values of the said array with 0:\")\n",
    "x[x < 0] = 0\n",
    "print(x)"
   ]
  },
  {
   "cell_type": "code",
   "execution_count": null,
   "metadata": {},
   "outputs": [],
   "source": [
    "# Q76.  Write the NumPy program to compute the histogram of a set of   data? "
   ]
  },
  {
   "cell_type": "code",
   "execution_count": 169,
   "metadata": {},
   "outputs": [
    {
     "data": {
      "image/png": "[encoded data removed]",
      "text/plain": [
       "<Figure size 432x288 with 1 Axes>"
      ]
     },
     "metadata": {
      "needs_background": "light"
     },
     "output_type": "display_data"
    }
   ],
   "source": [
    "import numpy as np    \n",
    "import matplotlib.pyplot as plt\n",
    "plt.hist([1, 2, 1], bins=[0, 1, 2, 3, 5])\n",
    "plt.show()"
   ]
  },
  {
   "cell_type": "code",
   "execution_count": null,
   "metadata": {},
   "outputs": [],
   "source": [
    "# Q77. Write the NumPy program to compute the line graph of a set of data?  "
   ]
  },
  {
   "cell_type": "code",
   "execution_count": 170,
   "metadata": {},
   "outputs": [
    {
     "name": "stderr",
     "output_type": "stream",
     "text": [
      "C:\\Users\\Sreenivasan\\Anaconda3\\lib\\site-packages\\ipykernel_launcher.py:7: UserWarning: Matplotlib is currently using module://ipykernel.pylab.backend_inline, which is a non-GUI backend, so cannot show the figure.\n",
      "  import sys\n"
     ]
    },
    {
     "data": {
      "image/png": "[encoded data removed]",
      "text/plain": [
       "<Figure size 432x288 with 1 Axes>"
      ]
     },
     "metadata": {
      "needs_background": "light"
     },
     "output_type": "display_data"
    }
   ],
   "source": [
    "import numpy as np    \n",
    "import matplotlib.pyplot as plt\n",
    "arr = np.random.randint(1, 50, 10)\n",
    "y, x = np.histogram(arr, bins=np.arange(51))\n",
    "fig, ax = plt.subplots()\n",
    "ax.plot(x[:-1], y)\n",
    "fig.show()"
   ]
  },
  {
   "cell_type": "code",
   "execution_count": null,
   "metadata": {},
   "outputs": [],
   "source": [
    "# Q78. Write the NumPy program to extracts all the elements from second   row from given (4x4) array?  \n",
    "# Sample Output- Original array- [[ 0 1 2 3] [ 4 5 6 7] [ 8 9 10 11] [12 13 14 15]] Extracted data- Second row [4 5 6 7] "
   ]
  },
  {
   "cell_type": "code",
   "execution_count": 171,
   "metadata": {},
   "outputs": [
    {
     "name": "stdout",
     "output_type": "stream",
     "text": [
      "Original array:\n",
      "[[ 0  1  2  3]\n",
      " [ 4  5  6  7]\n",
      " [ 8  9 10 11]\n",
      " [12 13 14 15]]\n",
      "\n",
      "Extracted data: Second row\n",
      "[4 5 6 7]\n"
     ]
    }
   ],
   "source": [
    "import numpy as np\n",
    "arra_data = np.arange(0,16).reshape((4, 4))\n",
    "print(\"Original array:\")\n",
    "print(arra_data)\n",
    "print(\"\\nExtracted data: Second row\")\n",
    "print(arra_data[1,:])"
   ]
  },
  {
   "cell_type": "code",
   "execution_count": null,
   "metadata": {},
   "outputs": [],
   "source": [
    "# Q79. Write the NumPy program to extract first element of the second  row  and \n",
    "# fourth element of fourth row from a given (4x4) array?         \n",
    "# Sample Output- Original array- [[ 0 1 2 3] [ 4 5 6 7] [ 8 9 10 11] [12 13 14 15]]\n",
    "# Extracted data- First element of the second row and fourth element of fourth row [ 4 15] "
   ]
  },
  {
   "cell_type": "code",
   "execution_count": 173,
   "metadata": {},
   "outputs": [
    {
     "name": "stdout",
     "output_type": "stream",
     "text": [
      "Original array:\n",
      "[[ 0  1  2  3]\n",
      " [ 4  5  6  7]\n",
      " [ 8  9 10 11]\n",
      " [12 13 14 15]]\n",
      "\n",
      "Extracted data: First element of the second row and fourth element of fourth row  \n",
      "[ 4 15]\n"
     ]
    }
   ],
   "source": [
    "import numpy as np\n",
    "arra_data = np.arange(0,16).reshape((4, 4))\n",
    "print(\"Original array:\")\n",
    "print(arra_data)\n",
    "print(\"\\nExtracted data: First element of the second row and fourth element of fourth row  \")\n",
    "print(arra_data[[1,3], [0,3]])"
   ]
  },
  {
   "cell_type": "code",
   "execution_count": null,
   "metadata": {},
   "outputs": [],
   "source": [
    "# Q80. Write the NumPy program to add two arrays A and B of sizes (3,3)   and (,3)?  \n",
    "# Sample Output- Original array- Array-1 [[1 1 1] [1 1 1] [1 1 1]] Array-2 [0 1 2] A + B: [[1 2 3]  \n",
    "# [1 2 3] [1 2 3]] "
   ]
  },
  {
   "cell_type": "code",
   "execution_count": 174,
   "metadata": {},
   "outputs": [
    {
     "name": "stdout",
     "output_type": "stream",
     "text": [
      "Original array:\n",
      "Array-1\n",
      "[[1. 1. 1.]\n",
      " [1. 1. 1.]\n",
      " [1. 1. 1.]]\n",
      "Array-2\n",
      "[0 1 2]\n",
      "A + B:\n",
      "[[1. 2. 3.]\n",
      " [1. 2. 3.]\n",
      " [1. 2. 3.]]\n"
     ]
    }
   ],
   "source": [
    "import numpy as np\n",
    "A = np.ones((3,3))\n",
    "B = np.arange(3)\n",
    "print(\"Original array:\")\n",
    "print(\"Array-1\")\n",
    "print(A)\n",
    "print(\"Array-2\")\n",
    "print(B)\n",
    "print(\"A + B:\")\n",
    "new_array = A + B\n",
    "print(new_array)"
   ]
  },
  {
   "cell_type": "code",
   "execution_count": null,
   "metadata": {},
   "outputs": [],
   "source": [
    "# Q81.  Write the NumPy program to copy data from a given array to   another array?  \n",
    "# Sample Output- Original array- [24 27 30 29 18 14] Copy of the said array- [24 27 30 29 18 14] "
   ]
  },
  {
   "cell_type": "code",
   "execution_count": 175,
   "metadata": {},
   "outputs": [
    {
     "name": "stdout",
     "output_type": "stream",
     "text": [
      "Original array:\n",
      "[24 27 30 29 18 14]\n",
      "\n",
      "Copy of the said array:\n",
      "[24 27 30 29 18 14]\n"
     ]
    }
   ],
   "source": [
    "import numpy as np\n",
    "x = np.array([24, 27, 30, 29, 18, 14])\n",
    "print(\"Original array:\")\n",
    "print(x)\n",
    "y = np.empty_like (x)\n",
    "y[:] = x\n",
    "print(\"\\nCopy of the said array:\")\n",
    "print(y)"
   ]
  },
  {
   "cell_type": "code",
   "execution_count": null,
   "metadata": {},
   "outputs": [],
   "source": [
    "# Q82.  Write the NumPy program to calculate the sum of all columns of   the 2D numpy array?    \n",
    "# Sample Output- Original array- [[ 0 1 2 3 4 5 6 7 8] \n",
    "# [ 9 10 11 12 13 14 15 16 17] [18 19 20 21 22 23 24 25 26] [27 28 29 30 31 32 33 34 35]] \n",
    "# Sum of all columns- [54 58 62 66 70 74 78 82 86]  "
   ]
  },
  {
   "cell_type": "code",
   "execution_count": 176,
   "metadata": {},
   "outputs": [
    {
     "name": "stdout",
     "output_type": "stream",
     "text": [
      "Original array:\n",
      "[[ 0  1  2  3  4  5  6  7  8]\n",
      " [ 9 10 11 12 13 14 15 16 17]\n",
      " [18 19 20 21 22 23 24 25 26]\n",
      " [27 28 29 30 31 32 33 34 35]]\n",
      "\n",
      "Sum of all columns:\n",
      "[54 58 62 66 70 74 78 82 86]\n"
     ]
    }
   ],
   "source": [
    "import numpy as np\n",
    "num = np.arange(36)\n",
    "arr1 = np.reshape(num, [4, 9])\n",
    "print(\"Original array:\")\n",
    "print(arr1)\n",
    "result  = arr1.sum(axis=0)\n",
    "print(\"\\nSum of all columns:\")\n",
    "print(result)"
   ]
  },
  {
   "cell_type": "code",
   "execution_count": null,
   "metadata": {},
   "outputs": [],
   "source": [
    "# Q83.  Write the NumPy program to calculate averages without NaNs   along the given array?    \n",
    "# Sample Output- Original array- [[10. 20. 30.] [40. 50. nan] [nan 6. nan] [nan nan nan]] \n",
    "# Averages without NaNs along the said array- [20. 45. 6. nan] "
   ]
  },
  {
   "cell_type": "code",
   "execution_count": 177,
   "metadata": {},
   "outputs": [
    {
     "name": "stdout",
     "output_type": "stream",
     "text": [
      "Original array:\n",
      "[[10. 20. 30.]\n",
      " [40. 50. nan]\n",
      " [nan  6. nan]\n",
      " [nan nan nan]]\n",
      "Averages without NaNs along the said array:\n",
      "[20. 45.  6. nan]\n"
     ]
    }
   ],
   "source": [
    "import numpy as np\n",
    "arr1 = np.array([[10, 20 ,30], [40, 50, np.nan], [np.nan, 6, np.nan], [np.nan, np.nan, np.nan]])\n",
    "print(\"Original array:\")\n",
    "print(arr1)\n",
    "temp = np.ma.masked_array(arr1,np.isnan(arr1))\n",
    "result = np.mean(temp, axis=1)\n",
    "print(\"Averages without NaNs along the said array:\")\n",
    "print(result.filled(np.nan))"
   ]
  },
  {
   "cell_type": "code",
   "execution_count": null,
   "metadata": {},
   "outputs": [],
   "source": [
    "# Q84.  Create two arrays of six elements. Write the NumPy program to   \n",
    "# count the number of instances of a value occurring in one array on   the condition of another array.  \n",
    "# Sample Output- Original arrays- [ 10 -10 10 -10 -10 10] [0.85 0.45 0.9 0.8 0.12 0.6 ] \n",
    "# Number of instances of a value occurring in one array on the condition of another array: 3 "
   ]
  },
  {
   "cell_type": "code",
   "execution_count": 178,
   "metadata": {},
   "outputs": [
    {
     "name": "stdout",
     "output_type": "stream",
     "text": [
      "Original arrays:\n",
      "[ 10 -10  10 -10 -10  10]\n",
      "[0.85 0.45 0.9  0.8  0.12 0.6 ]\n",
      "\n",
      "Number of instances of a value occurring in one array on the condition of another array:\n",
      "3\n"
     ]
    }
   ],
   "source": [
    "import numpy as np\n",
    "x = np.array([10,-10,10,-10,-10,10])\n",
    "y = np.array([.85,.45,.9,.8,.12,.6])\n",
    "print(\"Original arrays:\")\n",
    "print(x)\n",
    "print(y)\n",
    "result = np.sum((x == 10) & (y > .5))\n",
    "print(\"\\nNumber of instances of a value occurring in one array on the condition of another array:\")\n",
    "print(result)"
   ]
  },
  {
   "cell_type": "code",
   "execution_count": null,
   "metadata": {},
   "outputs": [],
   "source": [
    "# Q85. Write the NumPy program to convert a Python dictionary to a   Numpy ndarray ?   \n",
    "# Original dictionary- \n",
    "# {'column0': {'a': 1, 'b': 0.0, 'c': 0.0, 'd': 2.0}, \n",
    "# 'column1': {'a': 3.0, 'b': 1, 'c': 0.0, 'd': -1.0}, \n",
    "# 'column2': {'a': 4, 'b': 1, 'c': 5.0, 'd': -1.0}, \n",
    "# 'column3': {'a': 3.0, 'b': -1.0, 'c': -1.0, 'd': -1.0}} \n",
    "# Type: <class 'dict'> ndarray- [[ 1. 0. 0. 2.] [ 3. 1. 0. -1.] [ 4. 1. 5. -1.] [ 3. -1. -1. -1.]] \n",
    "# Type: <class 'numpy.ndarray'> "
   ]
  },
  {
   "cell_type": "code",
   "execution_count": 179,
   "metadata": {},
   "outputs": [
    {
     "name": "stdout",
     "output_type": "stream",
     "text": [
      "\n",
      "Original dictionary:\n",
      "{'column0': {'a': 1, 'b': 0.0, 'c': 0.0, 'd': 2.0}, 'column1': {'a': 3.0, 'b': 1, 'c': 0.0, 'd': -1.0}, 'column2': {'a': 4, 'b': 1, 'c': 5.0, 'd': -1.0}, 'column3': {'a': 3.0, 'b': -1.0, 'c': -1.0, 'd': -1.0}}\n",
      "Type:  <class 'dict'>\n",
      "\n",
      "ndarray:\n",
      "[[ 1.  0.  0.  2.]\n",
      " [ 3.  1.  0. -1.]\n",
      " [ 4.  1.  5. -1.]\n",
      " [ 3. -1. -1. -1.]]\n",
      "Type:  <class 'numpy.ndarray'>\n"
     ]
    }
   ],
   "source": [
    "import numpy as np\n",
    "from ast import literal_eval\n",
    "udict = \"\"\"{\"column0\":{\"a\":1,\"b\":0.0,\"c\":0.0,\"d\":2.0},\n",
    "   \"column1\":{\"a\":3.0,\"b\":1,\"c\":0.0,\"d\":-1.0},\n",
    "   \"column2\":{\"a\":4,\"b\":1,\"c\":5.0,\"d\":-1.0},\n",
    "   \"column3\":{\"a\":3.0,\"b\":-1.0,\"c\":-1.0,\"d\":-1.0}\n",
    "  }\"\"\"\n",
    "t = literal_eval(udict)\n",
    "print(\"\\nOriginal dictionary:\")\n",
    "print(t)\n",
    "print(\"Type: \",type(t))\n",
    "result_nparra = np.array([[v[j] for j in ['a', 'b', 'c', 'd']] for k, v in t.items()])\n",
    "print(\"\\nndarray:\")\n",
    "print(result_nparra)\n",
    "print(\"Type: \",type(result_nparra))"
   ]
  },
  {
   "cell_type": "code",
   "execution_count": null,
   "metadata": {},
   "outputs": [],
   "source": [
    "# Q86. Write the Numpy program to find and store the non-zero unique   \n",
    "# rows in an array after comparing each row with other row in the   given matrix?  \n",
    "# Original array- [[ 1 1 0] [ 0 0 0] [ 0 2 3] [ 0 0 0] [ 0 -1 1] [ 0 0 0]] \n",
    "# Non-zero unique rows- [[ 1 1 0] [ 0 2 3] [ 0 -1 1]] "
   ]
  },
  {
   "cell_type": "code",
   "execution_count": 180,
   "metadata": {},
   "outputs": [
    {
     "name": "stdout",
     "output_type": "stream",
     "text": [
      "Original array:\n",
      "[[ 1  1  0]\n",
      " [ 0  0  0]\n",
      " [ 0  2  3]\n",
      " [ 0  0  0]\n",
      " [ 0 -1  1]\n",
      " [ 0  0  0]]\n",
      "\n",
      "Non-zero unique rows:\n",
      "[[ 1  1  0]\n",
      " [ 0  2  3]\n",
      " [ 0 -1  1]]\n"
     ]
    }
   ],
   "source": [
    "import numpy as np\n",
    "arra = np.array([[ 1,  1,  0],\n",
    "                 [ 0,  0,  0],\n",
    "                 [ 0,  2,  3],\n",
    "                 [ 0,  0,  0],\n",
    "                 [ 0, -1,  1],\n",
    "                 [ 0,  0,  0]])\n",
    "\n",
    "print(\"Original array:\")\n",
    "print(arra)\n",
    "temp = {(0, 0, 0)}\n",
    "result = []\n",
    "for idx, row in enumerate(map(tuple, arra)):\n",
    "    if row not in temp:\n",
    "        result.append(idx)\n",
    "print(\"\\nNon-zero unique rows:\")\n",
    "print(arra[result])"
   ]
  },
  {
   "cell_type": "code",
   "execution_count": null,
   "metadata": {},
   "outputs": [],
   "source": [
    "# Q87.  Write the NumPy program to multiply the matrix by another matrix   of complex numbers and \n",
    "# create a new matrix of complex   numbers?   \n",
    "# Sample output- First array- [ 1.+2.j 3.+4.j] Second array- [ 5.+6.j 7.+8.j] Product of above two arrays- (70-8j)  "
   ]
  },
  {
   "cell_type": "code",
   "execution_count": 181,
   "metadata": {},
   "outputs": [
    {
     "name": "stdout",
     "output_type": "stream",
     "text": [
      "First array:\n",
      "[1.+2.j 3.+4.j]\n",
      "Second array:\n",
      "[5.+6.j 7.+8.j]\n",
      "Product of above two arrays:\n",
      "(70-8j)\n"
     ]
    }
   ],
   "source": [
    "import numpy as np\n",
    "x = np.array([1+2j,3+4j])\n",
    "print(\"First array:\")\n",
    "print(x)\n",
    "y = np.array([5+6j,7+8j])\n",
    "print(\"Second array:\")\n",
    "print(y)\n",
    "z = np.vdot(x, y)\n",
    "print(\"Product of above two arrays:\")\n",
    "print(z)"
   ]
  },
  {
   "cell_type": "code",
   "execution_count": null,
   "metadata": {},
   "outputs": [],
   "source": [
    "# Q88. Write a NumPy program to generate the matrix product of two   Arrays?  \n",
    "# Sample Output- Matrices and vectors. x- [[1, 0], [1, 1]] y- [[3, 1], [2, 2]] Matrix product of above two arrays- \n",
    "# [[3 1] [5 3]] "
   ]
  },
  {
   "cell_type": "code",
   "execution_count": 182,
   "metadata": {},
   "outputs": [
    {
     "name": "stdout",
     "output_type": "stream",
     "text": [
      "Matrices and vectors.\n",
      "x:\n",
      "[[1, 0], [1, 1]]\n",
      "y:\n",
      "[[3, 1], [2, 2]]\n",
      "Matrix product of above two arrays:\n",
      "[[3 1]\n",
      " [5 3]]\n"
     ]
    }
   ],
   "source": [
    "import numpy as np\n",
    "x = [[1, 0], [1, 1]]\n",
    "y = [[3, 1], [2, 2]]\n",
    "print(\"Matrices and vectors.\")\n",
    "print(\"x:\")\n",
    "print(x)\n",
    "print(\"y:\")\n",
    "print(y)\n",
    "print(\"Matrix product of above two arrays:\")\n",
    "print(np.matmul(x, y))"
   ]
  },
  {
   "cell_type": "code",
   "execution_count": null,
   "metadata": {},
   "outputs": [],
   "source": [
    "# Q89. Write the NumPy program to find roots of the following   Polynomials?  \n",
    "# a) (x2 - 4x + 7) b) x4 - 11x3 + 9x2 + 11x ? 10\n",
    "# Sample output- \n",
    "# Roots of the first polynomial- [ 1. 1.] \n",
    "# Roots of the second polynomial- [ 11.04461946+0.j -0.87114210+0.j 0.91326132+0.4531004j 0.91326132-0.4531004j ] "
   ]
  },
  {
   "cell_type": "code",
   "execution_count": 183,
   "metadata": {},
   "outputs": [
    {
     "name": "stdout",
     "output_type": "stream",
     "text": [
      "Roots of the first polynomial:\n",
      "[1. 1.]\n",
      "Roots of the second polynomial:\n",
      "[11.04461946+0.j        -0.8711421 +0.j         0.91326132+0.4531004j\n",
      "  0.91326132-0.4531004j]\n"
     ]
    }
   ],
   "source": [
    "import numpy as np\n",
    "print(\"Roots of the first polynomial:\")\n",
    "print(np.roots([1, -2, 1]))\n",
    "print(\"Roots of the second polynomial:\")\n",
    "print(np.roots([1, -12, 10, 7, -10]))"
   ]
  },
  {
   "cell_type": "code",
   "execution_count": null,
   "metadata": {},
   "outputs": [],
   "source": [
    "# Q90. Write the NumPy program to calculate inverse of sine, cosine,  \n",
    "# and inverse tangent for all elements in a given array?           \n",
    "# Sample output- \n",
    "# Inverse sine- [-1.57079633 0. 1.57079633]\n",
    "# Inverse cosine- [3.14159265 1.57079633 0. ] \n",
    "# Inverse tangent- [-0.78539816 0. 0.78539816] "
   ]
  },
  {
   "cell_type": "code",
   "execution_count": 184,
   "metadata": {},
   "outputs": [
    {
     "name": "stdout",
     "output_type": "stream",
     "text": [
      "Inverse sine: [-1.57079633  0.          1.57079633]\n",
      "Inverse cosine: [3.14159265 1.57079633 0.        ]\n",
      "Inverse tangent: [-0.78539816  0.          0.78539816]\n"
     ]
    }
   ],
   "source": [
    "import numpy as np\n",
    "x = np.array([-1., 0, 1.])\n",
    "print(\"Inverse sine:\", np.arcsin(x))\n",
    "print(\"Inverse cosine:\", np.arccos(x))\n",
    "print(\"Inverse tangent:\", np.arctan(x))"
   ]
  },
  {
   "cell_type": "code",
   "execution_count": null,
   "metadata": {},
   "outputs": [],
   "source": [
    "# Q91. Write the NumPy program to calculate the difference between in   neighbouring elements,\n",
    "# element-wise of a given array?          \n",
    "# Sample output- \n",
    "# Original array- [1 3 5 7 0] Difference between neighbouring elements, element-wise of the said array- [ 2 2 2 -7]   "
   ]
  },
  {
   "cell_type": "code",
   "execution_count": 185,
   "metadata": {},
   "outputs": [
    {
     "name": "stdout",
     "output_type": "stream",
     "text": [
      "Original array: \n",
      "[1 3 5 7 0]\n",
      "Difference between neighboring elements, element-wise, and prepend [0, 0] and append[200] to the said array:\n",
      "[  0   0   2   2   2  -7 200]\n"
     ]
    }
   ],
   "source": [
    "import numpy as np\n",
    "x = np.array([1, 3, 5, 7, 0])\n",
    "print(\"Original array: \")\n",
    "print(x)\n",
    "r1 = np.ediff1d(x, to_begin=[0, 0], to_end=[200])\n",
    "r2 = np.insert(np.append(np.diff(x), 200), 0, [0, 0])\n",
    "assert np.array_equiv(r1, r2)\n",
    "print(\"Difference between neighboring elements, element-wise, and prepend [0, 0] and append[200] to the said array:\")\n",
    "print(r2)"
   ]
  },
  {
   "cell_type": "code",
   "execution_count": null,
   "metadata": {},
   "outputs": [],
   "source": [
    "# Q92. Write the Python program to find the maximum and the minimum   value of a given flattened array?  \n",
    "# Expected Output- Original flattened array- [[0 1] [2 3]] \n",
    "# Maximum value of the above flattened array- 3 Minimum value of the above flattened array- 0 "
   ]
  },
  {
   "cell_type": "code",
   "execution_count": 186,
   "metadata": {},
   "outputs": [
    {
     "name": "stdout",
     "output_type": "stream",
     "text": [
      "Original flattened array:\n",
      "[[0 1]\n",
      " [2 3]]\n",
      "Maximum value of the above flattened array:\n",
      "3\n",
      "Minimum value of the above flattened array:\n",
      "0\n"
     ]
    }
   ],
   "source": [
    "import numpy as np\n",
    "a = np.arange(4).reshape((2,2))\n",
    "print(\"Original flattened array:\")\n",
    "print(a)\n",
    "print(\"Maximum value of the above flattened array:\")\n",
    "print(np.amax(a))\n",
    "print(\"Minimum value of the above flattened array:\")\n",
    "print(np.amin(a))"
   ]
  },
  {
   "cell_type": "code",
   "execution_count": null,
   "metadata": {},
   "outputs": [],
   "source": [
    "# Q93. Write the NumPy program to calculate the difference between in   the maximum and \n",
    "# the minimum values of a given array along the   second axis ?            \n",
    "# Expected Output- Original array- [[ 0 1 2 3 4 5] [ 6 7 8 9 10 11]]\n",
    "# Difference between the maximum and the minimum values of the said array- [5 5] "
   ]
  },
  {
   "cell_type": "code",
   "execution_count": 187,
   "metadata": {},
   "outputs": [
    {
     "name": "stdout",
     "output_type": "stream",
     "text": [
      "\n",
      "Original array:\n",
      "[[ 0  1  2  3  4  5]\n",
      " [ 6  7  8  9 10 11]]\n",
      "\n",
      "Difference between the maximum and the minimum values of the said array:\n",
      "[5 5]\n"
     ]
    }
   ],
   "source": [
    "import numpy as np\n",
    "x = np.arange(12).reshape((2, 6))\n",
    "print(\"\\nOriginal array:\")\n",
    "print(x)\n",
    "r1 = np.ptp(x, 1)\n",
    "r2 = np.amax(x, 1) - np.amin(x, 1)\n",
    "assert np.allclose(r1, r2)\n",
    "print(\"\\nDifference between the maximum and the minimum values of the said array:\")\n",
    "print(r1)"
   ]
  },
  {
   "cell_type": "code",
   "execution_count": null,
   "metadata": {},
   "outputs": [],
   "source": [
    "# Q94. Write the NumPy program to compute the weighted of the given   array ?  \n",
    "# Sample Output- Original array- [0 1 2 3 4] Weighted average of the said array- 2.6666666666666665 "
   ]
  },
  {
   "cell_type": "code",
   "execution_count": 188,
   "metadata": {},
   "outputs": [
    {
     "name": "stdout",
     "output_type": "stream",
     "text": [
      "\n",
      "Original array:\n",
      "[0 1 2 3 4]\n",
      "\n",
      "Weighted average of the said array:\n",
      "2.6666666666666665\n"
     ]
    }
   ],
   "source": [
    "import numpy as np\n",
    "x = np.arange(5)\n",
    "print(\"\\nOriginal array:\")\n",
    "print(x)\n",
    "weights = np.arange(1, 6)\n",
    "r1 = np.average(x, weights=weights)\n",
    "r2 = (x*(weights/weights.sum())).sum()\n",
    "assert np.allclose(r1, r2)\n",
    "print(\"\\nWeighted average of the said array:\")\n",
    "print(r1)"
   ]
  },
  {
   "cell_type": "code",
   "execution_count": null,
   "metadata": {},
   "outputs": [],
   "source": [
    "# Q95. Write the NumPy program to compute the mean, standard   deviation, \n",
    "# and the variance of a given array along the second  axis?              \n",
    "# Sample output- Original array- [0 1 2 3 4 5] Mean- 2.5 std- 1 variance- 2.9166666666666665 "
   ]
  },
  {
   "cell_type": "code",
   "execution_count": 189,
   "metadata": {},
   "outputs": [
    {
     "name": "stdout",
     "output_type": "stream",
     "text": [
      "\n",
      "Original array:\n",
      "[0 1 2 3 4 5]\n",
      "\n",
      "Mean:  2.5\n",
      "\n",
      "std:  1\n",
      "\n",
      "variance:  2.9166666666666665\n"
     ]
    }
   ],
   "source": [
    "import numpy as np\n",
    "x = np.arange(6)\n",
    "print(\"\\nOriginal array:\")\n",
    "print(x)\n",
    "r1 = np.mean(x)\n",
    "r2 = np.average(x)\n",
    "assert np.allclose(r1, r2)\n",
    "print(\"\\nMean: \", r1)\n",
    "r1 = np.std(x)\n",
    "r2 = np.sqrt(np.mean((x - np.mean(x)) ** 2 ))\n",
    "assert np.allclose(r1, r2)\n",
    "print(\"\\nstd: \", 1)\n",
    "r1= np.var(x)\n",
    "r2 = np.mean((x - np.mean(x)) ** 2 )\n",
    "assert np.allclose(r1, r2)\n",
    "print(\"\\nvariance: \", r1)"
   ]
  },
  {
   "cell_type": "code",
   "execution_count": null,
   "metadata": {},
   "outputs": [],
   "source": [
    "# Q96. Write the Numpy program to compute the covariance matrix of the   two given arrays?    \n",
    "# Sample Output-\n",
    "# Original array1- [0 1 2] Original array1- [2 1 0] Covariance matrix of the said arrays- [[ 1. -1.] [-1. 1.]] "
   ]
  },
  {
   "cell_type": "code",
   "execution_count": 190,
   "metadata": {},
   "outputs": [
    {
     "name": "stdout",
     "output_type": "stream",
     "text": [
      "\n",
      "Original array1:\n",
      "[0 1 2]\n",
      "\n",
      "Original array1:\n",
      "[2 1 0]\n",
      "\n",
      "Covariance matrix of the said arrays:\n",
      " [[ 1. -1.]\n",
      " [-1.  1.]]\n"
     ]
    }
   ],
   "source": [
    "import numpy as np\n",
    "x = np.array([0, 1, 2])\n",
    "y = np.array([2, 1, 0])\n",
    "print(\"\\nOriginal array1:\")\n",
    "print(x)\n",
    "print(\"\\nOriginal array1:\")\n",
    "print(y)\n",
    "print(\"\\nCovariance matrix of the said arrays:\\n\",np.cov(x, y))"
   ]
  },
  {
   "cell_type": "code",
   "execution_count": null,
   "metadata": {},
   "outputs": [],
   "source": [
    "# Q97. Write a NumPy program to compute the cross-correlation of two   given arrays ?  \n",
    "# Sample Output- \n",
    "# Original array1- [0 1 3] \n",
    "# Original array1- [2 4 5] \n",
    "# Cross-correlation of the said arrays- [ [ 2.33333333 2.16666667 ]   [ 2.16666667 2.33333333 ] ] "
   ]
  },
  {
   "cell_type": "code",
   "execution_count": 191,
   "metadata": {},
   "outputs": [
    {
     "name": "stdout",
     "output_type": "stream",
     "text": [
      "\n",
      "Original array1:\n",
      "[0 1 3]\n",
      "\n",
      "Original array1:\n",
      "[2 4 5]\n",
      "\n",
      "Cross-correlation of the said arrays:\n",
      " [[2.33333333 2.16666667]\n",
      " [2.16666667 2.33333333]]\n"
     ]
    }
   ],
   "source": [
    "import numpy as np\n",
    "x = np.array([0, 1, 3])\n",
    "y = np.array([2, 4, 5])\n",
    "print(\"\\nOriginal array1:\")\n",
    "print(x)\n",
    "print(\"\\nOriginal array1:\")\n",
    "print(y)\n",
    "print(\"\\nCross-correlation of the said arrays:\\n\",np.cov(x, y))"
   ]
  },
  {
   "cell_type": "code",
   "execution_count": null,
   "metadata": {},
   "outputs": [],
   "source": [
    "# Q98. Write the NumPy program to compute Pearson product-moment   correlation coefficients of two given arrays?  \n",
    "# Sample Output- \n",
    "# Original array1- [0 1 3]\n",
    "# Original array1- [2 4 5] \n",
    "# Pearson product-moment correlation coefficients of the said arrays- [[1. 0.92857143] [0.92857143 1. ]]  "
   ]
  },
  {
   "cell_type": "code",
   "execution_count": 192,
   "metadata": {},
   "outputs": [
    {
     "name": "stdout",
     "output_type": "stream",
     "text": [
      "\n",
      "Original array1:\n",
      "[0 1 3]\n",
      "\n",
      "Original array1:\n",
      "[2 4 5]\n",
      "\n",
      "Pearson product-moment correlation coefficients of the said arrays:\n",
      " [[1.         0.92857143]\n",
      " [0.92857143 1.        ]]\n"
     ]
    }
   ],
   "source": [
    "import numpy as np\n",
    "x = np.array([0, 1, 3])\n",
    "y = np.array([2, 4, 5])\n",
    "print(\"\\nOriginal array1:\")\n",
    "print(x)\n",
    "print(\"\\nOriginal array1:\")\n",
    "print(y)\n",
    "print(\"\\nPearson product-moment correlation coefficients of the said arrays:\\n\",np.corrcoef(x, y))"
   ]
  },
  {
   "cell_type": "code",
   "execution_count": null,
   "metadata": {},
   "outputs": [],
   "source": [
    "# Q99. Write the python program to count the number of occurrences of  \n",
    "# each value in a given array of non-negative integers?         \n",
    "# Note: bincount() Function- It  count the occurrence of each value in an array of the \n",
    "# non- negative integers in the range of the array between the minimum and maximum values     \n",
    "# including the values that did not occur. \n",
    "# Sample Output-\n",
    "# Original array- [0, 1, 6, 1, 4, 1, 2, 2, 7] Number of occurrences of each value in array- [1 3 2 0 1 0 1 1] "
   ]
  },
  {
   "cell_type": "code",
   "execution_count": 193,
   "metadata": {},
   "outputs": [
    {
     "name": "stdout",
     "output_type": "stream",
     "text": [
      "Original array:\n",
      "[0, 1, 6, 1, 4, 1, 2, 2, 7]\n",
      "Number of occurrences of each value in array: \n",
      "[1 3 2 0 1 0 1 1]\n"
     ]
    }
   ],
   "source": [
    "import numpy as np\n",
    "array1 = [0, 1, 6, 1, 4, 1, 2, 2, 7] \n",
    "print(\"Original array:\")\n",
    "print(array1)\n",
    "print(\"Number of occurrences of each value in array: \")\n",
    "print(np.bincount(array1))"
   ]
  },
  {
   "cell_type": "code",
   "execution_count": null,
   "metadata": {},
   "outputs": [],
   "source": [
    "# Q100. Write a Numpy program to compute the histogram of nums   against the bins? "
   ]
  },
  {
   "cell_type": "code",
   "execution_count": 194,
   "metadata": {},
   "outputs": [
    {
     "name": "stdout",
     "output_type": "stream",
     "text": [
      "nums:  [0.5 0.7 1.  1.2 1.3 2.1]\n",
      "bins:  [0 1 2 3]\n",
      "Result: (array([2, 3, 1], dtype=int64), array([0, 1, 2, 3]))\n"
     ]
    },
    {
     "data": {
      "image/png": "[encoded data removed]",
      "text/plain": [
       "<Figure size 432x288 with 1 Axes>"
      ]
     },
     "metadata": {
      "needs_background": "light"
     },
     "output_type": "display_data"
    }
   ],
   "source": [
    "import numpy as np\n",
    "import matplotlib.pyplot as plt\n",
    "nums = np.array([0.5, 0.7, 1.0, 1.2, 1.3, 2.1])\n",
    "bins = np.array([0, 1, 2, 3])\n",
    "print(\"nums: \",nums)\n",
    "print(\"bins: \",bins)\n",
    "print(\"Result:\", np.histogram(nums, bins))\n",
    "plt.hist(nums, bins=bins)\n",
    "plt.show()"
   ]
  },
  {
   "cell_type": "code",
   "execution_count": null,
   "metadata": {},
   "outputs": [],
   "source": [
    "# Q101. Write the Python program to add, subtract, multiply and divide   two pandas series ?   \n",
    "# Sample Series- [2, 4, 6, 8, 10], [1, 3, 5, 7, 9] "
   ]
  },
  {
   "cell_type": "code",
   "execution_count": 195,
   "metadata": {},
   "outputs": [
    {
     "name": "stdout",
     "output_type": "stream",
     "text": [
      "Add two Series:\n",
      "0     3\n",
      "1     7\n",
      "2    11\n",
      "3    15\n",
      "4    19\n",
      "dtype: int64\n",
      "Subtract two Series:\n",
      "0    1\n",
      "1    1\n",
      "2    1\n",
      "3    1\n",
      "4    1\n",
      "dtype: int64\n",
      "Multiply two Series:\n",
      "0     2\n",
      "1    12\n",
      "2    30\n",
      "3    56\n",
      "4    90\n",
      "dtype: int64\n",
      "Divide Series1 by Series2:\n",
      "0    2.000000\n",
      "1    1.333333\n",
      "2    1.200000\n",
      "3    1.142857\n",
      "4    1.111111\n",
      "dtype: float64\n"
     ]
    }
   ],
   "source": [
    "import pandas as pd\n",
    "ds1 = pd.Series([2, 4, 6, 8, 10])\n",
    "ds2 = pd.Series([1, 3, 5, 7, 9])\n",
    "ds = ds1 + ds2\n",
    "print(\"Add two Series:\")\n",
    "print(ds)\n",
    "print(\"Subtract two Series:\")\n",
    "ds = ds1 - ds2\n",
    "print(ds)\n",
    "print(\"Multiply two Series:\")\n",
    "ds = ds1 * ds2\n",
    "print(ds)\n",
    "print(\"Divide Series1 by Series2:\")\n",
    "ds = ds1 / ds2\n",
    "print(ds)"
   ]
  },
  {
   "cell_type": "code",
   "execution_count": null,
   "metadata": {},
   "outputs": [],
   "source": [
    "# Q102. Write a Python program to convert a dictionary to the Pandas   Series?  \n",
    "# Sample Series- \n",
    "# Original dictionary- {'a': 100, 'b': 200, 'c': 300, 'd': 400, 'e': 800} \n",
    "# Converted series - a  100 b  200 c  300 d  400 e  800 dtype- int64  "
   ]
  },
  {
   "cell_type": "code",
   "execution_count": 196,
   "metadata": {},
   "outputs": [
    {
     "name": "stdout",
     "output_type": "stream",
     "text": [
      "Original dictionary:\n",
      "{'a': 100, 'b': 200, 'c': 300, 'd': 400, 'e': 800}\n",
      "Converted series:\n",
      "a    100\n",
      "b    200\n",
      "c    300\n",
      "d    400\n",
      "e    800\n",
      "dtype: int64\n"
     ]
    }
   ],
   "source": [
    "import pandas as pd\n",
    "d1 = {'a': 100, 'b': 200, 'c':300, 'd':400, 'e':800}\n",
    "print(\"Original dictionary:\")\n",
    "print(d1)\n",
    "new_series = pd.Series(d1)\n",
    "print(\"Converted series:\")\n",
    "print(new_series)"
   ]
  },
  {
   "cell_type": "code",
   "execution_count": null,
   "metadata": {},
   "outputs": [],
   "source": [
    "# Q103. Write a python program to change the data type of given a   column or a Series?  \n",
    "# Sample Series- Original Data Series- 0 100 \n",
    "# 1  200 2  python 3  300.12 4  400 dtype- object \n",
    "# Change the said data type to numeric- 0 100.00 1 200.00 2 NaN 3 300.12 4  400.00 dtype- float64 "
   ]
  },
  {
   "cell_type": "code",
   "execution_count": 197,
   "metadata": {},
   "outputs": [
    {
     "name": "stdout",
     "output_type": "stream",
     "text": [
      "Original Data Series:\n",
      "0       100\n",
      "1       200\n",
      "2    python\n",
      "3    300.12\n",
      "4       400\n",
      "dtype: object\n",
      "Change the said data type to numeric:\n",
      "0    100.00\n",
      "1    200.00\n",
      "2       NaN\n",
      "3    300.12\n",
      "4    400.00\n",
      "dtype: float64\n"
     ]
    }
   ],
   "source": [
    "import pandas as pd\n",
    "s1 = pd.Series(['100', '200', 'python', '300.12', '400'])\n",
    "print(\"Original Data Series:\")\n",
    "print(s1)\n",
    "print(\"Change the said data type to numeric:\")\n",
    "s2 = pd.to_numeric(s1, errors='coerce')\n",
    "print(s2)"
   ]
  },
  {
   "cell_type": "code",
   "execution_count": null,
   "metadata": {},
   "outputs": [],
   "source": [
    "# Q104. Write the python pandas program to convert the first column of a   DataFrame as a Series?   \n",
    "# Sample Output-\n",
    "# Original DataFrame- col1 col2 col3 0 1 4 7 1 2 5 5 2 3 6  8 3 4 9 12 4 7 5 1 5 11 0 11 1st \n",
    "# column as a Series- 0 1 1 2 2 3 3 4 4 7 5 11 Name- col1, dtype- int64 <class 'pandas.core.series.Series'> "
   ]
  },
  {
   "cell_type": "code",
   "execution_count": 198,
   "metadata": {},
   "outputs": [
    {
     "name": "stdout",
     "output_type": "stream",
     "text": [
      "Original DataFrame\n",
      "   col1  col2  col3\n",
      "0     1     4     7\n",
      "1     2     5     5\n",
      "2     3     6     8\n",
      "3     4     9    12\n",
      "4     7     5     1\n",
      "5    11     0    11\n",
      "\n",
      "1st column as a Series:\n",
      "0     1\n",
      "1     2\n",
      "2     3\n",
      "3     4\n",
      "4     7\n",
      "5    11\n",
      "Name: col1, dtype: int64\n",
      "<class 'pandas.core.series.Series'>\n"
     ]
    },
    {
     "name": "stderr",
     "output_type": "stream",
     "text": [
      "C:\\Users\\Sreenivasan\\Anaconda3\\lib\\site-packages\\ipykernel_launcher.py:6: FutureWarning: \n",
      ".ix is deprecated. Please use\n",
      ".loc for label based indexing or\n",
      ".iloc for positional indexing\n",
      "\n",
      "See the documentation here:\n",
      "http://pandas.pydata.org/pandas-docs/stable/user_guide/indexing.html#ix-indexer-is-deprecated\n",
      "  \n"
     ]
    }
   ],
   "source": [
    "import pandas as pd\n",
    "d = {'col1': [1, 2, 3, 4, 7, 11], 'col2': [4, 5, 6, 9, 5, 0], 'col3': [7, 5, 8, 12, 1,11]}\n",
    "df = pd.DataFrame(data=d)\n",
    "print(\"Original DataFrame\")\n",
    "print(df)\n",
    "s1 = df.ix[:,0]\n",
    "print(\"\\n1st column as a Series:\")\n",
    "print(s1)\n",
    "print(type(s1))"
   ]
  },
  {
   "cell_type": "code",
   "execution_count": null,
   "metadata": {},
   "outputs": [],
   "source": [
    "# Q105. Write a pandas program to create the mean and standard   deviation of the data of a given Series?   \n",
    "# Sample Output- \n",
    "# Original Data Series- 0  1 1  2 2  3 3  4 4  5 5  6 6  7 7  8 8  9 9  5 10 3 \n",
    "# dtype- int64 Mean of the said Data Series- 4.81818181818 Standard deviation of the said Data Series- 2.52262489555 "
   ]
  },
  {
   "cell_type": "code",
   "execution_count": 199,
   "metadata": {},
   "outputs": [
    {
     "name": "stdout",
     "output_type": "stream",
     "text": [
      "Original Data Series:\n",
      "0     1\n",
      "1     2\n",
      "2     3\n",
      "3     4\n",
      "4     5\n",
      "5     6\n",
      "6     7\n",
      "7     8\n",
      "8     9\n",
      "9     5\n",
      "10    3\n",
      "dtype: int64\n",
      "Mean of the said Data Series:\n",
      "4.818181818181818\n",
      "Standard deviation of the said Data Series:\n",
      "2.522624895547565\n"
     ]
    }
   ],
   "source": [
    "import pandas as pd\n",
    "s = pd.Series(data = [1,2,3,4,5,6,7,8,9,5,3])\n",
    "print(\"Original Data Series:\")\n",
    "print(s)\n",
    "print(\"Mean of the said Data Series:\")\n",
    "print(s.mean())\n",
    "print(\"Standard deviation of the said Data Series:\")\n",
    "print(s.std())"
   ]
  },
  {
   "cell_type": "code",
   "execution_count": null,
   "metadata": {},
   "outputs": [],
   "source": [
    "# Q106. Write a pandas program to get powers of an array values   element-wise?          \n",
    "# Note First array elements raised the powers from the second array. \n",
    "# Sample data: {'X ':[78,85,96,80,86], ' Y ':[84,94,89,83,86],'Z':[86,97,96,72,83]} \n",
    "# Expected Output: X Y Z 0 78 84 86 1 85 94 97 2 96 89  96 3 80 83 72 4 86 86 83  "
   ]
  },
  {
   "cell_type": "code",
   "execution_count": 200,
   "metadata": {},
   "outputs": [
    {
     "name": "stdout",
     "output_type": "stream",
     "text": [
      "    X   Y   Z\n",
      "0  78  84  86\n",
      "1  85  94  97\n",
      "2  96  89  96\n",
      "3  80  83  72\n",
      "4  86  86  83\n"
     ]
    }
   ],
   "source": [
    "import pandas as pd\n",
    "df = pd.DataFrame({'X':[78,85,96,80,86], 'Y':[84,94,89,83,86],'Z':[86,97,96,72,83]});\n",
    "print(df)"
   ]
  },
  {
   "cell_type": "code",
   "execution_count": null,
   "metadata": {},
   "outputs": [],
   "source": [
    "# Q107. Write the pandas program to get the first 3 rows of a given   DataFrame?  \n",
    "# Sample Python dictionary data and list labels- \n",
    "# exam_data = {'name': ['Anastasia', 'Dima', 'Katherine', 'James', 'Emily', 'Michael', 'Matthew', 'Laura', 'Kevin', 'Jonas'], \n",
    "# 'score': [12.5, 9, 16.5, np.nan, 9, 20, 14.5, np.nan, 8, 19], \n",
    "#'attempts'- [1, 3, 2, 3, 2, 3, 1, 1, 2, 1], \n",
    "# 'qualify'- [ 'yes', 'no', 'yes' , 'no', ' no ', ' yes ', 'yes', 'no',  'no',  'yes' ] } \n",
    "# labels = ['a', 'b', 'c', 'd', 'e', 'f', 'g', 'h', 'i', 'j' ] \n",
    "# Expected Output- \n",
    "# First three rows of the data frame- attempts name qualify score a  1  Anastasia yes 12.5\n",
    "# b  3  Dima no  9.0 c  2  Katherine  yes  16.5 "
   ]
  },
  {
   "cell_type": "code",
   "execution_count": 201,
   "metadata": {},
   "outputs": [
    {
     "name": "stdout",
     "output_type": "stream",
     "text": [
      "First three rows of the data frame:\n",
      "        name  score  attempts qualify\n",
      "a  Anastasia   12.5         1     yes\n",
      "b       Dima    9.0         3      no\n",
      "c  Katherine   16.5         2     yes\n"
     ]
    }
   ],
   "source": [
    "import pandas as pd\n",
    "import numpy as np\n",
    "\n",
    "exam_data  = {'name': ['Anastasia', 'Dima', 'Katherine', 'James', 'Emily', 'Michael', 'Matthew', 'Laura', 'Kevin', 'Jonas'],\n",
    "        'score': [12.5, 9, 16.5, np.nan, 9, 20, 14.5, np.nan, 8, 19],\n",
    "        'attempts': [1, 3, 2, 3, 2, 3, 1, 1, 2, 1],\n",
    "        'qualify': ['yes', 'no', 'yes', 'no', 'no', 'yes', 'yes', 'no', 'no', 'yes']}\n",
    "labels = ['a', 'b', 'c', 'd', 'e', 'f', 'g', 'h', 'i', 'j']\n",
    "\n",
    "df = pd.DataFrame(exam_data , index=labels)\n",
    "print(\"First three rows of the data frame:\")\n",
    "print(df.iloc[:3])"
   ]
  },
  {
   "cell_type": "code",
   "execution_count": null,
   "metadata": {},
   "outputs": [],
   "source": [
    "# Q108:  Write the pandas program to select the specified columns and      the rows from a given data frame?     \n",
    "# Sample Python dictionary data and list labels- \n",
    "# Select 'name' and 'score' columns in rows 1, 3, 5, 6 from the following data frame. \n",
    "# exam_data = {'name ': [ 'Anastasia', 'Dima', 'Katherine', 'James', 'Emily', 'Michael', 'Matthew', 'Laura', \n",
    "# 'Kevin', 'Jonas'], 'score'- [12.5, 9, 16.5, np.nan, 9, 20, 14.5,  np.nan, 8, 19], \n",
    "# 'attempts'- [1, 3, 2, 3, 2, 3, 1, 1, 2, 1], \n",
    "# 'qualify'- ['yes', 'no', 'yes', 'no', 'no', 'yes', 'yes', 'no', 'no', 'yes'] } \n",
    "# labels = ['a ', ' b ', ' c ', ' d ', ' e ', ' f ', ' g ', 'h', 'i', 'j'] \n",
    "# Expected Output- Select specific columns and rows- name score b Dima 9.0 d James NaN f Michael 20.0 g Matthew 14.5 "
   ]
  },
  {
   "cell_type": "code",
   "execution_count": 202,
   "metadata": {},
   "outputs": [
    {
     "name": "stdout",
     "output_type": "stream",
     "text": [
      "Select specific columns and rows:\n",
      "   score qualify\n",
      "b    9.0      no\n",
      "d    NaN      no\n",
      "f   20.0     yes\n",
      "g   14.5     yes\n"
     ]
    }
   ],
   "source": [
    "import pandas as pd\n",
    "import numpy as np\n",
    "\n",
    "exam_data  = {'name': ['Anastasia', 'Dima', 'Katherine', 'James', 'Emily', 'Michael', 'Matthew', 'Laura', 'Kevin', 'Jonas'],\n",
    "        'score': [12.5, 9, 16.5, np.nan, 9, 20, 14.5, np.nan, 8, 19],\n",
    "        'attempts': [1, 3, 2, 3, 2, 3, 1, 1, 2, 1],\n",
    "        'qualify': ['yes', 'no', 'yes', 'no', 'no', 'yes', 'yes', 'no', 'no', 'yes']}\n",
    "labels = ['a', 'b', 'c', 'd', 'e', 'f', 'g', 'h', 'i', 'j']\n",
    "\n",
    "df = pd.DataFrame(exam_data , index=labels)\n",
    "print(\"Select specific columns and rows:\")\n",
    "print(df.iloc[[1, 3, 5, 6], [1, 3]])"
   ]
  },
  {
   "cell_type": "code",
   "execution_count": null,
   "metadata": {},
   "outputs": [],
   "source": [
    "# Q109. Write the pandas program to calculate mean score for each   different student in DataFrame?  \n",
    "# Sample Python dictionary data and list labels- \n",
    "# exam_data = {'name': ['Anastasia', 'Dima', 'Katherine', 'James', 'Emily', 'Michael', \n",
    "# 'Matthew', 'Laura', 'Kevin', 'Jonas'], \n",
    "# 'score': [12.5, 9, 16.5, np.nan, 9, 20, 14.5, np.nan, 8, 19],\n",
    "# 'attempts'- [1, 3, 2, 3, 2, 3, 1, 1, 2, 1], \n",
    "# 'qualify'- ['yes', 'no', ' yes ', ' no ', ' no ', ' yes ', ' yes ', ' no ', ' no ', ' yes '] }\n",
    "# labels = ['a', 'b', 'c', 'd', 'e', 'f', 'g', 'h', 'i', 'j'] \n",
    "# Expected Output- Mean score for each different student in data frame: 13.5625 "
   ]
  },
  {
   "cell_type": "code",
   "execution_count": 203,
   "metadata": {},
   "outputs": [
    {
     "name": "stdout",
     "output_type": "stream",
     "text": [
      "\n",
      "Mean score for each different student in data frame:\n",
      "13.5625\n"
     ]
    }
   ],
   "source": [
    "import pandas as pd\n",
    "import numpy as np\n",
    "exam_data  = {'name': ['Anastasia', 'Dima', 'Katherine', 'James', 'Emily', 'Michael', 'Matthew', 'Laura', 'Kevin', 'Jonas'],\n",
    "        'score': [12.5, 9, 16.5, np.nan, 9, 20, 14.5, np.nan, 8, 19],\n",
    "        'attempts': [1, 3, 2, 3, 2, 3, 1, 1, 2, 1],\n",
    "        'qualify': ['yes', 'no', 'yes', 'no', 'no', 'yes', 'yes', 'no', 'no', 'yes']}\n",
    "labels = ['a', 'b', 'c', 'd', 'e', 'f', 'g', 'h', 'i', 'j']\n",
    "\n",
    "df = pd.DataFrame(exam_data , index=labels)\n",
    "print(\"\\nMean score for each different student in data frame:\")\n",
    "print(df['score'].mean())"
   ]
  },
  {
   "cell_type": "code",
   "execution_count": null,
   "metadata": {},
   "outputs": [],
   "source": [
    "# Q110. Write the Pandas program to rename columns of a given   DataFrame ?  \n",
    "# Sample data- Original data frame col1 col2 col3 0 1 4 7 1 2 5 8 2 3 6 9\n",
    "# New data frame after renaming columns: Column1 Column2 Column3 0 1 4 7 1 2 5 8 2 3 6 9 "
   ]
  },
  {
   "cell_type": "code",
   "execution_count": 204,
   "metadata": {},
   "outputs": [
    {
     "name": "stdout",
     "output_type": "stream",
     "text": [
      "Original DataFrame\n",
      "   col1  col2  col3\n",
      "0     1     4     7\n",
      "1     2     5     8\n",
      "2     3     6     9\n",
      "New DataFrame after renaming columns:\n",
      "   Column1  Column2  Column3\n",
      "0        1        4        7\n",
      "1        2        5        8\n",
      "2        3        6        9\n"
     ]
    }
   ],
   "source": [
    "import pandas as pd\n",
    "d = {'col1': [1, 2, 3], 'col2': [4, 5, 6], 'col3': [7, 8, 9]}\n",
    "df = pd.DataFrame(data=d)\n",
    "print(\"Original DataFrame\")\n",
    "print(df)\n",
    "df.columns = ['Column1', 'Column2', 'Column3']\n",
    "df = df.rename(columns={'col1': 'Column1', 'col2': 'Column2', 'col3': 'Column3'})\n",
    "print(\"New DataFrame after renaming columns:\")\n",
    "print(df)"
   ]
  },
  {
   "cell_type": "code",
   "execution_count": null,
   "metadata": {},
   "outputs": [],
   "source": [
    "# Q111. Write a pandas program to count city-wise number of people from   a given of data set (city, name of the person)?              Sample data- \n",
    "# city  Number of people 0   California 4 1   Georgia 2 2   Los Angeles 4 "
   ]
  },
  {
   "cell_type": "code",
   "execution_count": 205,
   "metadata": {},
   "outputs": [
    {
     "name": "stdout",
     "output_type": "stream",
     "text": [
      "          city  Number of people\n",
      "0   California                 4\n",
      "1      Georgia                 2\n",
      "2  Los Angeles                 4\n"
     ]
    }
   ],
   "source": [
    "import pandas as pd\n",
    "df1 = pd.DataFrame({'name': ['Anastasia', 'Dima', 'Katherine', 'James', 'Emily', 'Michael', 'Matthew', 'Laura', 'Kevin', 'Jonas'],\n",
    "'city': ['California', 'Los Angeles', 'California', 'California', 'California', 'Los Angeles', 'Los Angeles', 'Georgia', 'Georgia', 'Los Angeles']})\n",
    "g1 = df1.groupby([\"city\"]).size().reset_index(name='Number of people')\n",
    "print(g1)"
   ]
  },
  {
   "cell_type": "code",
   "execution_count": null,
   "metadata": {},
   "outputs": [],
   "source": [
    "# Q112. Write a pandas program to widen output display to see more   columns?  \n",
    "# Sample data- Original data frame col1 col2 col3 0 1 4 7 1 4 5 8 2 3 6  9 3 4 7  0 4 5 8  1"
   ]
  },
  {
   "cell_type": "code",
   "execution_count": 206,
   "metadata": {},
   "outputs": [
    {
     "name": "stdout",
     "output_type": "stream",
     "text": [
      "Original DataFrame\n",
      "   col1  col2  col3\n",
      "0     1     4     7\n",
      "1     4     5     8\n",
      "2     3     6     9\n",
      "3     4     7     0\n",
      "4     5     8     1\n"
     ]
    }
   ],
   "source": [
    "import pandas as pd\n",
    "import numpy as np\n",
    "d = {'col1': [1, 4, 3, 4, 5], 'col2': [4, 5, 6, 7, 8], 'col3': [7, 8, 9, 0, 1]}\n",
    "df = pd.DataFrame(data=d)\n",
    "pd.set_option('display.max_rows', 500)\n",
    "pd.set_option('display.max_columns', 500)\n",
    "pd.set_option('display.width', 1000)\n",
    "print(\"Original DataFrame\")\n",
    "print(df)"
   ]
  },
  {
   "cell_type": "code",
   "execution_count": null,
   "metadata": {},
   "outputs": [],
   "source": [
    "# Q113. Write a pandas program to convert the data frame column type   from string to DateTime?    \n",
    "# Sample data- String Date- 0 3/11/2000 1 3/12/2000 2 3/13/2000 \n",
    "# dtype- object Original DataFrame (string to datetime)- 0 0 2000-03-11 1 2000-03-12 2 2000-03-13 "
   ]
  },
  {
   "cell_type": "code",
   "execution_count": 207,
   "metadata": {},
   "outputs": [
    {
     "name": "stdout",
     "output_type": "stream",
     "text": [
      "String Date:\n",
      "0    3/11/2000\n",
      "1    3/12/2000\n",
      "2    3/13/2000\n",
      "dtype: object\n",
      "Original DataFrame (string to datetime):\n",
      "           0\n",
      "0 2000-03-11\n",
      "1 2000-03-12\n",
      "2 2000-03-13\n"
     ]
    }
   ],
   "source": [
    "import pandas as pd\n",
    "import numpy as np\n",
    "s = pd.Series(['3/11/2000', '3/12/2000', '3/13/2000'])\n",
    "print(\"String Date:\")\n",
    "print(s)\n",
    "r = pd.to_datetime(pd.Series(s))\n",
    "df = pd.DataFrame(r)\n",
    "print(\"Original DataFrame (string to datetime):\")\n",
    "print(df)"
   ]
  },
  {
   "cell_type": "code",
   "execution_count": null,
   "metadata": {},
   "outputs": [],
   "source": [
    "# Q114. Write a pandas program to append the data to an empty   DataFrame?\n",
    "# Sample data- Original DataFrame- After appending some data: col1 col2 0 0 0 1 1 1 2 2 2 "
   ]
  },
  {
   "cell_type": "code",
   "execution_count": 208,
   "metadata": {},
   "outputs": [
    {
     "name": "stdout",
     "output_type": "stream",
     "text": [
      "After appending some data:\n",
      "   col1  col2\n",
      "0     0     0\n",
      "1     1     1\n",
      "2     2     2\n"
     ]
    }
   ],
   "source": [
    "import pandas as pd\n",
    "import numpy as np\n",
    "df = pd.DataFrame()\n",
    "data = pd.DataFrame({\"col1\": range(3),\"col2\": range(3)})\n",
    "print(\"After appending some data:\")\n",
    "df = df.append(data)\n",
    "print(df)"
   ]
  },
  {
   "cell_type": "code",
   "execution_count": null,
   "metadata": {},
   "outputs": [],
   "source": [
    "# Q115. Write a pandas program to count the  number of columns of a   DataFrame?  \n",
    "# Sample Output- Original DataFrame col1 col2 col3 0  1  4 7 1  2  5  8 2  3  6  12 3  4  9  1 4  7  5  11 \n",
    "# Number of columns- 3 "
   ]
  },
  {
   "cell_type": "code",
   "execution_count": 209,
   "metadata": {},
   "outputs": [
    {
     "name": "stdout",
     "output_type": "stream",
     "text": [
      "Original DataFrame\n",
      "   col1  col2  col3\n",
      "0     1     4     7\n",
      "1     2     5     8\n",
      "2     3     6    12\n",
      "3     4     9     1\n",
      "4     7     5    11\n",
      "\n",
      "Number of columns:\n",
      "3\n"
     ]
    }
   ],
   "source": [
    "import pandas as pd\n",
    "d = {'col1': [1, 2, 3, 4, 7], 'col2': [4, 5, 6, 9, 5], 'col3': [7, 8, 12, 1, 11]}\n",
    "df = pd.DataFrame(data=d)\n",
    "print(\"Original DataFrame\")\n",
    "print(df)\n",
    "print(\"\\nNumber of columns:\")\n",
    "print(len(df.columns))"
   ]
  },
  {
   "cell_type": "code",
   "execution_count": null,
   "metadata": {},
   "outputs": [],
   "source": [
    "# Q116. Write a Pandas program to remove the last n rows of a given   DataFrame ?  \n",
    "# Sample Output: Original DataFrame col1 col2 col3 0 1 4 7 1 2 5 5 2 3 6  8 3 4 9 12 4 7 5  1 5 11 0 11 \n",
    "# After removing last 3 rows of the said DataFrame- col1 col2 col3 0 1 4 7 1 2 5 5 2 3 6 8 "
   ]
  },
  {
   "cell_type": "code",
   "execution_count": 210,
   "metadata": {},
   "outputs": [
    {
     "name": "stdout",
     "output_type": "stream",
     "text": [
      "Original DataFrame\n",
      "   col1  col2  col3\n",
      "0     1     4     7\n",
      "1     2     5     5\n",
      "2     3     6     8\n",
      "3     4     9    12\n",
      "4     7     5     1\n",
      "5    11     0    11\n",
      "\n",
      "After removing last 3 rows of the said DataFrame:\n",
      "   col1  col2  col3\n",
      "0     1     4     7\n",
      "1     2     5     5\n",
      "2     3     6     8\n"
     ]
    }
   ],
   "source": [
    "import pandas as pd\n",
    "d = {'col1': [1, 2, 3, 4, 7, 11], 'col2': [4, 5, 6, 9, 5, 0], 'col3': [7, 5, 8, 12, 1,11]}\n",
    "df = pd.DataFrame(data=d)\n",
    "print(\"Original DataFrame\")\n",
    "print(df)\n",
    "print(\"\\nAfter removing last 3 rows of the said DataFrame:\")\n",
    "df1 = df.iloc[:3]\n",
    "print(df1)"
   ]
  },
  {
   "cell_type": "code",
   "execution_count": null,
   "metadata": {},
   "outputs": [],
   "source": [
    "# Q117. Write a Pandas program to import excel data (coalpublic2013.xlsx   ) into a Pandas data frame.  "
   ]
  },
  {
   "cell_type": "code",
   "execution_count": 220,
   "metadata": {},
   "outputs": [
    {
     "data": {
      "text/html": [
       "<div>\n",
       "<style scoped>\n",
       "    .dataframe tbody tr th:only-of-type {\n",
       "        vertical-align: middle;\n",
       "    }\n",
       "\n",
       "    .dataframe tbody tr th {\n",
       "        vertical-align: top;\n",
       "    }\n",
       "\n",
       "    .dataframe thead th {\n",
       "        text-align: right;\n",
       "    }\n",
       "</style>\n",
       "<table border=\"1\" class=\"dataframe\">\n",
       "  <thead>\n",
       "    <tr style=\"text-align: right;\">\n",
       "      <th></th>\n",
       "      <th>Year</th>\n",
       "      <th>MSHA ID</th>\n",
       "      <th>Mine_Name</th>\n",
       "      <th>Production</th>\n",
       "      <th>Labor_Hours</th>\n",
       "    </tr>\n",
       "  </thead>\n",
       "  <tbody>\n",
       "    <tr>\n",
       "      <td>40</td>\n",
       "      <td>2013</td>\n",
       "      <td>103372</td>\n",
       "      <td>Cane Creek Mine</td>\n",
       "      <td>66258</td>\n",
       "      <td>32401</td>\n",
       "    </tr>\n",
       "    <tr>\n",
       "      <td>41</td>\n",
       "      <td>2013</td>\n",
       "      <td>103376</td>\n",
       "      <td>Town Creek</td>\n",
       "      <td>299167</td>\n",
       "      <td>176499</td>\n",
       "    </tr>\n",
       "    <tr>\n",
       "      <td>42</td>\n",
       "      <td>2013</td>\n",
       "      <td>103389</td>\n",
       "      <td>Carbon Hill Mine</td>\n",
       "      <td>76241</td>\n",
       "      <td>84966</td>\n",
       "    </tr>\n",
       "    <tr>\n",
       "      <td>43</td>\n",
       "      <td>2013</td>\n",
       "      <td>103410</td>\n",
       "      <td>Coal Valley Mine</td>\n",
       "      <td>407841</td>\n",
       "      <td>158591</td>\n",
       "    </tr>\n",
       "    <tr>\n",
       "      <td>44</td>\n",
       "      <td>2013</td>\n",
       "      <td>103423</td>\n",
       "      <td>Dutton Hill Mine</td>\n",
       "      <td>37275</td>\n",
       "      <td>9162</td>\n",
       "    </tr>\n",
       "    <tr>\n",
       "      <td>45</td>\n",
       "      <td>2013</td>\n",
       "      <td>1519322</td>\n",
       "      <td>Ghm #25</td>\n",
       "      <td>25054</td>\n",
       "      <td>3108</td>\n",
       "    </tr>\n",
       "    <tr>\n",
       "      <td>46</td>\n",
       "      <td>2013</td>\n",
       "      <td>103321</td>\n",
       "      <td>Poplar Springs</td>\n",
       "      <td>189370</td>\n",
       "      <td>76366</td>\n",
       "    </tr>\n",
       "    <tr>\n",
       "      <td>47</td>\n",
       "      <td>2013</td>\n",
       "      <td>103358</td>\n",
       "      <td>Old Union</td>\n",
       "      <td>284563</td>\n",
       "      <td>161805</td>\n",
       "    </tr>\n",
       "    <tr>\n",
       "      <td>48</td>\n",
       "      <td>2013</td>\n",
       "      <td>5000030</td>\n",
       "      <td>Usibelli</td>\n",
       "      <td>1631584</td>\n",
       "      <td>286079</td>\n",
       "    </tr>\n",
       "    <tr>\n",
       "      <td>49</td>\n",
       "      <td>2013</td>\n",
       "      <td>201195</td>\n",
       "      <td>Kayenta Mine</td>\n",
       "      <td>7602722</td>\n",
       "      <td>1015333</td>\n",
       "    </tr>\n",
       "  </tbody>\n",
       "</table>\n",
       "</div>"
      ],
      "text/plain": [
       "    Year  MSHA ID         Mine_Name  Production  Labor_Hours\n",
       "40  2013   103372   Cane Creek Mine       66258        32401\n",
       "41  2013   103376        Town Creek      299167       176499\n",
       "42  2013   103389  Carbon Hill Mine       76241        84966\n",
       "43  2013   103410  Coal Valley Mine      407841       158591\n",
       "44  2013   103423  Dutton Hill Mine       37275         9162\n",
       "45  2013  1519322           Ghm #25       25054         3108\n",
       "46  2013   103321    Poplar Springs      189370        76366\n",
       "47  2013   103358         Old Union      284563       161805\n",
       "48  2013  5000030          Usibelli     1631584       286079\n",
       "49  2013   201195      Kayenta Mine     7602722      1015333"
      ]
     },
     "execution_count": 220,
     "metadata": {},
     "output_type": "execute_result"
    }
   ],
   "source": [
    "import pandas as pd\n",
    "import numpy as np\n",
    "df = pd.read_excel('coalpublic2013.xlsx')\n",
    "df.tail(n=10)"
   ]
  },
  {
   "cell_type": "code",
   "execution_count": null,
   "metadata": {},
   "outputs": [],
   "source": [
    "# Q118. Write a Pandas program to import excel data (coalpublic2013.xlsx   ) into a data frame and find details\n",
    "# where \"Mine Name\" starts with   \"P.   "
   ]
  },
  {
   "cell_type": "code",
   "execution_count": 222,
   "metadata": {},
   "outputs": [
    {
     "data": {
      "text/html": [
       "<div>\n",
       "<style scoped>\n",
       "    .dataframe tbody tr th:only-of-type {\n",
       "        vertical-align: middle;\n",
       "    }\n",
       "\n",
       "    .dataframe tbody tr th {\n",
       "        vertical-align: top;\n",
       "    }\n",
       "\n",
       "    .dataframe thead th {\n",
       "        text-align: right;\n",
       "    }\n",
       "</style>\n",
       "<table border=\"1\" class=\"dataframe\">\n",
       "  <thead>\n",
       "    <tr style=\"text-align: right;\">\n",
       "      <th></th>\n",
       "      <th>Year</th>\n",
       "      <th>MSHA ID</th>\n",
       "      <th>Mine_Name</th>\n",
       "      <th>Production</th>\n",
       "      <th>Labor_Hours</th>\n",
       "    </tr>\n",
       "  </thead>\n",
       "  <tbody>\n",
       "    <tr>\n",
       "      <td>13</td>\n",
       "      <td>2013</td>\n",
       "      <td>103332</td>\n",
       "      <td>Powhatan Mine</td>\n",
       "      <td>140521</td>\n",
       "      <td>61394</td>\n",
       "    </tr>\n",
       "    <tr>\n",
       "      <td>18</td>\n",
       "      <td>2013</td>\n",
       "      <td>102976</td>\n",
       "      <td>Piney Woods Preparation Plant</td>\n",
       "      <td>0</td>\n",
       "      <td>14828</td>\n",
       "    </tr>\n",
       "    <tr>\n",
       "      <td>19</td>\n",
       "      <td>2013</td>\n",
       "      <td>102976</td>\n",
       "      <td>Piney Woods Preparation Plant</td>\n",
       "      <td>0</td>\n",
       "      <td>23193</td>\n",
       "    </tr>\n",
       "    <tr>\n",
       "      <td>46</td>\n",
       "      <td>2013</td>\n",
       "      <td>103321</td>\n",
       "      <td>Poplar Springs</td>\n",
       "      <td>189370</td>\n",
       "      <td>76366</td>\n",
       "    </tr>\n",
       "  </tbody>\n",
       "</table>\n",
       "</div>"
      ],
      "text/plain": [
       "    Year  MSHA ID                      Mine_Name  Production  Labor_Hours\n",
       "13  2013   103332                  Powhatan Mine      140521        61394\n",
       "18  2013   102976  Piney Woods Preparation Plant           0        14828\n",
       "19  2013   102976  Piney Woods Preparation Plant           0        23193\n",
       "46  2013   103321                 Poplar Springs      189370        76366"
      ]
     },
     "execution_count": 222,
     "metadata": {},
     "output_type": "execute_result"
    }
   ],
   "source": [
    "import pandas as pd\n",
    "import numpy as np\n",
    "df = pd.read_excel('coalpublic2013.xlsx')    \n",
    "df[df[\"Mine_Name\"].map(lambda x: x.startswith('P'))].head()"
   ]
  },
  {
   "cell_type": "code",
   "execution_count": null,
   "metadata": {},
   "outputs": [],
   "source": [
    "# Q119. Write a Pandas program to import excel data (employee.xlsx )  \n",
    "# into a Pandas dataframe and find the list of employees where   hire_date> 01-01-07"
   ]
  },
  {
   "cell_type": "code",
   "execution_count": 223,
   "metadata": {},
   "outputs": [
    {
     "data": {
      "text/html": [
       "<div>\n",
       "<style scoped>\n",
       "    .dataframe tbody tr th:only-of-type {\n",
       "        vertical-align: middle;\n",
       "    }\n",
       "\n",
       "    .dataframe tbody tr th {\n",
       "        vertical-align: top;\n",
       "    }\n",
       "\n",
       "    .dataframe thead th {\n",
       "        text-align: right;\n",
       "    }\n",
       "</style>\n",
       "<table border=\"1\" class=\"dataframe\">\n",
       "  <thead>\n",
       "    <tr style=\"text-align: right;\">\n",
       "      <th></th>\n",
       "      <th>emp_id</th>\n",
       "      <th>first_name</th>\n",
       "      <th>last_name</th>\n",
       "      <th>hire_date</th>\n",
       "    </tr>\n",
       "  </thead>\n",
       "  <tbody>\n",
       "    <tr>\n",
       "      <td>4</td>\n",
       "      <td>104</td>\n",
       "      <td>Bruce</td>\n",
       "      <td>Ernst</td>\n",
       "      <td>2007-05-21</td>\n",
       "    </tr>\n",
       "    <tr>\n",
       "      <td>7</td>\n",
       "      <td>107</td>\n",
       "      <td>Diana</td>\n",
       "      <td>Lorentz</td>\n",
       "      <td>2007-02-07</td>\n",
       "    </tr>\n",
       "    <tr>\n",
       "      <td>13</td>\n",
       "      <td>113</td>\n",
       "      <td>Luis</td>\n",
       "      <td>Popp</td>\n",
       "      <td>2007-12-07</td>\n",
       "    </tr>\n",
       "    <tr>\n",
       "      <td>19</td>\n",
       "      <td>119</td>\n",
       "      <td>Karen</td>\n",
       "      <td>Colmenares</td>\n",
       "      <td>2007-08-10</td>\n",
       "    </tr>\n",
       "  </tbody>\n",
       "</table>\n",
       "</div>"
      ],
      "text/plain": [
       "    emp_id first_name   last_name  hire_date\n",
       "4      104      Bruce       Ernst 2007-05-21\n",
       "7      107      Diana     Lorentz 2007-02-07\n",
       "13     113       Luis        Popp 2007-12-07\n",
       "19     119      Karen  Colmenares 2007-08-10"
      ]
     },
     "execution_count": 223,
     "metadata": {},
     "output_type": "execute_result"
    }
   ],
   "source": [
    "import pandas as pd\n",
    "import numpy as np\n",
    "df = pd.read_excel('employee.xlsx')\n",
    "df[df['hire_date'] >='20070101']"
   ]
  },
  {
   "cell_type": "code",
   "execution_count": null,
   "metadata": {},
   "outputs": [],
   "source": [
    "# Q120.  Write a Pandas program to import excel data (employee.xlsx ) into a Pandas dataframe and \n",
    "# find a list of the employees of a specified year  "
   ]
  },
  {
   "cell_type": "code",
   "execution_count": 224,
   "metadata": {},
   "outputs": [
    {
     "data": {
      "text/html": [
       "<div>\n",
       "<style scoped>\n",
       "    .dataframe tbody tr th:only-of-type {\n",
       "        vertical-align: middle;\n",
       "    }\n",
       "\n",
       "    .dataframe tbody tr th {\n",
       "        vertical-align: top;\n",
       "    }\n",
       "\n",
       "    .dataframe thead th {\n",
       "        text-align: right;\n",
       "    }\n",
       "</style>\n",
       "<table border=\"1\" class=\"dataframe\">\n",
       "  <thead>\n",
       "    <tr style=\"text-align: right;\">\n",
       "      <th></th>\n",
       "      <th>emp_id</th>\n",
       "      <th>first_name</th>\n",
       "      <th>last_name</th>\n",
       "    </tr>\n",
       "    <tr>\n",
       "      <th>hire_date</th>\n",
       "      <th></th>\n",
       "      <th></th>\n",
       "      <th></th>\n",
       "    </tr>\n",
       "  </thead>\n",
       "  <tbody>\n",
       "    <tr>\n",
       "      <td>2005-09-21</td>\n",
       "      <td>101</td>\n",
       "      <td>Neena</td>\n",
       "      <td>Kochhar</td>\n",
       "    </tr>\n",
       "    <tr>\n",
       "      <td>2005-06-25</td>\n",
       "      <td>105</td>\n",
       "      <td>David</td>\n",
       "      <td>Austin</td>\n",
       "    </tr>\n",
       "    <tr>\n",
       "      <td>2005-09-28</td>\n",
       "      <td>110</td>\n",
       "      <td>John</td>\n",
       "      <td>Chen</td>\n",
       "    </tr>\n",
       "    <tr>\n",
       "      <td>2005-09-30</td>\n",
       "      <td>111</td>\n",
       "      <td>Ismael</td>\n",
       "      <td>Sciarra</td>\n",
       "    </tr>\n",
       "    <tr>\n",
       "      <td>2005-12-24</td>\n",
       "      <td>116</td>\n",
       "      <td>Shelli</td>\n",
       "      <td>Baida</td>\n",
       "    </tr>\n",
       "    <tr>\n",
       "      <td>2005-07-24</td>\n",
       "      <td>117</td>\n",
       "      <td>Sigal</td>\n",
       "      <td>Tobias</td>\n",
       "    </tr>\n",
       "  </tbody>\n",
       "</table>\n",
       "</div>"
      ],
      "text/plain": [
       "            emp_id first_name last_name\n",
       "hire_date                              \n",
       "2005-09-21     101      Neena   Kochhar\n",
       "2005-06-25     105      David    Austin\n",
       "2005-09-28     110       John      Chen\n",
       "2005-09-30     111     Ismael   Sciarra\n",
       "2005-12-24     116     Shelli     Baida\n",
       "2005-07-24     117      Sigal    Tobias"
      ]
     },
     "execution_count": 224,
     "metadata": {},
     "output_type": "execute_result"
    }
   ],
   "source": [
    "import pandas as pd\n",
    "import numpy as np\n",
    "df = pd.read_excel('employee.xlsx')\n",
    "df2 = df.set_index(['hire_date'])\n",
    "result = df2[\"2005\"]\n",
    "result"
   ]
  },
  {
   "cell_type": "code",
   "execution_count": null,
   "metadata": {},
   "outputs": [],
   "source": [
    "# Q121. Write a pandas program to import three datasheets from a given   excel data \n",
    "# (coalpublic2013.xlsx ) in to a single dataframe.                         \n",
    "# Note: Structure of three datasheets are same.  "
   ]
  },
  {
   "cell_type": "code",
   "execution_count": 225,
   "metadata": {},
   "outputs": [
    {
     "name": "stdout",
     "output_type": "stream",
     "text": [
      "    emp_id   first_name    last_name  hire_date\n",
      "0      100       Steven         King 2003-06-17\n",
      "1      101        Neena      Kochhar 2005-09-21\n",
      "2      102          Lex      De Haan 2001-01-13\n",
      "3      103    Alexander       Hunold 2006-01-03\n",
      "4      104        Bruce        Ernst 2007-05-21\n",
      "5      105        David       Austin 2005-06-25\n",
      "6      106        Valli    Pataballa 2006-02-05\n",
      "7      107        Diana      Lorentz 2007-02-07\n",
      "8      108        Nancy    Greenberg 2002-08-17\n",
      "9      109       Daniel       Faviet 2002-08-16\n",
      "10     110         John         Chen 2005-09-28\n",
      "11     111       Ismael      Sciarra 2005-09-30\n",
      "12     112  Jose Manuel        Urman 2006-03-07\n",
      "13     113         Luis         Popp 2007-12-07\n",
      "14     114          Den     Raphaely 2002-12-07\n",
      "15     115    Alexander         Khoo 2003-05-18\n",
      "16     116       Shelli        Baida 2005-12-24\n",
      "17     117        Sigal       Tobias 2005-07-24\n",
      "18     118          Guy       Himuro 2006-11-15\n",
      "19     119        Karen   Colmenares 2007-08-10\n",
      "0      120      Matthew        Weiss 2004-07-18\n",
      "1      121         Adam        Fripp 2005-04-10\n",
      "2      122        Payam     Kaufling 2003-05-01\n",
      "3      123       Shanta      Vollman 2005-10-10\n",
      "4      124        Kevin      Mourgos 2007-11-16\n",
      "5      125        Julia        Nayer 2005-07-16\n",
      "6      126        Irene  Mikkilineni 2006-09-28\n",
      "7      127        James       Landry 2007-01-14\n",
      "8      128       Steven       Markle 2008-03-08\n",
      "9      129        Laura       Bissot 2005-08-20\n",
      "10     130        Mozhe     Atkinson 2005-10-30\n",
      "11     131        James       Marlow 2005-02-16\n",
      "12     132           TJ        Olson 2007-04-10\n",
      "13     133        Jason       Mallin 2004-06-14\n",
      "14     134      Michael       Rogers 2006-08-26\n",
      "15     135           Ki          Gee 2007-12-12\n",
      "16     136        Hazel   Philtanker 2008-02-06\n",
      "17     137       Renske       Ladwig 2003-07-14\n",
      "18     138      Stephen       Stiles 2005-10-26\n",
      "0      141       Trenna         Rajs 2003-10-17\n",
      "1      142       Curtis       Davies 2005-01-29\n",
      "2      143      Randall        Matos 2006-03-15\n",
      "3      144        Peter       Vargas 2006-07-09\n",
      "4      145         John      Russell 2004-10-01\n",
      "5      146        Karen     Partners 2005-01-05\n",
      "6      147      Alberto    Errazuriz 2005-03-10\n",
      "7      148       Gerald    Cambrault 2007-10-15\n",
      "8      149        Eleni      Zlotkey 2008-01-29\n"
     ]
    }
   ],
   "source": [
    "import pandas as pd\n",
    "import numpy as np\n",
    "df1 = pd.read_excel('employee.xlsx',sheet_name=0)\n",
    "df2 = pd.read_excel('employee.xlsx',sheet_name=1)\n",
    "df3 = pd.read_excel('employee.xlsx',sheet_name=2)\n",
    "df = pd.concat([df1, df2, df3])\n",
    "print(df)"
   ]
  },
  {
   "cell_type": "code",
   "execution_count": null,
   "metadata": {},
   "outputs": [],
   "source": [
    "# Q 122. Write a pandas program to import three datasheets from a given   excel data (employee.xlsx ) \n",
    "# into a single data frame and export the   result into new Excel file. "
   ]
  },
  {
   "cell_type": "code",
   "execution_count": 226,
   "metadata": {},
   "outputs": [],
   "source": [
    "import pandas as pd\n",
    "import numpy as np\n",
    "df1 = pd.read_excel('employee.xlsx',sheet_name=0)\n",
    "df2 = pd.read_excel('employee.xlsx',sheet_name=1)\n",
    "df3 = pd.read_excel('employee.xlsx',sheet_name=2)\n",
    "df = pd.concat([df1, df2, df3])\n",
    "df.to_excel('output.xlsx', index=False)"
   ]
  },
  {
   "cell_type": "code",
   "execution_count": null,
   "metadata": {},
   "outputs": [],
   "source": [
    "# Q123. Write a pandas program to create the Pivot table with multiple   indexes from the data set of the  titanic.csv. "
   ]
  },
  {
   "cell_type": "code",
   "execution_count": 227,
   "metadata": {},
   "outputs": [
    {
     "name": "stdout",
     "output_type": "stream",
     "text": [
      "              Unnamed: 15  adult_male  alone      fare  parch  pclass  sibsp  survived\n",
      "sex    age                                                                            \n",
      "female 0.75           0.0         0.0    0.0   38.5166      2       6      4         2\n",
      "       1.00           0.0         0.0    0.0   26.8750      3       6      1         2\n",
      "       2.00           0.0         0.0    0.0  259.4750      9      15      9         2\n",
      "       3.00           0.0         0.0    0.0   62.6542      3       5      4         1\n",
      "       4.00           0.0         0.0    0.0  114.1417      6      13      4         5\n",
      "       5.00           0.0         0.0    1.0   90.8708      5      11      7         4\n",
      "       6.00           0.0         0.0    0.0   64.2750      3       5      4         1\n",
      "       7.00           0.0         0.0    0.0   26.2500      2       2      0         1\n",
      "       8.00           0.0         0.0    0.0   47.3250      3       5      3         1\n",
      "       9.00           0.0         0.0    0.0  108.7958      7      12     10         0\n",
      "       10.00          0.0         0.0    0.0   24.1500      2       3      0         0\n",
      "       11.00          0.0         0.0    0.0   31.2750      2       3      4         0\n",
      "       13.00          0.0         0.0    1.0   26.7292      1       5      0         2\n",
      "       14.00          0.0         0.0    1.0  169.1667      2       9      3         3\n",
      "       14.50          0.0         0.0    0.0   14.4542      0       3      1         0\n",
      "       15.00          0.0         0.0    2.0  241.0459      1      10      1         4\n",
      "       16.00          0.0         0.0    3.0  246.2625      4      12      5         5\n",
      "       17.00          0.0         0.0    3.0  210.7833      2      12      6         5\n",
      "       18.00          0.0         0.0    4.0  697.0167      9      31      6         8\n",
      "       19.00          0.0         0.0    3.0  215.0959      2      13      3         7\n",
      "       20.00          0.0         0.0    1.0   18.4875      0       6      1         0\n",
      "       21.00          0.0         0.0    4.0  410.4333      4      16      5         4\n",
      "       22.00          0.0         0.0    7.0  444.1084      6      26      3        10\n",
      "       23.00          0.0         0.0    3.0  405.5417      2      10      4         4\n",
      "       24.00          0.0         0.0    7.0  772.1708     15      31     10        14\n",
      "       25.00          0.0         0.0    1.0  223.2500      4      11      3         2\n",
      "       26.00          0.0         0.0    3.0  136.7292      1      12      2         3\n",
      "       27.00          0.0         0.0    2.0   76.8916      3      15      2         5\n",
      "       28.00          0.0         0.0    4.0  110.9458      1      16      3         5\n",
      "       29.00          0.0         0.0    2.0  320.6208      7      16      3         5\n",
      "       30.00          0.0         0.0    9.0  465.9917      1      20      4         9\n",
      "       30.50          0.0         0.0    1.0    7.7500      0       3      0         0\n",
      "       31.00          0.0         0.0    2.0  359.4542      4      16      4         5\n",
      "       32.00          0.0         0.0    2.0  104.7917      1       6      1         2\n",
      "       32.50          0.0         0.0    1.0   13.0000      0       2      0         1\n",
      "       33.00          0.0         0.0    1.0  299.2000      4      10      6         6\n",
      "       34.00          0.0         0.0    2.0   79.0000      2       8      1         4\n",
      "       35.00          0.0         0.0    3.0  967.7875      1      11      5         8\n",
      "       36.00          0.0         0.0    3.0  396.0333      4      12      3         7\n",
      "       37.00          0.0         0.0    1.0    9.5875      0       3      0         0\n",
      "       38.00          0.0         0.0    3.0  423.1958      5       8      2         4\n",
      "       39.00          0.0         0.0    0.0  389.9916     13      10      5         4\n",
      "       40.00          0.0         0.0    3.0  365.1875      2      11      3         5\n",
      "       41.00          0.0         0.0    1.0  213.9000      8       9      0         2\n",
      "       42.00          0.0         0.0    2.0  266.5250      0       5      1         3\n",
      "       43.00          0.0         0.0    0.0  258.2375      7       4      1         1\n",
      "       44.00          0.0         0.0    1.0  111.7000      1       4      1         2\n",
      "       45.00          0.0         0.0    2.0  254.7209      7      14      3         3\n",
      "       47.00          0.0         0.0    0.0   67.0542      1       4      2         1\n",
      "       48.00          0.0         0.0    1.0  164.9042      5       7      3         3\n",
      "       49.00          0.0         0.0    1.0  102.6584      0       2      1         2\n",
      "       50.00          0.0         0.0    3.0  323.2333      2       8      0         4\n",
      "       51.00          0.0         0.0    0.0   77.9583      0       1      1         1\n",
      "       52.00          0.0         0.0    0.0  171.7667      1       2      2         2\n",
      "       53.00          0.0         0.0    0.0   51.4792      0       1      2         1\n",
      "       54.00          0.0         0.0    0.0  160.6667      3       4      3         3\n",
      "       55.00          0.0         0.0    1.0   16.0000      0       2      0         1\n",
      "       56.00          0.0         0.0    0.0   83.1583      1       1      0         1\n",
      "       57.00          0.0         0.0    1.0   10.5000      0       2      0         0\n",
      "       58.00          0.0         0.0    2.0  326.5333      1       3      0         3\n",
      "       60.00          0.0         0.0    0.0   75.2500      0       1      1         1\n",
      "       62.00          0.0         0.0    1.0   80.0000      0       1      0         1\n",
      "       63.00          0.0         0.0    1.0   87.5458      0       4      1         2\n",
      "male   0.42           0.0         0.0    0.0    8.5167      1       3      0         1\n",
      "       0.67           0.0         0.0    0.0   14.5000      1       2      1         1\n",
      "       0.83           0.0         0.0    0.0   47.7500      3       4      1         2\n",
      "       0.92           0.0         0.0    0.0  151.5500      2       1      1         1\n",
      "       1.00           0.0         0.0    0.0  183.1667      8      13     12         3\n",
      "       2.00           0.0         0.0    0.0  115.8875      4      11     12         1\n",
      "       3.00           0.0         0.0    0.0   92.0375      5      10      7         4\n",
      "       4.00           0.0         0.0    0.0  181.2916      8      13     12         2\n",
      "       6.00           0.0         0.0    0.0   12.4750      1       3      0         1\n",
      "       7.00           0.0         0.0    0.0   68.8125      2       6      8         0\n",
      "       8.00           0.0         0.0    0.0   65.8750      2       5      5         1\n",
      "       9.00           0.0         0.0    0.0  114.7125      7      12     10         2\n",
      "       10.00          0.0         0.0    0.0   27.9000      2       3      3         0\n",
      "       11.00          0.0         0.0    1.0  185.6875      4       7      6         1\n",
      "       12.00          0.0         0.0    0.0   11.2417      0       3      1         1\n",
      "       14.00          0.0         0.0    0.0   86.5875      3       6      9         0\n",
      "       15.00          0.0         0.0    0.0    7.2292      1       3      1         0\n",
      "       16.00          0.0        11.0    7.0  191.4042      5      31      8         1\n",
      "       17.00          0.0         7.0    4.0  158.2792      3      19      2         1\n",
      "       18.00          0.0        13.0    9.0  292.6333      2      33      4         1\n",
      "       19.00          0.0        18.0   15.0  481.6415      3      46      5         2\n",
      "       20.00          0.0        13.0   11.0  110.8751      1      39      2         3\n",
      "       20.50          0.0         1.0    1.0    7.2500      0       3      0         0\n",
      "       21.00          0.0        17.0   14.0  347.1416      1      46      3         1\n",
      "       22.00          0.0        15.0   14.0  244.5207      0      43      1         1\n",
      "       23.00          0.0        10.0    8.0  164.3791      2      22      2         1\n",
      "       23.50          0.0         1.0    1.0    7.2292      0       3      0         0\n",
      "       24.00          0.0        14.0   10.0  518.8999      1      35      5         1\n",
      "       24.50          0.0         1.0    1.0    8.0500      0       3      0         0\n",
      "       25.00          0.0        18.0   11.0  338.3126      2      45      7         4\n",
      "       26.00          0.0        13.0    9.0  206.8333      2      36      5         3\n",
      "       27.00          0.0        12.0    9.0  469.6125      2      25      2         6\n",
      "       28.00          0.0        18.0   14.0  414.5582      1      42      4         2\n",
      "       28.50          0.0         2.0    2.0   23.3292      0       6      0         0\n",
      "       29.00          0.0        13.0    9.0  221.1957      0      32      4         3\n",
      "       30.00          0.0        14.0   12.0  172.5500      0      35      2         1\n",
      "       30.50          0.0         1.0    1.0    8.0500      0       3      0         0\n",
      "       31.00          0.0        10.0    6.0  269.7000      2      20      4         3\n",
      "       32.00          0.0        15.0   12.0  333.0291      0      40      4         7\n",
      "       32.50          0.0         1.0    0.0   30.0708      0       2      1         0\n",
      "       33.00          0.0         9.0    8.0   88.1833      1      24      1         0\n",
      "       34.00          0.0        11.0    7.0  170.5458      1      25      4         2\n",
      "       34.50          0.0         1.0    1.0    6.4375      0       3      0         0\n",
      "       35.00          0.0        10.0   10.0  639.8375      0      22      0         3\n",
      "       36.00          0.0        15.0    9.0  923.1958      6      29      5         4\n",
      "       36.50          0.0         1.0    0.0   26.0000      2       2      0         0\n",
      "       37.00          0.0         5.0    0.0  169.2792      2       8      5         1\n",
      "       38.00          0.0         6.0    4.0  267.0708      1      12      1         1\n",
      "       39.00          0.0         8.0    7.0  123.2750      5      19      1         1\n",
      "       40.00          0.0         7.0    5.0  117.2416      5      15      2         1\n",
      "       40.50          0.0         2.0    1.0   22.2500      2       6      0         0\n",
      "       41.00          0.0         2.0    1.0   21.2333      0       6      2         0\n",
      "       42.00          0.0        10.0    6.0  216.1084      1      21      3         3\n",
      "       43.00          0.0         3.0    2.0   40.7500      1       8      1         0\n",
      "       44.00          0.0         6.0    3.0  156.1250      1      15      3         1\n",
      "       45.00          0.0         6.0    5.0  187.1000      0      10      1         2\n",
      "       45.50          0.0         2.0    2.0   35.7250      0       4      0         0\n",
      "       46.00          0.0         3.0    2.0  166.3750      0       4      1         0\n",
      "       47.00          0.0         7.0    7.0  181.3583      0      12      0         0\n",
      "       48.00          0.0         5.0    3.0  176.1334      0       8      2         3\n",
      "       49.00          0.0         4.0    1.0  256.9167      1       6      3         2\n",
      "       50.00          0.0         5.0    2.0  317.0250      0       8      4         1\n",
      "       51.00          0.0         6.0    5.0  123.3084      1      13      0         1\n",
      "       52.00          0.0         4.0    3.0  136.6500      1       6      1         1\n",
      "       54.00          0.0         5.0    3.0  195.1500      1       8      1         0\n",
      "       55.00          0.0         1.0    1.0   30.5000      0       1      0         0\n",
      "       55.50          0.0         1.0    1.0    8.0500      0       3      0         0\n",
      "       56.00          0.0         3.0    3.0   92.7458      0       3      0         1\n",
      "       57.00          0.0         1.0    1.0   12.3500      0       2      0         0\n",
      "       58.00          0.0         2.0    1.0  142.9750      2       2      0         0\n",
      "       59.00          0.0         2.0    2.0   20.7500      0       5      0         0\n",
      "       60.00          0.0         3.0    1.0  144.7500      2       4      2         1\n",
      "       61.00          0.0         3.0    3.0   72.0583      0       5      0         0\n",
      "       62.00          0.0         3.0    3.0   63.6000      0       4      0         1\n",
      "       64.00          0.0         2.0    1.0  289.0000      4       2      1         0\n",
      "       65.00          0.0         3.0    2.0   96.2792      1       5      0         0\n",
      "       66.00          0.0         1.0    1.0   10.5000      0       2      0         0\n",
      "       70.00          0.0         2.0    1.0   81.5000      1       3      1         0\n",
      "       70.50          0.0         1.0    1.0    7.7500      0       3      0         0\n",
      "       71.00          0.0         2.0    2.0   84.1584      0       2      0         0\n",
      "       74.00          0.0         1.0    1.0    7.7750      0       3      0         0\n",
      "       80.00          0.0         1.0    1.0   30.0000      0       1      0         1\n"
     ]
    }
   ],
   "source": [
    "import pandas as pd\n",
    "import numpy as np\n",
    "df = pd.read_csv('titanic.csv')\n",
    "result = pd.pivot_table(df, index = [\"sex\",\"age\"], aggfunc=np.sum)\n",
    "print(result)"
   ]
  },
  {
   "cell_type": "code",
   "execution_count": null,
   "metadata": {},
   "outputs": [],
   "source": [
    "# Q124. Write a Pandas program to create the Pivot table and find survival   rate by gender? "
   ]
  },
  {
   "cell_type": "code",
   "execution_count": 228,
   "metadata": {},
   "outputs": [
    {
     "name": "stdout",
     "output_type": "stream",
     "text": [
      "fare            (-0.001, 14.454]                     (14.454, 512.329]                    \n",
      "pclass                         1         2         3                 1         2         3\n",
      "sex    age                                                                                \n",
      "female (0, 10]               NaN       NaN  0.800000          0.000000  1.000000  0.411765\n",
      "       (10, 30]              NaN  0.933333  0.568182          0.970588  0.904762  0.307692\n",
      "       (30, 60]              NaN  0.846154  0.142857          0.979167  0.941176  0.333333\n",
      "       (60, 80]              NaN       NaN  1.000000          1.000000       NaN       NaN\n",
      "male   (0, 10]               NaN       NaN  1.000000          1.000000  1.000000  0.263158\n",
      "       (10, 30]              NaN  0.034483  0.140625          0.458333  0.000000  0.130435\n",
      "       (30, 60]              0.0  0.130435  0.109375          0.440678  0.047619  0.166667\n",
      "       (60, 80]              NaN  0.333333  0.000000          0.083333       NaN       NaN\n"
     ]
    }
   ],
   "source": [
    "import pandas as pd\n",
    "import numpy as np\n",
    "df = pd.read_csv('titanic.csv')\n",
    "fare = pd.qcut(df['fare'], 2)\n",
    "age = pd.cut(df['age'], [0, 10, 30, 60, 80])\n",
    "result = df.pivot_table('survived', index=['sex', age], columns=[fare, 'pclass'])\n",
    "print(result)"
   ]
  },
  {
   "cell_type": "code",
   "execution_count": null,
   "metadata": {},
   "outputs": [],
   "source": [
    "# Q125. Write a pandas program to make partition each of the passengers   into 4 categories based on their age.                         \n",
    "# Note: Age categories- (0, 10), (10, 30), (30, 60), (60, 80) "
   ]
  },
  {
   "cell_type": "code",
   "execution_count": 229,
   "metadata": {},
   "outputs": [
    {
     "name": "stdout",
     "output_type": "stream",
     "text": [
      "0      (10.0, 30.0]\n",
      "1      (30.0, 60.0]\n",
      "2      (10.0, 30.0]\n",
      "3      (30.0, 60.0]\n",
      "4      (30.0, 60.0]\n",
      "           ...     \n",
      "886    (10.0, 30.0]\n",
      "887    (10.0, 30.0]\n",
      "888             NaN\n",
      "889    (10.0, 30.0]\n",
      "890    (30.0, 60.0]\n",
      "Name: age, Length: 891, dtype: category\n",
      "Categories (4, interval[int64]): [(0, 10] < (10, 30] < (30, 60] < (60, 80]]\n"
     ]
    }
   ],
   "source": [
    "import pandas as pd\n",
    "import numpy as np\n",
    "df = pd.read_csv('titanic.csv')\n",
    "result = pd.cut(df['age'], [0, 10, 30, 60, 80])\n",
    "print(result)"
   ]
  },
  {
   "cell_type": "code",
   "execution_count": null,
   "metadata": {},
   "outputs": [],
   "source": [
    "# Q126. Write a pandas program to create the Pivot table and find survival   rate by the gender,\n",
    "# age of the different categories of various   classes.  "
   ]
  },
  {
   "cell_type": "code",
   "execution_count": 230,
   "metadata": {},
   "outputs": [
    {
     "name": "stdout",
     "output_type": "stream",
     "text": [
      "class               First    Second     Third\n",
      "sex    age                                   \n",
      "female (0, 20]   0.928571  1.000000  0.510638\n",
      "       (20, 55]  0.968750  0.912281  0.407407\n",
      "male   (0, 20]   0.571429  0.526316  0.197368\n",
      "       (20, 55]  0.440000  0.054054  0.134503\n"
     ]
    }
   ],
   "source": [
    "import pandas as pd\n",
    "import numpy as np\n",
    "df = pd.read_csv('titanic.csv')\n",
    "age = pd.cut(df['age'], [0, 20, 55])\n",
    "result = df.pivot_table('survived', index=['sex', age], columns='class')\n",
    "print(result)"
   ]
  },
  {
   "cell_type": "code",
   "execution_count": null,
   "metadata": {},
   "outputs": [],
   "source": [
    "# Q127. Write a pandas program to create the Pivot table and calculate   \n",
    "# number of women and men were in a particular cabin class. "
   ]
  },
  {
   "cell_type": "code",
   "execution_count": 231,
   "metadata": {},
   "outputs": [
    {
     "name": "stdout",
     "output_type": "stream",
     "text": [
      "       Unnamed: 15       adult_male            age          alive           alone           class           deck        embark_town           embarked           fare           parch           sibsp           survived            who          \n",
      "pclass           1  2  3          1    2    3    1   2    3     1    2    3     1    2    3     1    2    3    1   2  3           1    2    3        1    2    3    1    2    3     1    2    3     1    2    3        1    2    3    1    2    3\n",
      "sex                                                                                                                                                                                                                                              \n",
      "female           0  0  0         94   76  144   85  74  102    94   76  144    94   76  144    94   76  144   81  10  6          92   76  144       92   76  144   94   76  144    94   76  144    94   76  144       94   76  144   94   76  144\n",
      "male             0  0  0        122  108  347  101  99  253   122  108  347   122  108  347   122  108  347   94   6  6         122  108  347      122  108  347  122  108  347   122  108  347   122  108  347      122  108  347  122  108  347\n"
     ]
    }
   ],
   "source": [
    "import pandas as pd\n",
    "import numpy as np\n",
    "df = pd.read_csv('titanic.csv')\n",
    "result = df.pivot_table(index=['sex'], columns=['pclass'], aggfunc='count')\n",
    "print(result)"
   ]
  },
  {
   "cell_type": "code",
   "execution_count": null,
   "metadata": {},
   "outputs": [],
   "source": [
    "# Q128. Write a pandas program to create the Pivot table and separate  \n",
    "# the gender according to whether they travelled alone or not to get   the probability of survival "
   ]
  },
  {
   "cell_type": "code",
   "execution_count": 232,
   "metadata": {},
   "outputs": [
    {
     "name": "stdout",
     "output_type": "stream",
     "text": [
      "class            First    Second     Third\n",
      "sex    alone                              \n",
      "female False  0.966667  0.931818  0.416667\n",
      "       True   0.970588  0.906250  0.616667\n",
      "male   False  0.425532  0.277778  0.180723\n",
      "       True   0.333333  0.097222  0.121212\n"
     ]
    }
   ],
   "source": [
    "import pandas as pd\n",
    "import numpy as np\n",
    "df = pd.read_csv('titanic.csv')\n",
    "result = df.pivot_table( 'survived' , [ 'sex' , 'alone' ] , 'class' )\n",
    "print(result)"
   ]
  },
  {
   "cell_type": "code",
   "execution_count": null,
   "metadata": {},
   "outputs": [],
   "source": [
    "# Q129. Write a pandas program to create the Pivot table and find the   probability of survival by class, \n",
    "# gender, solo boarding, and the port   of embarkation.  "
   ]
  },
  {
   "cell_type": "code",
   "execution_count": 233,
   "metadata": {},
   "outputs": [
    {
     "name": "stdout",
     "output_type": "stream",
     "text": [
      "embark_town  Cherbourg                     Queenstown                  Southampton                    \n",
      "class            First    Second     Third      First Second     Third       First    Second     Third\n",
      "sex    alone                                                                                          \n",
      "female False  1.000000  1.000000  0.611111        1.0    NaN  0.625000    0.941176  0.923077  0.327586\n",
      "       True   0.944444  1.000000  0.800000        NaN    1.0  0.760000    1.000000  0.892857  0.466667\n",
      "male   False  0.473684  0.166667  0.500000        0.0    NaN  0.100000    0.407407  0.300000  0.142857\n",
      "       True   0.347826  0.250000  0.151515        NaN    0.0  0.068966    0.326923  0.089552  0.123762\n"
     ]
    }
   ],
   "source": [
    "import pandas as pd\n",
    "import numpy as np\n",
    "df = pd.read_csv('titanic.csv')\n",
    "result = df.pivot_table('survived', ['sex' , 'alone' ], [ 'embark_town', 'class' ])\n",
    "print(result) "
   ]
  },
  {
   "cell_type": "code",
   "execution_count": null,
   "metadata": {},
   "outputs": [],
   "source": [
    "# Q130. Write a pandas program to get current date, oldest date and   \n",
    "# number of days between Current date and the  oldest date of Ufo   dataset. "
   ]
  },
  {
   "cell_type": "code",
   "execution_count": 245,
   "metadata": {},
   "outputs": [
    {
     "name": "stdout",
     "output_type": "stream",
     "text": [
      "Original Dataframe:\n",
      "           datetime                  city state country     shape  duration (seconds) duration (hours/min)                                           comments date posted   latitude   longitude         Date_time\n",
      "0  10/10/1949 20:30            san marcos    tx      us  cylinder              2700.0           45 minutes  This event took place in early fall around 194...   4/27/2004  29.883056  -97.941111  10/10/1949 20:30\n",
      "1  10/10/1949 21:00          lackland afb    tx     NaN     light              7200.0              1-2 hrs  1949 Lackland AFB&#44 TX.  Lights racing acros...  12/16/2005  29.384210  -98.581082  10/10/1949 21:00\n",
      "2  10/10/1955 17:00  chester (uk/england)   NaN      gb    circle                20.0           20 seconds  Green/Orange circular disc over Chester&#44 En...   1/21/2008  53.200000   -2.916667  10/10/1955 17:00\n",
      "3  10/10/1956 21:00                  edna    tx      us    circle                20.0             1/2 hour  My older brother and twin sister were leaving ...   1/17/2004  28.978333  -96.645833  10/10/1956 21:00\n",
      "4  10/10/1960 20:00               kaneohe    hi      us     light               900.0           15 minutes  AS a Marine 1st Lt. flying an FJ4B fighter/att...   1/22/2004  21.418056 -157.803611  10/10/1960 20:00\n",
      "\n",
      "Current date of Ufo dataset:\n",
      "9/9/2013 23:30\n",
      "\n",
      "Oldest date of Ufo dataset:\n",
      "1/1/1910 24:00\n",
      "\n",
      "Number of days between Current date and oldest date of Ufo dataset:\n"
     ]
    },
    {
     "ename": "TypeError",
     "evalue": "unsupported operand type(s) for -: 'str' and 'str'",
     "output_type": "error",
     "traceback": [
      "\u001b[1;31m---------------------------------------------------------------------------\u001b[0m",
      "\u001b[1;31mTypeError\u001b[0m                                 Traceback (most recent call last)",
      "\u001b[1;32m<ipython-input-245-eafe2d8cf94e>\u001b[0m in \u001b[0;36m<module>\u001b[1;34m\u001b[0m\n\u001b[0;32m      9\u001b[0m \u001b[0mprint\u001b[0m\u001b[1;33m(\u001b[0m\u001b[0mdf\u001b[0m\u001b[1;33m.\u001b[0m\u001b[0mDate_time\u001b[0m\u001b[1;33m.\u001b[0m\u001b[0mmin\u001b[0m\u001b[1;33m(\u001b[0m\u001b[1;33m)\u001b[0m\u001b[1;33m)\u001b[0m\u001b[1;33m\u001b[0m\u001b[1;33m\u001b[0m\u001b[0m\n\u001b[0;32m     10\u001b[0m \u001b[0mprint\u001b[0m\u001b[1;33m(\u001b[0m\u001b[1;34m\"\\nNumber of days between Current date and oldest date of Ufo dataset:\"\u001b[0m\u001b[1;33m)\u001b[0m\u001b[1;33m\u001b[0m\u001b[1;33m\u001b[0m\u001b[0m\n\u001b[1;32m---> 11\u001b[1;33m \u001b[0mprint\u001b[0m\u001b[1;33m(\u001b[0m\u001b[1;33m(\u001b[0m\u001b[0mdf\u001b[0m\u001b[1;33m.\u001b[0m\u001b[0mDate_time\u001b[0m\u001b[1;33m.\u001b[0m\u001b[0mmax\u001b[0m\u001b[1;33m(\u001b[0m\u001b[1;33m)\u001b[0m \u001b[1;33m-\u001b[0m \u001b[0mdf\u001b[0m\u001b[1;33m.\u001b[0m\u001b[0mDate_time\u001b[0m\u001b[1;33m.\u001b[0m\u001b[0mmin\u001b[0m\u001b[1;33m(\u001b[0m\u001b[1;33m)\u001b[0m\u001b[1;33m)\u001b[0m\u001b[1;33m.\u001b[0m\u001b[0mdays\u001b[0m\u001b[1;33m)\u001b[0m\u001b[1;33m\u001b[0m\u001b[1;33m\u001b[0m\u001b[0m\n\u001b[0m",
      "\u001b[1;31mTypeError\u001b[0m: unsupported operand type(s) for -: 'str' and 'str'"
     ]
    }
   ],
   "source": [
    "import pandas as pd\n",
    "df = pd.read_csv('complete.csv')\n",
    "df['Date_time'] = df['datetime']#.astype('datetime64[ns]')\n",
    "print(\"Original Dataframe:\")\n",
    "print(df.head())\n",
    "print(\"\\nCurrent date of Ufo dataset:\")\n",
    "print(df.Date_time.max())\n",
    "print(\"\\nOldest date of Ufo dataset:\")\n",
    "print(df.Date_time.min())\n",
    "print(\"\\nNumber of days between Current date and oldest date of Ufo dataset:\")\n",
    "print((df.Date_time.max() - df.Date_time.min()).days)"
   ]
  },
  {
   "cell_type": "code",
   "execution_count": 238,
   "metadata": {},
   "outputs": [],
   "source": [
    "# Q131. Write a pandas program to get all sighting days of the   unidentified flying object (ufo)\n",
    "# between 1950-10-10 and 1960-10-  10. "
   ]
  },
  {
   "cell_type": "code",
   "execution_count": 247,
   "metadata": {},
   "outputs": [
    {
     "name": "stdout",
     "output_type": "stream",
     "text": [
      "Original Dataframe:\n",
      "           datetime                  city state country     shape  duration (seconds) duration (hours/min)                                           comments date posted   latitude   longitude         Date_time\n",
      "0  10/10/1949 20:30            san marcos    tx      us  cylinder              2700.0           45 minutes  This event took place in early fall around 194...   4/27/2004  29.883056  -97.941111  10/10/1949 20:30\n",
      "1  10/10/1949 21:00          lackland afb    tx     NaN     light              7200.0              1-2 hrs  1949 Lackland AFB&#44 TX.  Lights racing acros...  12/16/2005  29.384210  -98.581082  10/10/1949 21:00\n",
      "2  10/10/1955 17:00  chester (uk/england)   NaN      gb    circle                20.0           20 seconds  Green/Orange circular disc over Chester&#44 En...   1/21/2008  53.200000   -2.916667  10/10/1955 17:00\n",
      "3  10/10/1956 21:00                  edna    tx      us    circle                20.0             1/2 hour  My older brother and twin sister were leaving ...   1/17/2004  28.978333  -96.645833  10/10/1956 21:00\n",
      "4  10/10/1960 20:00               kaneohe    hi      us     light               900.0           15 minutes  AS a Marine 1st Lt. flying an FJ4B fighter/att...   1/22/2004  21.418056 -157.803611  10/10/1960 20:00\n",
      "\n",
      "Sighting days of the unidentified flying object (ufo) between 1949-10-10 and 1960-10-10:\n",
      "Empty DataFrame\n",
      "Columns: [datetime, city, state, country, shape, duration (seconds), duration (hours/min), comments, date posted, latitude, longitude, Date_time]\n",
      "Index: []\n"
     ]
    }
   ],
   "source": [
    "import pandas as pd\n",
    "df = pd.read_csv(r'complete.csv')\n",
    "df['Date_time'] = df['datetime']#.astype('datetime64[ns]')\n",
    "print(\"Original Dataframe:\")\n",
    "print(df.head())\n",
    "print(\"\\nSighting days of the unidentified flying object (ufo) between 1949-10-10 and 1960-10-10:\")\n",
    "selected_period = df[(df['Date_time'] >= '1950-01-01 00:00:00') & (df['Date_time'] <= '1960-12-31 23:59:59')]\n",
    "print(selected_period)"
   ]
  },
  {
   "cell_type": "code",
   "execution_count": null,
   "metadata": {},
   "outputs": [],
   "source": [
    "#Q132. Write a Pandas program to extract the year, month, day, hour,  minute, second, and weekday \n",
    "# from unidentified flying object (UFO)  reporting date. "
   ]
  },
  {
   "cell_type": "code",
   "execution_count": 252,
   "metadata": {},
   "outputs": [
    {
     "name": "stdout",
     "output_type": "stream",
     "text": [
      "Original Dataframe:\n",
      "           datetime                  city state country     shape  duration (seconds) duration (hours/min)                                           comments date posted   latitude   longitude         Date_time\n",
      "0  10/10/1949 20:30            san marcos    tx      us  cylinder              2700.0           45 minutes  This event took place in early fall around 194...   4/27/2004  29.883056  -97.941111  10/10/1949 20:30\n",
      "1  10/10/1949 21:00          lackland afb    tx     NaN     light              7200.0              1-2 hrs  1949 Lackland AFB&#44 TX.  Lights racing acros...  12/16/2005  29.384210  -98.581082  10/10/1949 21:00\n",
      "2  10/10/1955 17:00  chester (uk/england)   NaN      gb    circle                20.0           20 seconds  Green/Orange circular disc over Chester&#44 En...   1/21/2008  53.200000   -2.916667  10/10/1955 17:00\n",
      "3  10/10/1956 21:00                  edna    tx      us    circle                20.0             1/2 hour  My older brother and twin sister were leaving ...   1/17/2004  28.978333  -96.645833  10/10/1956 21:00\n",
      "4  10/10/1960 20:00               kaneohe    hi      us     light               900.0           15 minutes  AS a Marine 1st Lt. flying an FJ4B fighter/att...   1/22/2004  21.418056 -157.803611  10/10/1960 20:00\n",
      "\n",
      "Year:\n"
     ]
    },
    {
     "ename": "AttributeError",
     "evalue": "'Series' object has no attribute 'year'",
     "output_type": "error",
     "traceback": [
      "\u001b[1;31m---------------------------------------------------------------------------\u001b[0m",
      "\u001b[1;31mAttributeError\u001b[0m                            Traceback (most recent call last)",
      "\u001b[1;32m<ipython-input-252-8e89b34e6883>\u001b[0m in \u001b[0;36m<module>\u001b[1;34m\u001b[0m\n\u001b[0;32m      5\u001b[0m \u001b[0mprint\u001b[0m\u001b[1;33m(\u001b[0m\u001b[0mdf\u001b[0m\u001b[1;33m.\u001b[0m\u001b[0mhead\u001b[0m\u001b[1;33m(\u001b[0m\u001b[1;33m)\u001b[0m\u001b[1;33m)\u001b[0m\u001b[1;33m\u001b[0m\u001b[1;33m\u001b[0m\u001b[0m\n\u001b[0;32m      6\u001b[0m \u001b[0mprint\u001b[0m\u001b[1;33m(\u001b[0m\u001b[1;34m\"\\nYear:\"\u001b[0m\u001b[1;33m)\u001b[0m\u001b[1;33m\u001b[0m\u001b[1;33m\u001b[0m\u001b[0m\n\u001b[1;32m----> 7\u001b[1;33m \u001b[0mprint\u001b[0m\u001b[1;33m(\u001b[0m\u001b[0mdf\u001b[0m\u001b[1;33m.\u001b[0m\u001b[0mDate_time\u001b[0m\u001b[1;33m.\u001b[0m\u001b[0myear\u001b[0m\u001b[1;33m.\u001b[0m\u001b[0mhead\u001b[0m\u001b[1;33m(\u001b[0m\u001b[1;33m)\u001b[0m\u001b[1;33m)\u001b[0m\u001b[1;33m\u001b[0m\u001b[1;33m\u001b[0m\u001b[0m\n\u001b[0m\u001b[0;32m      8\u001b[0m \u001b[0mprint\u001b[0m\u001b[1;33m(\u001b[0m\u001b[1;34m\"\\nMonth:\"\u001b[0m\u001b[1;33m)\u001b[0m\u001b[1;33m\u001b[0m\u001b[1;33m\u001b[0m\u001b[0m\n\u001b[0;32m      9\u001b[0m \u001b[0mprint\u001b[0m\u001b[1;33m(\u001b[0m\u001b[0mdf\u001b[0m\u001b[1;33m.\u001b[0m\u001b[0mDate_time\u001b[0m\u001b[1;33m.\u001b[0m\u001b[0mdt\u001b[0m\u001b[1;33m.\u001b[0m\u001b[0mmonth\u001b[0m\u001b[1;33m.\u001b[0m\u001b[0mhead\u001b[0m\u001b[1;33m(\u001b[0m\u001b[1;33m)\u001b[0m\u001b[1;33m)\u001b[0m\u001b[1;33m\u001b[0m\u001b[1;33m\u001b[0m\u001b[0m\n",
      "\u001b[1;32m~\\Anaconda3\\lib\\site-packages\\pandas\\core\\generic.py\u001b[0m in \u001b[0;36m__getattr__\u001b[1;34m(self, name)\u001b[0m\n\u001b[0;32m   5177\u001b[0m             \u001b[1;32mif\u001b[0m \u001b[0mself\u001b[0m\u001b[1;33m.\u001b[0m\u001b[0m_info_axis\u001b[0m\u001b[1;33m.\u001b[0m\u001b[0m_can_hold_identifiers_and_holds_name\u001b[0m\u001b[1;33m(\u001b[0m\u001b[0mname\u001b[0m\u001b[1;33m)\u001b[0m\u001b[1;33m:\u001b[0m\u001b[1;33m\u001b[0m\u001b[1;33m\u001b[0m\u001b[0m\n\u001b[0;32m   5178\u001b[0m                 \u001b[1;32mreturn\u001b[0m \u001b[0mself\u001b[0m\u001b[1;33m[\u001b[0m\u001b[0mname\u001b[0m\u001b[1;33m]\u001b[0m\u001b[1;33m\u001b[0m\u001b[1;33m\u001b[0m\u001b[0m\n\u001b[1;32m-> 5179\u001b[1;33m             \u001b[1;32mreturn\u001b[0m \u001b[0mobject\u001b[0m\u001b[1;33m.\u001b[0m\u001b[0m__getattribute__\u001b[0m\u001b[1;33m(\u001b[0m\u001b[0mself\u001b[0m\u001b[1;33m,\u001b[0m \u001b[0mname\u001b[0m\u001b[1;33m)\u001b[0m\u001b[1;33m\u001b[0m\u001b[1;33m\u001b[0m\u001b[0m\n\u001b[0m\u001b[0;32m   5180\u001b[0m \u001b[1;33m\u001b[0m\u001b[0m\n\u001b[0;32m   5181\u001b[0m     \u001b[1;32mdef\u001b[0m \u001b[0m__setattr__\u001b[0m\u001b[1;33m(\u001b[0m\u001b[0mself\u001b[0m\u001b[1;33m,\u001b[0m \u001b[0mname\u001b[0m\u001b[1;33m,\u001b[0m \u001b[0mvalue\u001b[0m\u001b[1;33m)\u001b[0m\u001b[1;33m:\u001b[0m\u001b[1;33m\u001b[0m\u001b[1;33m\u001b[0m\u001b[0m\n",
      "\u001b[1;31mAttributeError\u001b[0m: 'Series' object has no attribute 'year'"
     ]
    }
   ],
   "source": [
    "import pandas as pd\n",
    "df = pd.read_csv(r'complete.csv')\n",
    "df['Date_time'] = df['datetime']#.astype('datetime64[ns]')\n",
    "print(\"Original Dataframe:\")\n",
    "print(df.head())\n",
    "print(\"\\nYear:\")\n",
    "print(df.Date_time.dt.year.head())\n",
    "print(\"\\nMonth:\")\n",
    "print(df.Date_time.dt.month.head())\n",
    "print(\"\\nDay:\")\n",
    "print(df.Date_time.dt.day.head())\n",
    "print(\"\\nHour:\")\n",
    "print(df.Date_time.dt.hour.head())\n",
    "print(\"\\nMinute:\")\n",
    "print(df.Date_time.dt.minute.head())\n",
    "print(\"\\nSecond:\")\n",
    "print(df.Date_time.dt.second.head())\n",
    "print(\"\\nWeekday:\")\n",
    "print(df.Date_time.dt.weekday_name.head())"
   ]
  },
  {
   "cell_type": "code",
   "execution_count": null,
   "metadata": {},
   "outputs": [],
   "source": [
    "# Q133. Write a pandas program to count year-country wise frequency of \n",
    "# reporting dates of the unidentified flying object(UFO). "
   ]
  },
  {
   "cell_type": "code",
   "execution_count": null,
   "metadata": {},
   "outputs": [],
   "source": [
    "import pandas as pd\n",
    "df = pd.read_csv(r'ufo.csv')\n",
    "df['Date_time'] = df['Date_time'].astype('datetime64[ns]')\n",
    "print(\"Original Dataframe:\")\n",
    "print(df.head())\n",
    "df['Year'] = df['Date_time'].apply(lambda x: \"%d\" % (x.year))\n",
    "result = df.groupby(['Year', 'country']).size()\n",
    "print(\"\\nCountry-year wise frequency of reporting dates of UFO:\")\n",
    "print(result)"
   ]
  },
  {
   "cell_type": "code",
   "execution_count": null,
   "metadata": {},
   "outputs": [],
   "source": [
    "# Q134.  Write a pandas program to get the difference (in days) between  \n",
    " documented date and reporting date of unidentified flying object   (UFO).   "
   ]
  },
  {
   "cell_type": "code",
   "execution_count": null,
   "metadata": {},
   "outputs": [],
   "source": [
    "import pandas as pd\n",
    "df = pd.read_csv(r'ufo.csv')\n",
    "df['Date_time'] = df['Date_time'].astype('datetime64[ns]')\n",
    "df['date_documented'] = df['date_documented'].astype('datetime64[ns]')\n",
    "print(\"Original Dataframe:\")\n",
    "print(df.head())\n",
    "print(\"\\nDifference (in days) between documented date and reporting date of UFO:\")\n",
    "df['Difference'] = (df['date_documented'] - df['Date_time']).dt.days\n",
    "print(df)"
   ]
  },
  {
   "cell_type": "code",
   "execution_count": null,
   "metadata": {},
   "outputs": [],
   "source": [
    "# Q135. Write a pandas program to generate sequences of fixed-  frequency dates and time spans"
   ]
  },
  {
   "cell_type": "code",
   "execution_count": 253,
   "metadata": {},
   "outputs": [
    {
     "name": "stdout",
     "output_type": "stream",
     "text": [
      "Hourly frequency:\n",
      "DatetimeIndex(['2018-01-01 00:00:00', '2018-01-01 01:00:00', '2018-01-01 02:00:00', '2018-01-01 03:00:00', '2018-01-01 04:00:00', '2018-01-01 05:00:00', '2018-01-01 06:00:00', '2018-01-01 07:00:00', '2018-01-01 08:00:00', '2018-01-01 09:00:00', '2018-01-01 10:00:00', '2018-01-01 11:00:00'], dtype='datetime64[ns]', freq='H')\n",
      "\n",
      "Minutely frequency:\n",
      "DatetimeIndex(['2018-01-01 00:00:00', '2018-01-01 00:01:00', '2018-01-01 00:02:00', '2018-01-01 00:03:00', '2018-01-01 00:04:00', '2018-01-01 00:05:00', '2018-01-01 00:06:00', '2018-01-01 00:07:00', '2018-01-01 00:08:00', '2018-01-01 00:09:00', '2018-01-01 00:10:00', '2018-01-01 00:11:00'], dtype='datetime64[ns]', freq='T')\n",
      "\n",
      "Secondly frequency:\n",
      "DatetimeIndex(['2018-01-01 00:00:00', '2018-01-01 00:00:01', '2018-01-01 00:00:02', '2018-01-01 00:00:03', '2018-01-01 00:00:04', '2018-01-01 00:00:05', '2018-01-01 00:00:06', '2018-01-01 00:00:07', '2018-01-01 00:00:08', '2018-01-01 00:00:09', '2018-01-01 00:00:10', '2018-01-01 00:00:11'], dtype='datetime64[ns]', freq='S')\n",
      "nMultiple Hourly frequency:\n",
      "DatetimeIndex(['2018-01-01 00:00:00', '2018-01-01 02:00:00', '2018-01-01 04:00:00', '2018-01-01 06:00:00', '2018-01-01 08:00:00', '2018-01-01 10:00:00', '2018-01-01 12:00:00', '2018-01-01 14:00:00', '2018-01-01 16:00:00', '2018-01-01 18:00:00', '2018-01-01 20:00:00', '2018-01-01 22:00:00'], dtype='datetime64[ns]', freq='2H')\n",
      "\n",
      "Multiple Minutely frequency:\n",
      "DatetimeIndex(['2018-01-01 00:00:00', '2018-01-01 00:05:00', '2018-01-01 00:10:00', '2018-01-01 00:15:00', '2018-01-01 00:20:00', '2018-01-01 00:25:00', '2018-01-01 00:30:00', '2018-01-01 00:35:00', '2018-01-01 00:40:00', '2018-01-01 00:45:00', '2018-01-01 00:50:00', '2018-01-01 00:55:00'], dtype='datetime64[ns]', freq='5T')\n",
      "\n",
      "Multiple Secondly frequency:\n",
      "DatetimeIndex(['2018-03-30', '2018-06-29', '2018-09-28', '2018-12-31', '2019-03-29', '2019-06-28', '2019-09-30', '2019-12-31', '2020-03-31', '2020-06-30', '2020-09-30', '2020-12-31'], dtype='datetime64[ns]', freq='BQ-DEC')\n",
      "\n",
      "Weekly frequency:\n",
      "DatetimeIndex(['2018-01-07', '2018-01-14', '2018-01-21', '2018-01-28', '2018-02-04', '2018-02-11', '2018-02-18', '2018-02-25', '2018-03-04', '2018-03-11', '2018-03-18', '2018-03-25'], dtype='datetime64[ns]', freq='W-SUN')\n",
      "\n",
      "Combine together day and intraday offsets-1:\n",
      "DatetimeIndex(['2018-01-01 00:00:00', '2018-01-01 02:20:00', '2018-01-01 04:40:00', '2018-01-01 07:00:00', '2018-01-01 09:20:00', '2018-01-01 11:40:00', '2018-01-01 14:00:00', '2018-01-01 16:20:00', '2018-01-01 18:40:00', '2018-01-01 21:00:00', '2018-01-01 23:20:00', '2018-01-02 01:40:00'], dtype='datetime64[ns]', freq='140T')\n",
      "\n",
      "Combine together day and intraday offsets-2:\n",
      "DatetimeIndex(['2018-01-01 00:00:00', '2018-01-02 00:00:00.000010', '2018-01-03 00:00:00.000020', '2018-01-04 00:00:00.000030', '2018-01-05 00:00:00.000040', '2018-01-06 00:00:00.000050', '2018-01-07 00:00:00.000060', '2018-01-08 00:00:00.000070', '2018-01-09 00:00:00.000080', '2018-01-10 00:00:00.000090', '2018-01-11 00:00:00.000100', '2018-01-12 00:00:00.000110'], dtype='datetime64[ns]', freq='86400000010U')\n"
     ]
    }
   ],
   "source": [
    "import pandas as pd\n",
    "dtr = pd.date_range('2018-01-01', periods=12, freq='H')\n",
    "print(\"Hourly frequency:\")\n",
    "print(dtr)\n",
    "dtr = pd.date_range('2018-01-01', periods=12, freq='min')\n",
    "print(\"\\nMinutely frequency:\")\n",
    "print(dtr)\n",
    "dtr = pd.date_range('2018-01-01', periods=12, freq='S')\n",
    "print(\"\\nSecondly frequency:\")\n",
    "print(dtr)\n",
    "dtr = pd.date_range('2018-01-01', periods=12, freq='2H')\n",
    "print(\"nMultiple Hourly frequency:\")\n",
    "print(dtr)\n",
    "dtr = pd.date_range('2018-01-01', periods=12, freq='5min')\n",
    "print(\"\\nMultiple Minutely frequency:\")\n",
    "print(dtr)\n",
    "dtr = pd.date_range('2018-01-01', periods=12, freq='BQ')\n",
    "print(\"\\nMultiple Secondly frequency:\")\n",
    "print(dtr)\n",
    "dtr = pd.date_range('2018-01-01', periods=12, freq='w')\n",
    "print(\"\\nWeekly frequency:\")\n",
    "print(dtr)\n",
    "dtr = pd.date_range('2018-01-01', periods=12, freq='2h20min')\n",
    "print(\"\\nCombine together day and intraday offsets-1:\")\n",
    "print(dtr)\n",
    "dtr = pd.date_range('2018-01-01', periods=12, freq='1D10U')\n",
    "print(\"\\nCombine together day and intraday offsets-2:\")\n",
    "print(dtr)"
   ]
  },
  {
   "cell_type": "code",
   "execution_count": null,
   "metadata": {},
   "outputs": [],
   "source": [
    "# Q136. Write a pandas program to manipulate and convert date times   with timezone information.  "
   ]
  },
  {
   "cell_type": "code",
   "execution_count": 254,
   "metadata": {},
   "outputs": [
    {
     "name": "stdout",
     "output_type": "stream",
     "text": [
      "DatetimeIndex(['2018-01-01 00:00:00+00:00', '2018-01-01 01:00:00+00:00', '2018-01-01 02:00:00+00:00'], dtype='datetime64[ns, UTC]', freq='H')\n",
      "\n",
      "From UTC to America/Los_Angeles:\n",
      "DatetimeIndex(['2017-12-31 16:00:00-08:00', '2017-12-31 17:00:00-08:00', '2017-12-31 18:00:00-08:00'], dtype='datetime64[ns, America/Los_Angeles]', freq='H')\n"
     ]
    }
   ],
   "source": [
    "import pandas as pd\n",
    "dtt = pd.date_range('2018-01-01', periods=3, freq='H')\n",
    "dtt = dtt.tz_localize('UTC')\n",
    "print(dtt)\n",
    "print(\"\\nFrom UTC to America/Los_Angeles:\")\n",
    "dtt = dtt.tz_convert('America/Los_Angeles')\n",
    "print(dtt)"
   ]
  },
  {
   "cell_type": "code",
   "execution_count": null,
   "metadata": {},
   "outputs": [],
   "source": [
    "# Q137. Write a pandas program to create the graphical analysis of UFO   (unidentified flying object)   Sightings year. "
   ]
  },
  {
   "cell_type": "code",
   "execution_count": 255,
   "metadata": {},
   "outputs": [
    {
     "ename": "FileNotFoundError",
     "evalue": "[Errno 2] File b'ufo.csv' does not exist: b'ufo.csv'",
     "output_type": "error",
     "traceback": [
      "\u001b[1;31m---------------------------------------------------------------------------\u001b[0m",
      "\u001b[1;31mFileNotFoundError\u001b[0m                         Traceback (most recent call last)",
      "\u001b[1;32m<ipython-input-255-15c904a0378b>\u001b[0m in \u001b[0;36m<module>\u001b[1;34m\u001b[0m\n\u001b[0;32m      2\u001b[0m \u001b[1;32mimport\u001b[0m \u001b[0mmatplotlib\u001b[0m\u001b[1;33m.\u001b[0m\u001b[0mpyplot\u001b[0m \u001b[1;32mas\u001b[0m \u001b[0mplt\u001b[0m\u001b[1;33m\u001b[0m\u001b[1;33m\u001b[0m\u001b[0m\n\u001b[0;32m      3\u001b[0m \u001b[1;32mimport\u001b[0m \u001b[0mseaborn\u001b[0m \u001b[1;32mas\u001b[0m \u001b[0msns\u001b[0m\u001b[1;33m\u001b[0m\u001b[1;33m\u001b[0m\u001b[0m\n\u001b[1;32m----> 4\u001b[1;33m \u001b[0mdf\u001b[0m \u001b[1;33m=\u001b[0m \u001b[0mpd\u001b[0m\u001b[1;33m.\u001b[0m\u001b[0mread_csv\u001b[0m\u001b[1;33m(\u001b[0m\u001b[1;34mr'ufo.csv'\u001b[0m\u001b[1;33m)\u001b[0m\u001b[1;33m\u001b[0m\u001b[1;33m\u001b[0m\u001b[0m\n\u001b[0m\u001b[0;32m      5\u001b[0m \u001b[0mdf\u001b[0m\u001b[1;33m[\u001b[0m\u001b[1;34m'Date_time'\u001b[0m\u001b[1;33m]\u001b[0m \u001b[1;33m=\u001b[0m \u001b[0mdf\u001b[0m\u001b[1;33m[\u001b[0m\u001b[1;34m'Date_time'\u001b[0m\u001b[1;33m]\u001b[0m\u001b[1;33m.\u001b[0m\u001b[0mastype\u001b[0m\u001b[1;33m(\u001b[0m\u001b[1;34m'datetime64[ns]'\u001b[0m\u001b[1;33m)\u001b[0m\u001b[1;33m\u001b[0m\u001b[1;33m\u001b[0m\u001b[0m\n\u001b[0;32m      6\u001b[0m \u001b[0mdf\u001b[0m\u001b[1;33m[\u001b[0m\u001b[1;34m\"ufo_yr\"\u001b[0m\u001b[1;33m]\u001b[0m \u001b[1;33m=\u001b[0m \u001b[0mdf\u001b[0m\u001b[1;33m.\u001b[0m\u001b[0mDate_time\u001b[0m\u001b[1;33m.\u001b[0m\u001b[0mdt\u001b[0m\u001b[1;33m.\u001b[0m\u001b[0myear\u001b[0m\u001b[1;33m\u001b[0m\u001b[1;33m\u001b[0m\u001b[0m\n",
      "\u001b[1;32m~\\Anaconda3\\lib\\site-packages\\pandas\\io\\parsers.py\u001b[0m in \u001b[0;36mparser_f\u001b[1;34m(filepath_or_buffer, sep, delimiter, header, names, index_col, usecols, squeeze, prefix, mangle_dupe_cols, dtype, engine, converters, true_values, false_values, skipinitialspace, skiprows, skipfooter, nrows, na_values, keep_default_na, na_filter, verbose, skip_blank_lines, parse_dates, infer_datetime_format, keep_date_col, date_parser, dayfirst, cache_dates, iterator, chunksize, compression, thousands, decimal, lineterminator, quotechar, quoting, doublequote, escapechar, comment, encoding, dialect, error_bad_lines, warn_bad_lines, delim_whitespace, low_memory, memory_map, float_precision)\u001b[0m\n\u001b[0;32m    683\u001b[0m         )\n\u001b[0;32m    684\u001b[0m \u001b[1;33m\u001b[0m\u001b[0m\n\u001b[1;32m--> 685\u001b[1;33m         \u001b[1;32mreturn\u001b[0m \u001b[0m_read\u001b[0m\u001b[1;33m(\u001b[0m\u001b[0mfilepath_or_buffer\u001b[0m\u001b[1;33m,\u001b[0m \u001b[0mkwds\u001b[0m\u001b[1;33m)\u001b[0m\u001b[1;33m\u001b[0m\u001b[1;33m\u001b[0m\u001b[0m\n\u001b[0m\u001b[0;32m    686\u001b[0m \u001b[1;33m\u001b[0m\u001b[0m\n\u001b[0;32m    687\u001b[0m     \u001b[0mparser_f\u001b[0m\u001b[1;33m.\u001b[0m\u001b[0m__name__\u001b[0m \u001b[1;33m=\u001b[0m \u001b[0mname\u001b[0m\u001b[1;33m\u001b[0m\u001b[1;33m\u001b[0m\u001b[0m\n",
      "\u001b[1;32m~\\Anaconda3\\lib\\site-packages\\pandas\\io\\parsers.py\u001b[0m in \u001b[0;36m_read\u001b[1;34m(filepath_or_buffer, kwds)\u001b[0m\n\u001b[0;32m    455\u001b[0m \u001b[1;33m\u001b[0m\u001b[0m\n\u001b[0;32m    456\u001b[0m     \u001b[1;31m# Create the parser.\u001b[0m\u001b[1;33m\u001b[0m\u001b[1;33m\u001b[0m\u001b[1;33m\u001b[0m\u001b[0m\n\u001b[1;32m--> 457\u001b[1;33m     \u001b[0mparser\u001b[0m \u001b[1;33m=\u001b[0m \u001b[0mTextFileReader\u001b[0m\u001b[1;33m(\u001b[0m\u001b[0mfp_or_buf\u001b[0m\u001b[1;33m,\u001b[0m \u001b[1;33m**\u001b[0m\u001b[0mkwds\u001b[0m\u001b[1;33m)\u001b[0m\u001b[1;33m\u001b[0m\u001b[1;33m\u001b[0m\u001b[0m\n\u001b[0m\u001b[0;32m    458\u001b[0m \u001b[1;33m\u001b[0m\u001b[0m\n\u001b[0;32m    459\u001b[0m     \u001b[1;32mif\u001b[0m \u001b[0mchunksize\u001b[0m \u001b[1;32mor\u001b[0m \u001b[0miterator\u001b[0m\u001b[1;33m:\u001b[0m\u001b[1;33m\u001b[0m\u001b[1;33m\u001b[0m\u001b[0m\n",
      "\u001b[1;32m~\\Anaconda3\\lib\\site-packages\\pandas\\io\\parsers.py\u001b[0m in \u001b[0;36m__init__\u001b[1;34m(self, f, engine, **kwds)\u001b[0m\n\u001b[0;32m    893\u001b[0m             \u001b[0mself\u001b[0m\u001b[1;33m.\u001b[0m\u001b[0moptions\u001b[0m\u001b[1;33m[\u001b[0m\u001b[1;34m\"has_index_names\"\u001b[0m\u001b[1;33m]\u001b[0m \u001b[1;33m=\u001b[0m \u001b[0mkwds\u001b[0m\u001b[1;33m[\u001b[0m\u001b[1;34m\"has_index_names\"\u001b[0m\u001b[1;33m]\u001b[0m\u001b[1;33m\u001b[0m\u001b[1;33m\u001b[0m\u001b[0m\n\u001b[0;32m    894\u001b[0m \u001b[1;33m\u001b[0m\u001b[0m\n\u001b[1;32m--> 895\u001b[1;33m         \u001b[0mself\u001b[0m\u001b[1;33m.\u001b[0m\u001b[0m_make_engine\u001b[0m\u001b[1;33m(\u001b[0m\u001b[0mself\u001b[0m\u001b[1;33m.\u001b[0m\u001b[0mengine\u001b[0m\u001b[1;33m)\u001b[0m\u001b[1;33m\u001b[0m\u001b[1;33m\u001b[0m\u001b[0m\n\u001b[0m\u001b[0;32m    896\u001b[0m \u001b[1;33m\u001b[0m\u001b[0m\n\u001b[0;32m    897\u001b[0m     \u001b[1;32mdef\u001b[0m \u001b[0mclose\u001b[0m\u001b[1;33m(\u001b[0m\u001b[0mself\u001b[0m\u001b[1;33m)\u001b[0m\u001b[1;33m:\u001b[0m\u001b[1;33m\u001b[0m\u001b[1;33m\u001b[0m\u001b[0m\n",
      "\u001b[1;32m~\\Anaconda3\\lib\\site-packages\\pandas\\io\\parsers.py\u001b[0m in \u001b[0;36m_make_engine\u001b[1;34m(self, engine)\u001b[0m\n\u001b[0;32m   1133\u001b[0m     \u001b[1;32mdef\u001b[0m \u001b[0m_make_engine\u001b[0m\u001b[1;33m(\u001b[0m\u001b[0mself\u001b[0m\u001b[1;33m,\u001b[0m \u001b[0mengine\u001b[0m\u001b[1;33m=\u001b[0m\u001b[1;34m\"c\"\u001b[0m\u001b[1;33m)\u001b[0m\u001b[1;33m:\u001b[0m\u001b[1;33m\u001b[0m\u001b[1;33m\u001b[0m\u001b[0m\n\u001b[0;32m   1134\u001b[0m         \u001b[1;32mif\u001b[0m \u001b[0mengine\u001b[0m \u001b[1;33m==\u001b[0m \u001b[1;34m\"c\"\u001b[0m\u001b[1;33m:\u001b[0m\u001b[1;33m\u001b[0m\u001b[1;33m\u001b[0m\u001b[0m\n\u001b[1;32m-> 1135\u001b[1;33m             \u001b[0mself\u001b[0m\u001b[1;33m.\u001b[0m\u001b[0m_engine\u001b[0m \u001b[1;33m=\u001b[0m \u001b[0mCParserWrapper\u001b[0m\u001b[1;33m(\u001b[0m\u001b[0mself\u001b[0m\u001b[1;33m.\u001b[0m\u001b[0mf\u001b[0m\u001b[1;33m,\u001b[0m \u001b[1;33m**\u001b[0m\u001b[0mself\u001b[0m\u001b[1;33m.\u001b[0m\u001b[0moptions\u001b[0m\u001b[1;33m)\u001b[0m\u001b[1;33m\u001b[0m\u001b[1;33m\u001b[0m\u001b[0m\n\u001b[0m\u001b[0;32m   1136\u001b[0m         \u001b[1;32melse\u001b[0m\u001b[1;33m:\u001b[0m\u001b[1;33m\u001b[0m\u001b[1;33m\u001b[0m\u001b[0m\n\u001b[0;32m   1137\u001b[0m             \u001b[1;32mif\u001b[0m \u001b[0mengine\u001b[0m \u001b[1;33m==\u001b[0m \u001b[1;34m\"python\"\u001b[0m\u001b[1;33m:\u001b[0m\u001b[1;33m\u001b[0m\u001b[1;33m\u001b[0m\u001b[0m\n",
      "\u001b[1;32m~\\Anaconda3\\lib\\site-packages\\pandas\\io\\parsers.py\u001b[0m in \u001b[0;36m__init__\u001b[1;34m(self, src, **kwds)\u001b[0m\n\u001b[0;32m   1915\u001b[0m         \u001b[0mkwds\u001b[0m\u001b[1;33m[\u001b[0m\u001b[1;34m\"usecols\"\u001b[0m\u001b[1;33m]\u001b[0m \u001b[1;33m=\u001b[0m \u001b[0mself\u001b[0m\u001b[1;33m.\u001b[0m\u001b[0musecols\u001b[0m\u001b[1;33m\u001b[0m\u001b[1;33m\u001b[0m\u001b[0m\n\u001b[0;32m   1916\u001b[0m \u001b[1;33m\u001b[0m\u001b[0m\n\u001b[1;32m-> 1917\u001b[1;33m         \u001b[0mself\u001b[0m\u001b[1;33m.\u001b[0m\u001b[0m_reader\u001b[0m \u001b[1;33m=\u001b[0m \u001b[0mparsers\u001b[0m\u001b[1;33m.\u001b[0m\u001b[0mTextReader\u001b[0m\u001b[1;33m(\u001b[0m\u001b[0msrc\u001b[0m\u001b[1;33m,\u001b[0m \u001b[1;33m**\u001b[0m\u001b[0mkwds\u001b[0m\u001b[1;33m)\u001b[0m\u001b[1;33m\u001b[0m\u001b[1;33m\u001b[0m\u001b[0m\n\u001b[0m\u001b[0;32m   1918\u001b[0m         \u001b[0mself\u001b[0m\u001b[1;33m.\u001b[0m\u001b[0munnamed_cols\u001b[0m \u001b[1;33m=\u001b[0m \u001b[0mself\u001b[0m\u001b[1;33m.\u001b[0m\u001b[0m_reader\u001b[0m\u001b[1;33m.\u001b[0m\u001b[0munnamed_cols\u001b[0m\u001b[1;33m\u001b[0m\u001b[1;33m\u001b[0m\u001b[0m\n\u001b[0;32m   1919\u001b[0m \u001b[1;33m\u001b[0m\u001b[0m\n",
      "\u001b[1;32mpandas\\_libs\\parsers.pyx\u001b[0m in \u001b[0;36mpandas._libs.parsers.TextReader.__cinit__\u001b[1;34m()\u001b[0m\n",
      "\u001b[1;32mpandas\\_libs\\parsers.pyx\u001b[0m in \u001b[0;36mpandas._libs.parsers.TextReader._setup_parser_source\u001b[1;34m()\u001b[0m\n",
      "\u001b[1;31mFileNotFoundError\u001b[0m: [Errno 2] File b'ufo.csv' does not exist: b'ufo.csv'"
     ]
    }
   ],
   "source": [
    "import pandas as pd\n",
    "import matplotlib.pyplot as plt\n",
    "import seaborn as sns\n",
    "df = pd.read_csv(r'ufo.csv')\n",
    "df['Date_time'] = df['Date_time'].astype('datetime64[ns]')\n",
    "df[\"ufo_yr\"] = df.Date_time.dt.year\n",
    "years_data = df.ufo_yr.value_counts()\n",
    "years_index = years_data.index  # x ticks\n",
    "years_values = years_data.get_values()\n",
    "plt.figure(figsize=(15,8))\n",
    "plt.xticks(rotation = 60)\n",
    "plt.title('UFO Sightings by Year')\n",
    "plt.xlabel(\"Year\")\n",
    "plt.ylabel(\"Number of reports\")\n",
    "years_plot = sns.barplot(x=years_index[:60],y=years_values[:60], palette = \"Reds\")"
   ]
  },
  {
   "cell_type": "code",
   "execution_count": null,
   "metadata": {},
   "outputs": [],
   "source": [
    "# Q138. Write a pandas program to create a comparison of the top 10   years in which the (UFO) was sighted VS each Month. "
   ]
  },
  {
   "cell_type": "code",
   "execution_count": null,
   "metadata": {},
   "outputs": [],
   "source": [
    "import pandas as pd\n",
    "#Source: https://bit.ly/1l9yjm9\n",
    "df = pd.read_csv(r'ufo.csv')\n",
    "df['Date_time'] = df['Date_time'].astype('datetime64[ns]')\n",
    "most_sightings_years = df['Date_time'].dt.year.value_counts().head(10)\n",
    "def is_top_years(year):\n",
    "   if year in most_sightings_years.index:\n",
    "       return year\n",
    "hour_v_year = df.pivot_table(columns=df['Date_time'].dt.hour,index=df['Date_time'].dt.year.apply(is_top_years),aggfunc='count',values='city')\n",
    "hour_v_year.columns = hour_v_year.columns.astype(int)\n",
    "hour_v_year.columns = hour_v_year.columns.astype(str) + \":00\"\n",
    "hour_v_year.index = hour_v_year.index.astype(int)\n",
    "print(\"\\nComparison of the top 10 years in which the UFO was sighted vs the hours of the day:\")\n",
    "print(hour_v_year.head(10))"
   ]
  },
  {
   "cell_type": "code",
   "execution_count": null,
   "metadata": {},
   "outputs": [],
   "source": [
    "# Q139. Write a pandas program to create a heatmap (rectangular data as  a colour-encoded matrix) \n",
    "# for comparison of top 10 years in   which  (UFO ) was sighted VS each Month. "
   ]
  },
  {
   "cell_type": "code",
   "execution_count": null,
   "metadata": {},
   "outputs": [],
   "source": [
    "import pandas as pd\n",
    "import matplotlib.pyplot as plt\n",
    "import seaborn as sns\n",
    "#Source: https://bit.ly/1l9yjm9\n",
    "df = pd.read_csv(r'ufo.csv')\n",
    "df['Date_time'] = df['Date_time'].astype('datetime64[ns]')\n",
    "most_sightings_years = df['Date_time'].dt.year.value_counts().head(10)\n",
    "def is_top_years(year):\n",
    "   if year in most_sightings_years.index:\n",
    "       return year\n",
    "month_vs_year = df.pivot_table(columns=df['Date_time'].dt.month,index=df['Date_time'].dt.year.apply(is_top_years),aggfunc='count',values='city')\n",
    "month_vs_year.columns = month_vs_year.columns.astype(int)\n",
    "print(\"\\nHeatmap for comparison of the top 10 years in which the UFO was sighted vs each month:\")\n",
    "plt.figure(figsize=(10,8))\n",
    "ax = sns.heatmap(month_vs_year, vmin=0, vmax=4)\n",
    "ax.set_xlabel('Month').set_size(20)\n",
    "ax.set_ylabel('Year').set_size(20)"
   ]
  },
  {
   "cell_type": "code",
   "execution_count": null,
   "metadata": {},
   "outputs": [],
   "source": [
    "# Q140. Write a pandas program to create a Timewheel of Hour VS Year comparison of the top 10 years in which the (UFO) \n",
    "# was sighted.   "
   ]
  },
  {
   "cell_type": "code",
   "execution_count": null,
   "metadata": {},
   "outputs": [],
   "source": [
    "import pandas as pd\n",
    "import matplotlib.pyplot as plt\n",
    "import matplotlib as mpl\n",
    "import matplotlib.cm as cm\n",
    "#Source: https://bit.ly/2XDY2XN\n",
    "df = pd.read_csv(r'ufo.csv')\n",
    "df['Date_time'] = df['Date_time'].astype('datetime64[ns]')\n",
    "most_sightings_years = df['Date_time'].dt.year.value_counts().head(10)\n",
    "def is_top_years(year):\n",
    "   if year in most_sightings_years.index:\n",
    "       return year\n",
    "month_vs_year = df.pivot_table(columns=df['Date_time'].dt.month,index=df['Date_time'].dt.year.apply(is_top_years),aggfunc='count',values='city')\n",
    "month_vs_year.index = month_vs_year.index.astype(int)\n",
    "month_vs_year.columns = month_vs_year.columns.astype(int)\n",
    "print(\"\\nComparison of the top 10 years in which the UFO was sighted vs each month:\")\n",
    "def pie_heatmap(table, cmap='coolwarm_r', vmin=None, vmax=None,inner_r=0.25, pie_args={}):\n",
    "   n, m = table.shape\n",
    "   vmin= table.min().min() if vmin is None else vmin\n",
    "   vmax= table.max().max() if vmax is None else vmax\n",
    "\n",
    "   centre_circle = plt.Circle((0,0),inner_r,edgecolor='black',facecolor='white',fill=True,linewidth=0.25)\n",
    "   plt.gcf().gca().add_artist(centre_circle)\n",
    "   norm = mpl.colors.Normalize(vmin=vmin, vmax=vmax)\n",
    "   cmapper = cm.ScalarMappable(norm=norm, cmap=cmap)\n",
    "\n",
    "   for i, (row_name, row) in enumerate(table.iterrows()):\n",
    "       labels = None if i > 0 else table.columns\n",
    "       wedges = plt.pie([1] * m,radius=inner_r+float(n-i)/n, colors=[cmapper.to_rgba(x) for x in row.values],\n",
    "           labels=labels, startangle=90, counterclock=False, wedgeprops={'linewidth':-1}, **pie_args)\n",
    "       plt.setp(wedges[0], edgecolor='grey',linewidth=1.5)\n",
    "       wedges = plt.pie([1], radius=inner_r+float(n-i-1)/n, colors=['w'], labels=[row_name], startangle=-90, wedgeprops={'linewidth':0})\n",
    "       plt.setp(wedges[0], edgecolor='grey',linewidth=1.5)\n",
    "plt.figure(figsize=(8,8))\n",
    "plt.title(\"Timewheel of Hour Vs Year\",y=1.08,fontsize=30)\n",
    "pie_heatmap(month_vs_year, vmin=-20,vmax=80,inner_r=0.2)"
   ]
  },
  {
   "cell_type": "code",
   "execution_count": null,
   "metadata": {},
   "outputs": [],
   "source": [
    "# Q141. Write a python program to draw the line using given axis values   \n",
    "# with the suitable label in the x-axis, y-axis, and a title.   "
   ]
  },
  {
   "cell_type": "code",
   "execution_count": 256,
   "metadata": {},
   "outputs": [
    {
     "name": "stdout",
     "output_type": "stream",
     "text": [
      "Values of X:\n",
      "1 2 3 4 5 6 7 8 9 10 11 12 13 14 15 16 17 18 19 20 21 22 23 24 25 26 27 28 29 30 31 32 33 34 35 36 37 38 39 40 41 42 43 44 45 46 47 48 49\n",
      "Values of Y (thrice of X):\n",
      "[3, 6, 9, 12, 15, 18, 21, 24, 27, 30, 33, 36, 39, 42, 45, 48, 51, 54, 57, 60, 63, 66, 69, 72, 75, 78, 81, 84, 87, 90, 93, 96, 99, 102, 105, 108, 111, 114, 117, 120, 123, 126, 129, 132, 135, 138, 141, 144, 147]\n"
     ]
    },
    {
     "data": {
      "image/png": "[encoded data removed]",
      "text/plain": [
       "<Figure size 432x288 with 1 Axes>"
      ]
     },
     "metadata": {
      "needs_background": "light"
     },
     "output_type": "display_data"
    }
   ],
   "source": [
    "import matplotlib.pyplot as plt\n",
    "X = range(1, 50)\n",
    "Y = [value * 3 for value in X]\n",
    "print(\"Values of X:\")\n",
    "print(*range(1,50)) \n",
    "print(\"Values of Y (thrice of X):\")\n",
    "print(Y)\n",
    "# Plot lines and/or markers to the Axes.\n",
    "plt.plot(X, Y)\n",
    "# Set the x axis label of the current axis.\n",
    "plt.xlabel('x - axis')\n",
    "# Set the y axis label of the current axis.\n",
    "plt.ylabel('y - axis')\n",
    "# Set a title \n",
    "plt.title('Draw a line.')\n",
    "# Display the figure.\n",
    "plt.show()"
   ]
  },
  {
   "cell_type": "code",
   "execution_count": null,
   "metadata": {},
   "outputs": [],
   "source": [
    "# Q142. Write a python program to draw the line charts of the financial   data of the Alphabet Inc., between October.           3, 2016 to October 7 2016.  Sample Financial data (fdata.csv)- Date,Open,High,Low,Close 10-03-16,774.25,776.065002,769.5,772.559998 10-04-16 , 776.030029, 778.710022,772.890015,776.429993 \n",
    "# 10-05-16 , 779.309998, 782.070007,775.650024,776.469971 10-06-16 , 779 , \n",
    "# 780.47998,775.539978,776.859985 10-07-16,779.659973, 779.659973 , 770.75 , 775.080017 \n",
    "# The code snippet gives the output shown in the screenshot:   "
   ]
  },
  {
   "cell_type": "code",
   "execution_count": 258,
   "metadata": {},
   "outputs": [
    {
     "data": {
      "image/png": "[encoded data removed]",
      "text/plain": [
       "<Figure size 432x288 with 1 Axes>"
      ]
     },
     "metadata": {
      "needs_background": "light"
     },
     "output_type": "display_data"
    }
   ],
   "source": [
    "import matplotlib.pyplot as plt\n",
    "import pandas as pd\n",
    "df = pd.read_csv('fdata.csv', sep=',', parse_dates=True, index_col=0)\n",
    "df.plot()\n",
    "plt.show()"
   ]
  },
  {
   "cell_type": "code",
   "execution_count": null,
   "metadata": {},
   "outputs": [],
   "source": [
    "# Q143. Write a Python program to plot two or more lines on same plot   with the suitable legends of each line"
   ]
  },
  {
   "cell_type": "code",
   "execution_count": 259,
   "metadata": {},
   "outputs": [
    {
     "data": {
      "image/png": "[encoded data removed]",
      "text/plain": [
       "<Figure size 432x288 with 1 Axes>"
      ]
     },
     "metadata": {
      "needs_background": "light"
     },
     "output_type": "display_data"
    }
   ],
   "source": [
    "import matplotlib.pyplot as plt\n",
    "# line 1 points\n",
    "x1 = [10,20,30]\n",
    "y1 = [20,40,10]\n",
    "# plotting the line 1 points \n",
    "plt.plot(x1, y1, label = \"line 1\")\n",
    "# line 2 points\n",
    "x2 = [10,20,30]\n",
    "y2 = [40,10,30]\n",
    "# plotting the line 2 points \n",
    "plt.plot(x2, y2, label = \"line 2\")\n",
    "plt.xlabel('x - axis')\n",
    "# Set the y axis label of the current axis.\n",
    "plt.ylabel('y - axis')\n",
    "# Set a title of the current axes.\n",
    "plt.title('Two or more lines on same plot with suitable legends ')\n",
    "# show a legend on the plot\n",
    "plt.legend()\n",
    "# Display a figure.\n",
    "plt.show()"
   ]
  },
  {
   "cell_type": "code",
   "execution_count": null,
   "metadata": {},
   "outputs": [],
   "source": [
    "# Q144. Write a python programming to display a bar chart of the   popularity of programming languages.   \n",
    "# Sample data: programming languages- Java, Python, PHP, JavaScript, C#, C++ \n",
    "# Popularity- 22.2, 17.6, 8.8, 8, 7.7 , 6.7 The code snippet gives the output shown in the screenshot: "
   ]
  },
  {
   "cell_type": "code",
   "execution_count": 260,
   "metadata": {},
   "outputs": [
    {
     "data": {
      "image/png": "[encoded data removed]",
      "text/plain": [
       "<Figure size 432x288 with 1 Axes>"
      ]
     },
     "metadata": {
      "needs_background": "light"
     },
     "output_type": "display_data"
    }
   ],
   "source": [
    "import matplotlib.pyplot as plt\n",
    "x = ['Java', 'Python', 'PHP', 'JavaScript', 'C#', 'C++']\n",
    "popularity = [22.2, 17.6, 8.8, 8, 7.7, 6.7]\n",
    "x_pos = [i for i, _ in enumerate(x)]\n",
    "\n",
    "plt.bar(x_pos, popularity, color=(0.4, 0.6, 0.8, 1.0), edgecolor='blue')\n",
    "\n",
    "plt.xlabel(\"Languages\")\n",
    "plt.ylabel(\"Popularity\")\n",
    "plt.title(\"PopularitY of Programming Language\\n\" + \"Worldwide, Oct 2017 compared to a year ago\")\n",
    "plt.xticks(x_pos, x)\n",
    "# Turn on the grid\n",
    "plt.minorticks_on()\n",
    "plt.grid(which='major', linestyle='-', linewidth='0.5', color='red')\n",
    "# Customize the minor grid\n",
    "plt.grid(which='minor', linestyle=':', linewidth='0.5', color='black')\n",
    "plt.show()"
   ]
  },
  {
   "cell_type": "code",
   "execution_count": null,
   "metadata": {},
   "outputs": [],
   "source": [
    "# Q145. Write a python programming to display a horizontal bar chart of   the popularity of programming languages.               \n",
    "# Sample data: programming languages- Java, Python, PHP, JavaScript, C#, C++ Popularity- 22.2, 17.6, 8.8, 8, 7.7 , 6.7"
   ]
  },
  {
   "cell_type": "code",
   "execution_count": 261,
   "metadata": {},
   "outputs": [
    {
     "data": {
      "image/png": "[encoded data removed]",
      "text/plain": [
       "<Figure size 432x288 with 1 Axes>"
      ]
     },
     "metadata": {
      "needs_background": "light"
     },
     "output_type": "display_data"
    }
   ],
   "source": [
    "import matplotlib.pyplot as plt\n",
    "x = ['Java', 'Python', 'PHP', 'JS', 'C#', 'C++']\n",
    "popularity = [22.2, 17.6, 8.8, 8, 7.7, 6.7]\n",
    "x_pos = [i for i, _ in enumerate(x)]\n",
    "plt.barh(x_pos, popularity, color='green')\n",
    "plt.xlabel(\"Popularity\")\n",
    "plt.ylabel(\"Languages\")\n",
    "plt.title(\"PopularitY of Programming Language\\n\" + \"Worldwide, Oct 2017 compared to a year ago\")\n",
    "plt.yticks(x_pos, x)\n",
    "# Turn on the grid\n",
    "plt.minorticks_on()\n",
    "plt.grid(which='major', linestyle='-', linewidth='0.5', color='red')\n",
    "# Customize the minor grid\n",
    "plt.grid(which='minor', linestyle=':', linewidth='0.5', color='black')\n",
    "plt.show()"
   ]
  },
  {
   "cell_type": "code",
   "execution_count": null,
   "metadata": {},
   "outputs": [],
   "source": [
    "# Q146.  Write a python programming to display a bar chart of the   Popularity of programming languages. \n",
    "# Increase bottom margin.              \n",
    "# programming languages: Java, Python, PHP, JavaScript, C#, C++ Popularity: 22.2, 17.6, 8.8, 8, 7.7 , 6.7"
   ]
  },
  {
   "cell_type": "code",
   "execution_count": 262,
   "metadata": {},
   "outputs": [
    {
     "data": {
      "image/png": "[encoded data removed]",
      "text/plain": [
       "<Figure size 432x288 with 1 Axes>"
      ]
     },
     "metadata": {
      "needs_background": "light"
     },
     "output_type": "display_data"
    }
   ],
   "source": [
    "import matplotlib.pyplot as plt\n",
    "x = ['Java', 'Python', 'PHP', 'JavaScript', 'C#', 'C++']\n",
    "popularity = [22.2, 17.6, 8.8, 8, 7.7, 6.7]\n",
    "x_pos = [i for i, _ in enumerate(x)]\n",
    "plt.bar(x_pos, popularity, color=(0.4, 0.6, 0.8, 1.0))\n",
    "plt.xlabel(\"Languages\")\n",
    "plt.ylabel(\"Popularity\")\n",
    "plt.title(\"PopularitY of Programming Language\\n\" + \"Worldwide, Oct 2017 compared to a year ago\")\n",
    "# Rotation of the bars names\n",
    "plt.xticks(x_pos, x, rotation=90)\n",
    "# Custom the subplot layout\n",
    "plt.subplots_adjust(bottom=0.4, top=.8)\n",
    "# Turn on the grid\n",
    "plt.minorticks_on()\n",
    "plt.grid(which='major', linestyle='-', linewidth='0.5', color='red')\n",
    "# Customize the minor grid\n",
    "plt.grid(which='minor', linestyle=':', linewidth='0.5', color='black')\n",
    "plt.show()"
   ]
  },
  {
   "cell_type": "code",
   "execution_count": null,
   "metadata": {},
   "outputs": [],
   "source": [
    "# Q147. Write a python program to create the bar plot from a DataFrame.   \n",
    "# a b c  d  e 2 4,8,5,7,6 4 2,3,4,2,6 6 4,7,4,7, 8 8 2,6,4,8, 6 10 2,4,3,3, 2 "
   ]
  },
  {
   "cell_type": "code",
   "execution_count": 263,
   "metadata": {},
   "outputs": [
    {
     "data": {
      "image/png": "[encoded data removed]",
      "text/plain": [
       "<Figure size 432x288 with 1 Axes>"
      ]
     },
     "metadata": {
      "needs_background": "light"
     },
     "output_type": "display_data"
    }
   ],
   "source": [
    "from pandas import DataFrame\n",
    "import matplotlib.pyplot as plt\n",
    "import numpy as np\n",
    "\n",
    "a=np.array([[4,8,5,7,6],[2,3,4,2,6],[4,7,4,7,8],[2,6,4,8,6],[2,4,3,3,2]])\n",
    "df=DataFrame(a, columns=['a','b','c','d','e'], index=[2,4,6,8,10])\n",
    "\n",
    "df.plot(kind='bar')\n",
    "# Turn on the grid\n",
    "plt.minorticks_on()\n",
    "plt.grid(which='major', linestyle='-', linewidth='0.5', color='green')\n",
    "plt.grid(which='minor', linestyle=':', linewidth='0.5', color='black')\n",
    "\n",
    "plt.show()"
   ]
  },
  {
   "cell_type": "code",
   "execution_count": null,
   "metadata": {},
   "outputs": [],
   "source": [
    "# Q148. Write a python program to draw the scatter plot comparing two subject marks of Mathematics and Science. \n",
    "# Use marks of 10 students.               \n",
    "# Sample data: \n",
    "# Test Data- math_marks = [88, 92 , 80, 89, 100, 80, 60, 100, 80, 34]\n",
    "# science_marks = [35, 79, 79 , 48, 100, 88, 32, 45, 20, 30] \n",
    "# marks_range = [10, 20, 30, 40, 50, 60, 70, 80, 90, 100]   "
   ]
  },
  {
   "cell_type": "code",
   "execution_count": 264,
   "metadata": {},
   "outputs": [
    {
     "data": {
      "image/png": "[encoded data removed]",
      "text/plain": [
       "<Figure size 432x288 with 1 Axes>"
      ]
     },
     "metadata": {
      "needs_background": "light"
     },
     "output_type": "display_data"
    }
   ],
   "source": [
    "import matplotlib.pyplot as plt\n",
    "import pandas as pd\n",
    "math_marks = [88, 92, 80, 89, 100, 80, 60, 100, 80, 34]\n",
    "science_marks = [35, 79, 79, 48, 100, 88, 32, 45, 20, 30]\n",
    "marks_range = [10, 20, 30, 40, 50, 60, 70, 80, 90, 100]\n",
    "plt.scatter(marks_range, math_marks, label='Math marks', color='r')\n",
    "plt.scatter(marks_range, science_marks, label='Science marks', color='g')\n",
    "plt.title('Scatter Plot')\n",
    "plt.xlabel('Marks Range')\n",
    "plt.ylabel('Marks Scored')\n",
    "plt.legend()\n",
    "plt.show()"
   ]
  },
  {
   "cell_type": "code",
   "execution_count": null,
   "metadata": {},
   "outputs": [],
   "source": [
    "# Q149. Write a python program to draw the scatter plot for three different groups comparing weights and heights. "
   ]
  },
  {
   "cell_type": "code",
   "execution_count": 278,
   "metadata": {},
   "outputs": [
    {
     "data": {
      "image/png": "[encoded data removed]",
      "text/plain": [
       "<Figure size 432x288 with 1 Axes>"
      ]
     },
     "metadata": {
      "needs_background": "light"
     },
     "output_type": "display_data"
    }
   ],
   "source": [
    "import matplotlib.pyplot as plt\n",
    "import numpy as np \n",
    "weight1=[67,57,59,59,55,61,60,61,56,56]\n",
    "height1=[101,197,98,125,113,157,136,148,125,114] \n",
    "weight2=[61,64,62,64,62,65,62,61,62,63]\n",
    "height2=[152,155,135,125,151,135,182,195,165,125] \n",
    "weight3=[68,67,68,68,71,71,70,70,71,71]\n",
    "height3=[165,170,192,135,161,136,167,235,181,177]\n",
    "weight=np.concatenate((weight1,weight2,weight3))\n",
    "height=np.concatenate((height1,height2,height3))\n",
    "plt.scatter(weight, height, marker='*', color=['r'])\n",
    "plt.xlabel('weight', fontsize=16)\n",
    "plt.ylabel('height', fontsize=16)\n",
    "plt.title('Group wise Weight vs Height scatter plot',fontsize=20)\n",
    "plt.show()"
   ]
  },
  {
   "cell_type": "code",
   "execution_count": null,
   "metadata": {},
   "outputs": [],
   "source": [
    "# Q150. Write a python program to draw a scatter plot to find sea-level  \n",
    "# rise in past 100 years. "
   ]
  },
  {
   "cell_type": "code",
   "execution_count": 13,
   "metadata": {},
   "outputs": [
    {
     "data": {
      "image/png": "[encoded data removed]",
      "text/plain": [
       "<Figure size 432x288 with 1 Axes>"
      ]
     },
     "metadata": {
      "needs_background": "light"
     },
     "output_type": "display_data"
    }
   ],
   "source": [
    "import matplotlib.pyplot as plt\n",
    "import pandas as pd\n",
    "data = pd.read_csv('CSIRO_Alt.csv')\n",
    "year = data['Time']\n",
    "sea_levels = data['GMSL (monthly)']\n",
    "plt.scatter(year, sea_levels, edgecolors='g')\n",
    "plt.xlabel('Year')\n",
    "plt.ylabel('Sea Level (inches)')\n",
    "plt.title('Rise in Sealevel')\n",
    "plt.show()"
   ]
  }
 ],
 "metadata": {
  "kernelspec": {
   "display_name": "Python 3",
   "language": "python",
   "name": "python3"
  },
  "language_info": {
   "codemirror_mode": {
    "name": "ipython",
    "version": 3
   },
   "file_extension": ".py",
   "mimetype": "text/x-python",
   "name": "python",
   "nbconvert_exporter": "python",
   "pygments_lexer": "ipython3",
   "version": "3.7.7"
  }
 },
 "nbformat": 4,
 "nbformat_minor": 2
}
